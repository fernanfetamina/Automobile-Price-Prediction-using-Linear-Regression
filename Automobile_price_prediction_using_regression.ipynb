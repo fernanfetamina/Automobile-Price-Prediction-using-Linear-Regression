{
 "cells": [
  {
   "cell_type": "markdown",
   "id": "0b5511e9",
   "metadata": {},
   "source": [
    "# Aim\n",
    "\n",
    "Our goal is vehicle price prediction using the open source Auto data set from the UCI machine learning repository. In this data set, we have prices for 205 automobiles, along with other features such as fuel type, engine type,engine size,etc."
   ]
  },
  {
   "cell_type": "code",
   "execution_count": 1,
   "id": "ad6c9dde",
   "metadata": {
    "ExecuteTime": {
     "end_time": "2021-12-30T15:36:55.108206Z",
     "start_time": "2021-12-30T15:36:54.209863Z"
    }
   },
   "outputs": [],
   "source": [
    "import pandas as pd\n",
    "import numpy as np\n",
    "import matplotlib.pyplot as plt\n",
    "import seaborn as sns\n",
    "from scipy import stats\n",
    "from sklearn import model_selection\n",
    "from sklearn.linear_model import LinearRegression\n",
    "from sklearn.preprocessing import StandardScaler\n",
    "from matplotlib import pyplot\n",
    "from sklearn.preprocessing import OneHotEncoder\n",
    "from sklearn.linear_model import Ridge , Lasso\n",
    "from sklearn.linear_model import RidgeCV\n",
    "from sklearn.metrics import mean_squared_error, r2_score\n",
    "import warnings\n",
    "warnings.filterwarnings('ignore')"
   ]
  },
  {
   "cell_type": "markdown",
   "id": "6561f145",
   "metadata": {},
   "source": [
    "# About Dataset"
   ]
  },
  {
   "cell_type": "markdown",
   "id": "51ba5535",
   "metadata": {},
   "source": [
    "This data set consists of three types of entities: (a) the specification of an auto in terms of various characteristics, (b) its assigned insurance risk rating, (c) its normalized losses in use as compared to other cars. The second rating corresponds to the degree to which the auto is more risky than its price indicates. Cars are initially assigned a risk factor symbol associated with its price. Then, if it is more risky (or less), this symbol is adjusted by moving it up (or down) the scale. Actuarians call this process \"symboling\". A value of +3 indicates that the auto is risky, -3 that it is probably pretty safe.\n",
    "\n",
    "The third factor is the relative average loss payment per insured vehicle year. This value is normalized for all autos within a particular size classification (two-door small, station wagons, sports/speciality, etc...), and represents the average loss per car per year.\n",
    "\n",
    "Note: Several of the attributes in the database could be used as a \"class\" attribute."
   ]
  },
  {
   "cell_type": "markdown",
   "id": "bc191811",
   "metadata": {},
   "source": [
    "# Attributes:"
   ]
  },
  {
   "cell_type": "markdown",
   "id": "70ddd976",
   "metadata": {},
   "source": [
    "1. symboling: -3, -2, -1, 0, 1, 2, 3.\n",
    "2. normalized-losses: continuous from 65 to 256.\n",
    "3. make:\n",
    "alfa-romero, audi, bmw, chevrolet, dodge, honda,\n",
    "isuzu, jaguar, mazda, mercedes-benz, mercury,\n",
    "mitsubishi, nissan, peugot, plymouth, porsche,\n",
    "renault, saab, subaru, toyota, volkswagen, volvo\n",
    "\n",
    "4. fuel-type: diesel, gas.\n",
    "5. aspiration: std, turbo.\n",
    "6. num-of-doors: four, two.\n",
    "7. body-style: hardtop, wagon, sedan, hatchback, convertible.\n",
    "8. drive-wheels: 4wd, fwd, rwd.\n",
    "9. engine-location: front, rear.\n",
    "10. wheel-base: continuous from 86.6 120.9.\n",
    "11. length: continuous from 141.1 to 208.1.\n",
    "12. width: continuous from 60.3 to 72.3.\n",
    "13. height: continuous from 47.8 to 59.8.\n",
    "14. curb-weight: continuous from 1488 to 4066.\n",
    "15. engine-type: dohc, dohcv, l, ohc, ohcf, ohcv, rotor.\n",
    "16. num-of-cylinders: eight, five, four, six, three, twelve, two.\n",
    "17. engine-size: continuous from 61 to 326.\n",
    "18. fuel-system: 1bbl, 2bbl, 4bbl, idi, mfi, mpfi, spdi, spfi.\n",
    "19. bore: continuous from 2.54 to 3.94.\n",
    "20. stroke: continuous from 2.07 to 4.17.\n",
    "21. compression-ratio: continuous from 7 to 23.\n",
    "22. horsepower: continuous from 48 to 288.\n",
    "23. peak-rpm: continuous from 4150 to 6600.\n",
    "24. city-mpg: continuous from 13 to 49.\n",
    "25. highway-mpg: continuous from 16 to 54.\n",
    "26. price: continuous from 5118 to 45400."
   ]
  },
  {
   "cell_type": "markdown",
   "id": "78c7b41e",
   "metadata": {},
   "source": [
    "# Loading Data"
   ]
  },
  {
   "cell_type": "code",
   "execution_count": 2,
   "id": "1f1c7632",
   "metadata": {
    "ExecuteTime": {
     "end_time": "2021-12-30T15:36:56.393426Z",
     "start_time": "2021-12-30T15:36:56.359997Z"
    }
   },
   "outputs": [
    {
     "data": {
      "text/html": [
       "<div>\n",
       "<style scoped>\n",
       "    .dataframe tbody tr th:only-of-type {\n",
       "        vertical-align: middle;\n",
       "    }\n",
       "\n",
       "    .dataframe tbody tr th {\n",
       "        vertical-align: top;\n",
       "    }\n",
       "\n",
       "    .dataframe thead th {\n",
       "        text-align: right;\n",
       "    }\n",
       "</style>\n",
       "<table border=\"1\" class=\"dataframe\">\n",
       "  <thead>\n",
       "    <tr style=\"text-align: right;\">\n",
       "      <th></th>\n",
       "      <th>0</th>\n",
       "      <th>1</th>\n",
       "      <th>2</th>\n",
       "      <th>3</th>\n",
       "      <th>4</th>\n",
       "      <th>5</th>\n",
       "      <th>6</th>\n",
       "      <th>7</th>\n",
       "      <th>8</th>\n",
       "      <th>9</th>\n",
       "      <th>...</th>\n",
       "      <th>16</th>\n",
       "      <th>17</th>\n",
       "      <th>18</th>\n",
       "      <th>19</th>\n",
       "      <th>20</th>\n",
       "      <th>21</th>\n",
       "      <th>22</th>\n",
       "      <th>23</th>\n",
       "      <th>24</th>\n",
       "      <th>25</th>\n",
       "    </tr>\n",
       "  </thead>\n",
       "  <tbody>\n",
       "    <tr>\n",
       "      <th>0</th>\n",
       "      <td>3</td>\n",
       "      <td>?</td>\n",
       "      <td>alfa-romero</td>\n",
       "      <td>gas</td>\n",
       "      <td>std</td>\n",
       "      <td>two</td>\n",
       "      <td>convertible</td>\n",
       "      <td>rwd</td>\n",
       "      <td>front</td>\n",
       "      <td>88.6</td>\n",
       "      <td>...</td>\n",
       "      <td>130</td>\n",
       "      <td>mpfi</td>\n",
       "      <td>3.47</td>\n",
       "      <td>2.68</td>\n",
       "      <td>9.0</td>\n",
       "      <td>111</td>\n",
       "      <td>5000</td>\n",
       "      <td>21</td>\n",
       "      <td>27</td>\n",
       "      <td>13495</td>\n",
       "    </tr>\n",
       "    <tr>\n",
       "      <th>1</th>\n",
       "      <td>3</td>\n",
       "      <td>?</td>\n",
       "      <td>alfa-romero</td>\n",
       "      <td>gas</td>\n",
       "      <td>std</td>\n",
       "      <td>two</td>\n",
       "      <td>convertible</td>\n",
       "      <td>rwd</td>\n",
       "      <td>front</td>\n",
       "      <td>88.6</td>\n",
       "      <td>...</td>\n",
       "      <td>130</td>\n",
       "      <td>mpfi</td>\n",
       "      <td>3.47</td>\n",
       "      <td>2.68</td>\n",
       "      <td>9.0</td>\n",
       "      <td>111</td>\n",
       "      <td>5000</td>\n",
       "      <td>21</td>\n",
       "      <td>27</td>\n",
       "      <td>16500</td>\n",
       "    </tr>\n",
       "    <tr>\n",
       "      <th>2</th>\n",
       "      <td>1</td>\n",
       "      <td>?</td>\n",
       "      <td>alfa-romero</td>\n",
       "      <td>gas</td>\n",
       "      <td>std</td>\n",
       "      <td>two</td>\n",
       "      <td>hatchback</td>\n",
       "      <td>rwd</td>\n",
       "      <td>front</td>\n",
       "      <td>94.5</td>\n",
       "      <td>...</td>\n",
       "      <td>152</td>\n",
       "      <td>mpfi</td>\n",
       "      <td>2.68</td>\n",
       "      <td>3.47</td>\n",
       "      <td>9.0</td>\n",
       "      <td>154</td>\n",
       "      <td>5000</td>\n",
       "      <td>19</td>\n",
       "      <td>26</td>\n",
       "      <td>16500</td>\n",
       "    </tr>\n",
       "    <tr>\n",
       "      <th>3</th>\n",
       "      <td>2</td>\n",
       "      <td>164</td>\n",
       "      <td>audi</td>\n",
       "      <td>gas</td>\n",
       "      <td>std</td>\n",
       "      <td>four</td>\n",
       "      <td>sedan</td>\n",
       "      <td>fwd</td>\n",
       "      <td>front</td>\n",
       "      <td>99.8</td>\n",
       "      <td>...</td>\n",
       "      <td>109</td>\n",
       "      <td>mpfi</td>\n",
       "      <td>3.19</td>\n",
       "      <td>3.40</td>\n",
       "      <td>10.0</td>\n",
       "      <td>102</td>\n",
       "      <td>5500</td>\n",
       "      <td>24</td>\n",
       "      <td>30</td>\n",
       "      <td>13950</td>\n",
       "    </tr>\n",
       "    <tr>\n",
       "      <th>4</th>\n",
       "      <td>2</td>\n",
       "      <td>164</td>\n",
       "      <td>audi</td>\n",
       "      <td>gas</td>\n",
       "      <td>std</td>\n",
       "      <td>four</td>\n",
       "      <td>sedan</td>\n",
       "      <td>4wd</td>\n",
       "      <td>front</td>\n",
       "      <td>99.4</td>\n",
       "      <td>...</td>\n",
       "      <td>136</td>\n",
       "      <td>mpfi</td>\n",
       "      <td>3.19</td>\n",
       "      <td>3.40</td>\n",
       "      <td>8.0</td>\n",
       "      <td>115</td>\n",
       "      <td>5500</td>\n",
       "      <td>18</td>\n",
       "      <td>22</td>\n",
       "      <td>17450</td>\n",
       "    </tr>\n",
       "  </tbody>\n",
       "</table>\n",
       "<p>5 rows × 26 columns</p>\n",
       "</div>"
      ],
      "text/plain": [
       "   0    1            2    3    4     5            6    7      8     9   ...  \\\n",
       "0   3    ?  alfa-romero  gas  std   two  convertible  rwd  front  88.6  ...   \n",
       "1   3    ?  alfa-romero  gas  std   two  convertible  rwd  front  88.6  ...   \n",
       "2   1    ?  alfa-romero  gas  std   two    hatchback  rwd  front  94.5  ...   \n",
       "3   2  164         audi  gas  std  four        sedan  fwd  front  99.8  ...   \n",
       "4   2  164         audi  gas  std  four        sedan  4wd  front  99.4  ...   \n",
       "\n",
       "    16    17    18    19    20   21    22  23  24     25  \n",
       "0  130  mpfi  3.47  2.68   9.0  111  5000  21  27  13495  \n",
       "1  130  mpfi  3.47  2.68   9.0  111  5000  21  27  16500  \n",
       "2  152  mpfi  2.68  3.47   9.0  154  5000  19  26  16500  \n",
       "3  109  mpfi  3.19  3.40  10.0  102  5500  24  30  13950  \n",
       "4  136  mpfi  3.19  3.40   8.0  115  5500  18  22  17450  \n",
       "\n",
       "[5 rows x 26 columns]"
      ]
     },
     "execution_count": 2,
     "metadata": {},
     "output_type": "execute_result"
    }
   ],
   "source": [
    "df = pd.read_csv(\"imports-85.data\",header=None)\n",
    "df.head()"
   ]
  },
  {
   "cell_type": "code",
   "execution_count": 3,
   "id": "333701b7",
   "metadata": {
    "ExecuteTime": {
     "end_time": "2021-12-30T15:36:56.530122Z",
     "start_time": "2021-12-30T15:36:56.521997Z"
    }
   },
   "outputs": [
    {
     "data": {
      "text/plain": [
       "(205, 26)"
      ]
     },
     "execution_count": 3,
     "metadata": {},
     "output_type": "execute_result"
    }
   ],
   "source": [
    "df.shape"
   ]
  },
  {
   "cell_type": "markdown",
   "id": "16fd4d77",
   "metadata": {},
   "source": [
    "The dataset csv doesn't have the header. The header information is available at: https://archive.ics.uci.edu/ml/datasets/Automobile\n",
    "\n",
    "We are adding headers manually as below."
   ]
  },
  {
   "cell_type": "code",
   "execution_count": 4,
   "id": "48b347a9",
   "metadata": {
    "ExecuteTime": {
     "end_time": "2021-12-30T15:36:56.922444Z",
     "start_time": "2021-12-30T15:36:56.892484Z"
    }
   },
   "outputs": [
    {
     "data": {
      "text/html": [
       "<div>\n",
       "<style scoped>\n",
       "    .dataframe tbody tr th:only-of-type {\n",
       "        vertical-align: middle;\n",
       "    }\n",
       "\n",
       "    .dataframe tbody tr th {\n",
       "        vertical-align: top;\n",
       "    }\n",
       "\n",
       "    .dataframe thead th {\n",
       "        text-align: right;\n",
       "    }\n",
       "</style>\n",
       "<table border=\"1\" class=\"dataframe\">\n",
       "  <thead>\n",
       "    <tr style=\"text-align: right;\">\n",
       "      <th></th>\n",
       "      <th>symboling</th>\n",
       "      <th>normalized-losses</th>\n",
       "      <th>make</th>\n",
       "      <th>fuel-type</th>\n",
       "      <th>aspiration</th>\n",
       "      <th>num-of-doors</th>\n",
       "      <th>body-style</th>\n",
       "      <th>drive-wheels</th>\n",
       "      <th>engine-location</th>\n",
       "      <th>wheel-base</th>\n",
       "      <th>...</th>\n",
       "      <th>engine-size</th>\n",
       "      <th>fuel-system</th>\n",
       "      <th>bore</th>\n",
       "      <th>stroke</th>\n",
       "      <th>compression-ratio</th>\n",
       "      <th>horsepower</th>\n",
       "      <th>peak-rpm</th>\n",
       "      <th>city-mpg</th>\n",
       "      <th>highway-mpg</th>\n",
       "      <th>price</th>\n",
       "    </tr>\n",
       "  </thead>\n",
       "  <tbody>\n",
       "    <tr>\n",
       "      <th>0</th>\n",
       "      <td>3</td>\n",
       "      <td>?</td>\n",
       "      <td>alfa-romero</td>\n",
       "      <td>gas</td>\n",
       "      <td>std</td>\n",
       "      <td>two</td>\n",
       "      <td>convertible</td>\n",
       "      <td>rwd</td>\n",
       "      <td>front</td>\n",
       "      <td>88.6</td>\n",
       "      <td>...</td>\n",
       "      <td>130</td>\n",
       "      <td>mpfi</td>\n",
       "      <td>3.47</td>\n",
       "      <td>2.68</td>\n",
       "      <td>9.0</td>\n",
       "      <td>111</td>\n",
       "      <td>5000</td>\n",
       "      <td>21</td>\n",
       "      <td>27</td>\n",
       "      <td>13495</td>\n",
       "    </tr>\n",
       "    <tr>\n",
       "      <th>1</th>\n",
       "      <td>3</td>\n",
       "      <td>?</td>\n",
       "      <td>alfa-romero</td>\n",
       "      <td>gas</td>\n",
       "      <td>std</td>\n",
       "      <td>two</td>\n",
       "      <td>convertible</td>\n",
       "      <td>rwd</td>\n",
       "      <td>front</td>\n",
       "      <td>88.6</td>\n",
       "      <td>...</td>\n",
       "      <td>130</td>\n",
       "      <td>mpfi</td>\n",
       "      <td>3.47</td>\n",
       "      <td>2.68</td>\n",
       "      <td>9.0</td>\n",
       "      <td>111</td>\n",
       "      <td>5000</td>\n",
       "      <td>21</td>\n",
       "      <td>27</td>\n",
       "      <td>16500</td>\n",
       "    </tr>\n",
       "    <tr>\n",
       "      <th>2</th>\n",
       "      <td>1</td>\n",
       "      <td>?</td>\n",
       "      <td>alfa-romero</td>\n",
       "      <td>gas</td>\n",
       "      <td>std</td>\n",
       "      <td>two</td>\n",
       "      <td>hatchback</td>\n",
       "      <td>rwd</td>\n",
       "      <td>front</td>\n",
       "      <td>94.5</td>\n",
       "      <td>...</td>\n",
       "      <td>152</td>\n",
       "      <td>mpfi</td>\n",
       "      <td>2.68</td>\n",
       "      <td>3.47</td>\n",
       "      <td>9.0</td>\n",
       "      <td>154</td>\n",
       "      <td>5000</td>\n",
       "      <td>19</td>\n",
       "      <td>26</td>\n",
       "      <td>16500</td>\n",
       "    </tr>\n",
       "    <tr>\n",
       "      <th>3</th>\n",
       "      <td>2</td>\n",
       "      <td>164</td>\n",
       "      <td>audi</td>\n",
       "      <td>gas</td>\n",
       "      <td>std</td>\n",
       "      <td>four</td>\n",
       "      <td>sedan</td>\n",
       "      <td>fwd</td>\n",
       "      <td>front</td>\n",
       "      <td>99.8</td>\n",
       "      <td>...</td>\n",
       "      <td>109</td>\n",
       "      <td>mpfi</td>\n",
       "      <td>3.19</td>\n",
       "      <td>3.40</td>\n",
       "      <td>10.0</td>\n",
       "      <td>102</td>\n",
       "      <td>5500</td>\n",
       "      <td>24</td>\n",
       "      <td>30</td>\n",
       "      <td>13950</td>\n",
       "    </tr>\n",
       "    <tr>\n",
       "      <th>4</th>\n",
       "      <td>2</td>\n",
       "      <td>164</td>\n",
       "      <td>audi</td>\n",
       "      <td>gas</td>\n",
       "      <td>std</td>\n",
       "      <td>four</td>\n",
       "      <td>sedan</td>\n",
       "      <td>4wd</td>\n",
       "      <td>front</td>\n",
       "      <td>99.4</td>\n",
       "      <td>...</td>\n",
       "      <td>136</td>\n",
       "      <td>mpfi</td>\n",
       "      <td>3.19</td>\n",
       "      <td>3.40</td>\n",
       "      <td>8.0</td>\n",
       "      <td>115</td>\n",
       "      <td>5500</td>\n",
       "      <td>18</td>\n",
       "      <td>22</td>\n",
       "      <td>17450</td>\n",
       "    </tr>\n",
       "  </tbody>\n",
       "</table>\n",
       "<p>5 rows × 26 columns</p>\n",
       "</div>"
      ],
      "text/plain": [
       "   symboling normalized-losses         make fuel-type aspiration num-of-doors  \\\n",
       "0          3                 ?  alfa-romero       gas        std          two   \n",
       "1          3                 ?  alfa-romero       gas        std          two   \n",
       "2          1                 ?  alfa-romero       gas        std          two   \n",
       "3          2               164         audi       gas        std         four   \n",
       "4          2               164         audi       gas        std         four   \n",
       "\n",
       "    body-style drive-wheels engine-location  wheel-base  ...  engine-size  \\\n",
       "0  convertible          rwd           front        88.6  ...          130   \n",
       "1  convertible          rwd           front        88.6  ...          130   \n",
       "2    hatchback          rwd           front        94.5  ...          152   \n",
       "3        sedan          fwd           front        99.8  ...          109   \n",
       "4        sedan          4wd           front        99.4  ...          136   \n",
       "\n",
       "   fuel-system  bore  stroke compression-ratio horsepower  peak-rpm city-mpg  \\\n",
       "0         mpfi  3.47    2.68               9.0        111      5000       21   \n",
       "1         mpfi  3.47    2.68               9.0        111      5000       21   \n",
       "2         mpfi  2.68    3.47               9.0        154      5000       19   \n",
       "3         mpfi  3.19    3.40              10.0        102      5500       24   \n",
       "4         mpfi  3.19    3.40               8.0        115      5500       18   \n",
       "\n",
       "  highway-mpg  price  \n",
       "0          27  13495  \n",
       "1          27  16500  \n",
       "2          26  16500  \n",
       "3          30  13950  \n",
       "4          22  17450  \n",
       "\n",
       "[5 rows x 26 columns]"
      ]
     },
     "execution_count": 4,
     "metadata": {},
     "output_type": "execute_result"
    }
   ],
   "source": [
    "headers = [\"symboling\",\"normalized-losses\",\"make\",\"fuel-type\",\"aspiration\", \"num-of-doors\",\"body-style\",\n",
    "         \"drive-wheels\",\"engine-location\",\"wheel-base\", \"length\",\"width\",\"height\",\"curb-weight\",\"engine-type\",\n",
    "         \"num-of-cylinders\", \"engine-size\",\"fuel-system\",\"bore\",\"stroke\",\"compression-ratio\",\"horsepower\",\n",
    "         \"peak-rpm\",\"city-mpg\",\"highway-mpg\",\"price\"]\n",
    "\n",
    "df.columns = headers\n",
    "df.head()"
   ]
  },
  {
   "cell_type": "markdown",
   "id": "95038492",
   "metadata": {},
   "source": [
    "# Handling Missing values"
   ]
  },
  {
   "cell_type": "markdown",
   "id": "3453f4b9",
   "metadata": {},
   "source": [
    "**We see '?' in the dataframe above which we are replacing with NaN value below**"
   ]
  },
  {
   "cell_type": "code",
   "execution_count": 5,
   "id": "69edd337",
   "metadata": {
    "ExecuteTime": {
     "end_time": "2021-12-30T15:36:57.664859Z",
     "start_time": "2021-12-30T15:36:57.635812Z"
    }
   },
   "outputs": [
    {
     "data": {
      "text/html": [
       "<div>\n",
       "<style scoped>\n",
       "    .dataframe tbody tr th:only-of-type {\n",
       "        vertical-align: middle;\n",
       "    }\n",
       "\n",
       "    .dataframe tbody tr th {\n",
       "        vertical-align: top;\n",
       "    }\n",
       "\n",
       "    .dataframe thead th {\n",
       "        text-align: right;\n",
       "    }\n",
       "</style>\n",
       "<table border=\"1\" class=\"dataframe\">\n",
       "  <thead>\n",
       "    <tr style=\"text-align: right;\">\n",
       "      <th></th>\n",
       "      <th>symboling</th>\n",
       "      <th>normalized-losses</th>\n",
       "      <th>make</th>\n",
       "      <th>fuel-type</th>\n",
       "      <th>aspiration</th>\n",
       "      <th>num-of-doors</th>\n",
       "      <th>body-style</th>\n",
       "      <th>drive-wheels</th>\n",
       "      <th>engine-location</th>\n",
       "      <th>wheel-base</th>\n",
       "      <th>...</th>\n",
       "      <th>engine-size</th>\n",
       "      <th>fuel-system</th>\n",
       "      <th>bore</th>\n",
       "      <th>stroke</th>\n",
       "      <th>compression-ratio</th>\n",
       "      <th>horsepower</th>\n",
       "      <th>peak-rpm</th>\n",
       "      <th>city-mpg</th>\n",
       "      <th>highway-mpg</th>\n",
       "      <th>price</th>\n",
       "    </tr>\n",
       "  </thead>\n",
       "  <tbody>\n",
       "    <tr>\n",
       "      <th>0</th>\n",
       "      <td>3</td>\n",
       "      <td>NaN</td>\n",
       "      <td>alfa-romero</td>\n",
       "      <td>gas</td>\n",
       "      <td>std</td>\n",
       "      <td>two</td>\n",
       "      <td>convertible</td>\n",
       "      <td>rwd</td>\n",
       "      <td>front</td>\n",
       "      <td>88.6</td>\n",
       "      <td>...</td>\n",
       "      <td>130</td>\n",
       "      <td>mpfi</td>\n",
       "      <td>3.47</td>\n",
       "      <td>2.68</td>\n",
       "      <td>9.0</td>\n",
       "      <td>111</td>\n",
       "      <td>5000</td>\n",
       "      <td>21</td>\n",
       "      <td>27</td>\n",
       "      <td>13495</td>\n",
       "    </tr>\n",
       "    <tr>\n",
       "      <th>1</th>\n",
       "      <td>3</td>\n",
       "      <td>NaN</td>\n",
       "      <td>alfa-romero</td>\n",
       "      <td>gas</td>\n",
       "      <td>std</td>\n",
       "      <td>two</td>\n",
       "      <td>convertible</td>\n",
       "      <td>rwd</td>\n",
       "      <td>front</td>\n",
       "      <td>88.6</td>\n",
       "      <td>...</td>\n",
       "      <td>130</td>\n",
       "      <td>mpfi</td>\n",
       "      <td>3.47</td>\n",
       "      <td>2.68</td>\n",
       "      <td>9.0</td>\n",
       "      <td>111</td>\n",
       "      <td>5000</td>\n",
       "      <td>21</td>\n",
       "      <td>27</td>\n",
       "      <td>16500</td>\n",
       "    </tr>\n",
       "    <tr>\n",
       "      <th>2</th>\n",
       "      <td>1</td>\n",
       "      <td>NaN</td>\n",
       "      <td>alfa-romero</td>\n",
       "      <td>gas</td>\n",
       "      <td>std</td>\n",
       "      <td>two</td>\n",
       "      <td>hatchback</td>\n",
       "      <td>rwd</td>\n",
       "      <td>front</td>\n",
       "      <td>94.5</td>\n",
       "      <td>...</td>\n",
       "      <td>152</td>\n",
       "      <td>mpfi</td>\n",
       "      <td>2.68</td>\n",
       "      <td>3.47</td>\n",
       "      <td>9.0</td>\n",
       "      <td>154</td>\n",
       "      <td>5000</td>\n",
       "      <td>19</td>\n",
       "      <td>26</td>\n",
       "      <td>16500</td>\n",
       "    </tr>\n",
       "    <tr>\n",
       "      <th>3</th>\n",
       "      <td>2</td>\n",
       "      <td>164</td>\n",
       "      <td>audi</td>\n",
       "      <td>gas</td>\n",
       "      <td>std</td>\n",
       "      <td>four</td>\n",
       "      <td>sedan</td>\n",
       "      <td>fwd</td>\n",
       "      <td>front</td>\n",
       "      <td>99.8</td>\n",
       "      <td>...</td>\n",
       "      <td>109</td>\n",
       "      <td>mpfi</td>\n",
       "      <td>3.19</td>\n",
       "      <td>3.40</td>\n",
       "      <td>10.0</td>\n",
       "      <td>102</td>\n",
       "      <td>5500</td>\n",
       "      <td>24</td>\n",
       "      <td>30</td>\n",
       "      <td>13950</td>\n",
       "    </tr>\n",
       "    <tr>\n",
       "      <th>4</th>\n",
       "      <td>2</td>\n",
       "      <td>164</td>\n",
       "      <td>audi</td>\n",
       "      <td>gas</td>\n",
       "      <td>std</td>\n",
       "      <td>four</td>\n",
       "      <td>sedan</td>\n",
       "      <td>4wd</td>\n",
       "      <td>front</td>\n",
       "      <td>99.4</td>\n",
       "      <td>...</td>\n",
       "      <td>136</td>\n",
       "      <td>mpfi</td>\n",
       "      <td>3.19</td>\n",
       "      <td>3.40</td>\n",
       "      <td>8.0</td>\n",
       "      <td>115</td>\n",
       "      <td>5500</td>\n",
       "      <td>18</td>\n",
       "      <td>22</td>\n",
       "      <td>17450</td>\n",
       "    </tr>\n",
       "  </tbody>\n",
       "</table>\n",
       "<p>5 rows × 26 columns</p>\n",
       "</div>"
      ],
      "text/plain": [
       "   symboling normalized-losses         make fuel-type aspiration num-of-doors  \\\n",
       "0          3               NaN  alfa-romero       gas        std          two   \n",
       "1          3               NaN  alfa-romero       gas        std          two   \n",
       "2          1               NaN  alfa-romero       gas        std          two   \n",
       "3          2               164         audi       gas        std         four   \n",
       "4          2               164         audi       gas        std         four   \n",
       "\n",
       "    body-style drive-wheels engine-location  wheel-base  ...  engine-size  \\\n",
       "0  convertible          rwd           front        88.6  ...          130   \n",
       "1  convertible          rwd           front        88.6  ...          130   \n",
       "2    hatchback          rwd           front        94.5  ...          152   \n",
       "3        sedan          fwd           front        99.8  ...          109   \n",
       "4        sedan          4wd           front        99.4  ...          136   \n",
       "\n",
       "   fuel-system  bore  stroke compression-ratio horsepower  peak-rpm city-mpg  \\\n",
       "0         mpfi  3.47    2.68               9.0        111      5000       21   \n",
       "1         mpfi  3.47    2.68               9.0        111      5000       21   \n",
       "2         mpfi  2.68    3.47               9.0        154      5000       19   \n",
       "3         mpfi  3.19    3.40              10.0        102      5500       24   \n",
       "4         mpfi  3.19    3.40               8.0        115      5500       18   \n",
       "\n",
       "  highway-mpg  price  \n",
       "0          27  13495  \n",
       "1          27  16500  \n",
       "2          26  16500  \n",
       "3          30  13950  \n",
       "4          22  17450  \n",
       "\n",
       "[5 rows x 26 columns]"
      ]
     },
     "execution_count": 5,
     "metadata": {},
     "output_type": "execute_result"
    }
   ],
   "source": [
    "df=df.replace('?',np.NaN)\n",
    "df.head()"
   ]
  },
  {
   "cell_type": "markdown",
   "id": "3a150ef1",
   "metadata": {},
   "source": [
    "**Below is the columnwise missing value count.**"
   ]
  },
  {
   "cell_type": "code",
   "execution_count": 6,
   "id": "05c04ef2",
   "metadata": {
    "ExecuteTime": {
     "end_time": "2021-12-30T15:36:58.372131Z",
     "start_time": "2021-12-30T15:36:58.353896Z"
    }
   },
   "outputs": [
    {
     "data": {
      "text/plain": [
       "symboling             0\n",
       "normalized-losses    41\n",
       "make                  0\n",
       "fuel-type             0\n",
       "aspiration            0\n",
       "num-of-doors          2\n",
       "body-style            0\n",
       "drive-wheels          0\n",
       "engine-location       0\n",
       "wheel-base            0\n",
       "length                0\n",
       "width                 0\n",
       "height                0\n",
       "curb-weight           0\n",
       "engine-type           0\n",
       "num-of-cylinders      0\n",
       "engine-size           0\n",
       "fuel-system           0\n",
       "bore                  4\n",
       "stroke                4\n",
       "compression-ratio     0\n",
       "horsepower            2\n",
       "peak-rpm              2\n",
       "city-mpg              0\n",
       "highway-mpg           0\n",
       "price                 4\n",
       "dtype: int64"
      ]
     },
     "execution_count": 6,
     "metadata": {},
     "output_type": "execute_result"
    }
   ],
   "source": [
    "df.isnull().sum()"
   ]
  },
  {
   "cell_type": "markdown",
   "id": "5ff9210e",
   "metadata": {},
   "source": [
    "As we can see from above, here are the 7 columns containing missing values:\n",
    "\n",
    "\"normalized-losses\": 41, \"num-of-doors\": 2, \"bore\": 4, \"stroke\" : 4, \"horsepower\": 2, \"peak-rpm\": 2, \"price\": 4"
   ]
  },
  {
   "cell_type": "markdown",
   "id": "b337c9cc",
   "metadata": {},
   "source": [
    "### Categorical Imputation: Replace by mode\n",
    "\n",
    "\"num-of-doors\": 2 missing values, replace them with \"four\".\n",
    "\n",
    "**Reason: Since 'four' doors is the most frequent value in this column as shown below, it is the most likely value to occur**"
   ]
  },
  {
   "cell_type": "code",
   "execution_count": 7,
   "id": "ffeea501",
   "metadata": {
    "ExecuteTime": {
     "end_time": "2021-12-30T15:36:59.060496Z",
     "start_time": "2021-12-30T15:36:59.050891Z"
    }
   },
   "outputs": [
    {
     "data": {
      "text/plain": [
       "'four'"
      ]
     },
     "execution_count": 7,
     "metadata": {},
     "output_type": "execute_result"
    }
   ],
   "source": [
    "df[\"num-of-doors\"].mode()[0] #df[\"num-of-doors\"].value_counts().idxmax() is also fine"
   ]
  },
  {
   "cell_type": "code",
   "execution_count": 8,
   "id": "e26802c4",
   "metadata": {
    "ExecuteTime": {
     "end_time": "2021-12-30T15:36:59.328723Z",
     "start_time": "2021-12-30T15:36:59.322619Z"
    }
   },
   "outputs": [],
   "source": [
    "#replace the missing values by the most frequent value\n",
    "df[\"num-of-doors\"].fillna(df[\"num-of-doors\"].mode()[0], inplace=True)"
   ]
  },
  {
   "cell_type": "markdown",
   "id": "12272489",
   "metadata": {},
   "source": [
    "### Numerical Imputation: Replace by mean"
   ]
  },
  {
   "cell_type": "markdown",
   "id": "e20893aa",
   "metadata": {},
   "source": [
    "\"normalized-losses\": 41 missing values, replace them with mean\n",
    "\n",
    "\"stroke\": 4 missing values, replace them with mean\n",
    "\n",
    "\"bore\": 4 missing values, replace them with mean\n",
    "\n",
    "\"horsepower\": 2 missing values, replace them with mean\n",
    "\n",
    "\"peak-rpm\": 2 missing values, replace them with mean"
   ]
  },
  {
   "cell_type": "code",
   "execution_count": 9,
   "id": "288fd6cb",
   "metadata": {
    "ExecuteTime": {
     "end_time": "2021-12-30T15:37:00.126270Z",
     "start_time": "2021-12-30T15:37:00.109696Z"
    }
   },
   "outputs": [],
   "source": [
    "#Replace the missing values by mean value of respective columns\n",
    "df[\"normalized-losses\"].fillna(df[\"normalized-losses\"].astype(\"float\").mean(), inplace=True)\n",
    "\n",
    "df[\"bore\"].fillna(df[\"bore\"].astype(\"float\").mean(), inplace=True)\n",
    "\n",
    "df[\"stroke\"].fillna(df[\"stroke\"].astype(\"float\").mean(), inplace = True)\n",
    "\n",
    "df[\"peak-rpm\"].fillna(df[\"peak-rpm\"].astype(\"float\").mean(), inplace = True)\n",
    "\n",
    "df['horsepower'].fillna(df['horsepower'].astype(\"float\").mean(), inplace=True)"
   ]
  },
  {
   "cell_type": "markdown",
   "id": "83700ee9",
   "metadata": {},
   "source": [
    "### Dropping the records"
   ]
  },
  {
   "cell_type": "markdown",
   "id": "ee5a82f7",
   "metadata": {},
   "source": [
    "\"price\": 4 missing values, delete the entire 4 records\n",
    "\n",
    "**Reason: As price is what we will predict. So records with missing price will no longer be useful for our modeling purpose**"
   ]
  },
  {
   "cell_type": "code",
   "execution_count": 10,
   "id": "202909ff",
   "metadata": {
    "ExecuteTime": {
     "end_time": "2021-12-30T15:37:01.203018Z",
     "start_time": "2021-12-30T15:37:01.192175Z"
    }
   },
   "outputs": [],
   "source": [
    "#Drop entire row \"price\" column is missing\n",
    "df.dropna(subset=[\"price\"], axis=0, inplace=True)"
   ]
  },
  {
   "cell_type": "code",
   "execution_count": 11,
   "id": "09d04cc4",
   "metadata": {
    "ExecuteTime": {
     "end_time": "2021-12-30T15:37:01.509272Z",
     "start_time": "2021-12-30T15:37:01.503874Z"
    }
   },
   "outputs": [],
   "source": [
    "# reset index as we dropped 2 rows\n",
    "df.reset_index(drop=True, inplace=True)"
   ]
  },
  {
   "cell_type": "code",
   "execution_count": 12,
   "id": "2ab43be5",
   "metadata": {
    "ExecuteTime": {
     "end_time": "2021-12-30T15:37:01.784609Z",
     "start_time": "2021-12-30T15:37:01.770991Z"
    }
   },
   "outputs": [
    {
     "data": {
      "text/plain": [
       "symboling            0\n",
       "normalized-losses    0\n",
       "make                 0\n",
       "fuel-type            0\n",
       "aspiration           0\n",
       "num-of-doors         0\n",
       "body-style           0\n",
       "drive-wheels         0\n",
       "engine-location      0\n",
       "wheel-base           0\n",
       "length               0\n",
       "width                0\n",
       "height               0\n",
       "curb-weight          0\n",
       "engine-type          0\n",
       "num-of-cylinders     0\n",
       "engine-size          0\n",
       "fuel-system          0\n",
       "bore                 0\n",
       "stroke               0\n",
       "compression-ratio    0\n",
       "horsepower           0\n",
       "peak-rpm             0\n",
       "city-mpg             0\n",
       "highway-mpg          0\n",
       "price                0\n",
       "dtype: int64"
      ]
     },
     "execution_count": 12,
     "metadata": {},
     "output_type": "execute_result"
    }
   ],
   "source": [
    "# re-checking missing after handling them\n",
    "df.isnull().sum()"
   ]
  },
  {
   "cell_type": "markdown",
   "id": "725f3848",
   "metadata": {},
   "source": [
    "# Checking data types"
   ]
  },
  {
   "cell_type": "code",
   "execution_count": 13,
   "id": "38a99a2a",
   "metadata": {
    "ExecuteTime": {
     "end_time": "2021-12-30T15:37:02.305700Z",
     "start_time": "2021-12-30T15:37:02.295219Z"
    }
   },
   "outputs": [
    {
     "data": {
      "text/plain": [
       "symboling              int64\n",
       "normalized-losses     object\n",
       "make                  object\n",
       "fuel-type             object\n",
       "aspiration            object\n",
       "num-of-doors          object\n",
       "body-style            object\n",
       "drive-wheels          object\n",
       "engine-location       object\n",
       "wheel-base           float64\n",
       "length               float64\n",
       "width                float64\n",
       "height               float64\n",
       "curb-weight            int64\n",
       "engine-type           object\n",
       "num-of-cylinders      object\n",
       "engine-size            int64\n",
       "fuel-system           object\n",
       "bore                  object\n",
       "stroke                object\n",
       "compression-ratio    float64\n",
       "horsepower            object\n",
       "peak-rpm              object\n",
       "city-mpg               int64\n",
       "highway-mpg            int64\n",
       "price                 object\n",
       "dtype: object"
      ]
     },
     "execution_count": 13,
     "metadata": {},
     "output_type": "execute_result"
    }
   ],
   "source": [
    "df.dtypes"
   ]
  },
  {
   "cell_type": "markdown",
   "id": "219637f8",
   "metadata": {},
   "source": [
    "**Numerical variables should have type 'float' or 'int' whereas variables with strings should have type 'object'. So, we convert below columns to proper data types**"
   ]
  },
  {
   "cell_type": "code",
   "execution_count": 14,
   "id": "bc0ff3fe",
   "metadata": {
    "ExecuteTime": {
     "end_time": "2021-12-30T15:37:02.852021Z",
     "start_time": "2021-12-30T15:37:02.836602Z"
    }
   },
   "outputs": [],
   "source": [
    "df[[\"bore\", \"stroke\",\"price\",\"peak-rpm\"]] = df[[\"bore\", \"stroke\",\"price\",\"peak-rpm\"]].astype(\"float\")\n",
    "df[[\"normalized-losses\",\"horsepower\"]] = df[[\"normalized-losses\",\"horsepower\"]].astype(\"int\")"
   ]
  },
  {
   "cell_type": "code",
   "execution_count": 15,
   "id": "b5c395c8",
   "metadata": {
    "ExecuteTime": {
     "end_time": "2021-12-30T15:37:03.175246Z",
     "start_time": "2021-12-30T15:37:03.154161Z"
    }
   },
   "outputs": [
    {
     "name": "stdout",
     "output_type": "stream",
     "text": [
      "<class 'pandas.core.frame.DataFrame'>\n",
      "RangeIndex: 201 entries, 0 to 200\n",
      "Data columns (total 26 columns):\n",
      " #   Column             Non-Null Count  Dtype  \n",
      "---  ------             --------------  -----  \n",
      " 0   symboling          201 non-null    int64  \n",
      " 1   normalized-losses  201 non-null    int64  \n",
      " 2   make               201 non-null    object \n",
      " 3   fuel-type          201 non-null    object \n",
      " 4   aspiration         201 non-null    object \n",
      " 5   num-of-doors       201 non-null    object \n",
      " 6   body-style         201 non-null    object \n",
      " 7   drive-wheels       201 non-null    object \n",
      " 8   engine-location    201 non-null    object \n",
      " 9   wheel-base         201 non-null    float64\n",
      " 10  length             201 non-null    float64\n",
      " 11  width              201 non-null    float64\n",
      " 12  height             201 non-null    float64\n",
      " 13  curb-weight        201 non-null    int64  \n",
      " 14  engine-type        201 non-null    object \n",
      " 15  num-of-cylinders   201 non-null    object \n",
      " 16  engine-size        201 non-null    int64  \n",
      " 17  fuel-system        201 non-null    object \n",
      " 18  bore               201 non-null    float64\n",
      " 19  stroke             201 non-null    float64\n",
      " 20  compression-ratio  201 non-null    float64\n",
      " 21  horsepower         201 non-null    int64  \n",
      " 22  peak-rpm           201 non-null    float64\n",
      " 23  city-mpg           201 non-null    int64  \n",
      " 24  highway-mpg        201 non-null    int64  \n",
      " 25  price              201 non-null    float64\n",
      "dtypes: float64(9), int64(7), object(10)\n",
      "memory usage: 41.0+ KB\n"
     ]
    }
   ],
   "source": [
    "df.info()"
   ]
  },
  {
   "cell_type": "markdown",
   "id": "8e507025",
   "metadata": {},
   "source": [
    "# Data Visualization"
   ]
  },
  {
   "cell_type": "markdown",
   "id": "a75046d9",
   "metadata": {},
   "source": [
    "## Numerical Variables "
   ]
  },
  {
   "cell_type": "code",
   "execution_count": 16,
   "id": "a8ec7d24",
   "metadata": {
    "ExecuteTime": {
     "end_time": "2021-12-30T15:37:04.143388Z",
     "start_time": "2021-12-30T15:37:04.135502Z"
    }
   },
   "outputs": [],
   "source": [
    "df_numeric = df[[\"symboling\",\"normalized-losses\",\"wheel-base\", \"length\",\"width\",\n",
    "          \"height\",\"curb-weight\", \"engine-size\",\"horsepower\",\"bore\",\"stroke\",\"compression-ratio\",\n",
    "         \"peak-rpm\",\"city-mpg\",\"highway-mpg\",\"price\"]]"
   ]
  },
  {
   "cell_type": "code",
   "execution_count": 17,
   "id": "86d1065f",
   "metadata": {
    "ExecuteTime": {
     "end_time": "2021-12-30T15:37:04.510180Z",
     "start_time": "2021-12-30T15:37:04.505058Z"
    }
   },
   "outputs": [],
   "source": [
    "# sns.pairplot(df_numeric)"
   ]
  },
  {
   "cell_type": "markdown",
   "id": "216af0fd",
   "metadata": {},
   "source": [
    "Difficult to understand anything from above due to too many features, so we try to see correlation and plot a heatmap"
   ]
  },
  {
   "cell_type": "code",
   "execution_count": 18,
   "id": "b14f3916",
   "metadata": {
    "ExecuteTime": {
     "end_time": "2021-12-30T15:37:05.321637Z",
     "start_time": "2021-12-30T15:37:05.317126Z"
    }
   },
   "outputs": [],
   "source": [
    "# df_numeric.corr()"
   ]
  },
  {
   "cell_type": "code",
   "execution_count": 19,
   "id": "1650ddad",
   "metadata": {
    "ExecuteTime": {
     "end_time": "2021-12-30T15:37:06.350799Z",
     "start_time": "2021-12-30T15:37:05.707720Z"
    }
   },
   "outputs": [
    {
     "data": {
      "image/png": "[encoded data removed]",
      "text/plain": [
       "<Figure size 1152x576 with 2 Axes>"
      ]
     },
     "metadata": {
      "needs_background": "light"
     },
     "output_type": "display_data"
    }
   ],
   "source": [
    "plt.figure(figsize=(16,8))\n",
    "sns.heatmap(df_numeric.corr(), cmap='flare', annot=True)\n",
    "plt.show()"
   ]
  },
  {
   "cell_type": "markdown",
   "id": "0b97b9c6",
   "metadata": {},
   "source": [
    "we can see from above heatmap that how wheel-base, carlength, width, curb-weight, engine-size, horsepower and bore are highly correlated with price whereas peak-rpm, city-mpg, highway-mpg are negatively correlated with price.\n",
    "\n",
    "There is also a high correlation among the independent variables which leads to Multicollinearity issue. This may need to be handled."
   ]
  },
  {
   "cell_type": "markdown",
   "id": "93795869",
   "metadata": {},
   "source": [
    "## Categorical Variables"
   ]
  },
  {
   "cell_type": "code",
   "execution_count": 20,
   "id": "f0b60183",
   "metadata": {
    "ExecuteTime": {
     "end_time": "2021-12-30T15:37:06.874978Z",
     "start_time": "2021-12-30T15:37:06.851331Z"
    }
   },
   "outputs": [
    {
     "data": {
      "text/html": [
       "<div>\n",
       "<style scoped>\n",
       "    .dataframe tbody tr th:only-of-type {\n",
       "        vertical-align: middle;\n",
       "    }\n",
       "\n",
       "    .dataframe tbody tr th {\n",
       "        vertical-align: top;\n",
       "    }\n",
       "\n",
       "    .dataframe thead th {\n",
       "        text-align: right;\n",
       "    }\n",
       "</style>\n",
       "<table border=\"1\" class=\"dataframe\">\n",
       "  <thead>\n",
       "    <tr style=\"text-align: right;\">\n",
       "      <th></th>\n",
       "      <th>make</th>\n",
       "      <th>fuel-type</th>\n",
       "      <th>aspiration</th>\n",
       "      <th>num-of-doors</th>\n",
       "      <th>body-style</th>\n",
       "      <th>drive-wheels</th>\n",
       "      <th>engine-location</th>\n",
       "      <th>engine-type</th>\n",
       "      <th>num-of-cylinders</th>\n",
       "      <th>fuel-system</th>\n",
       "    </tr>\n",
       "  </thead>\n",
       "  <tbody>\n",
       "    <tr>\n",
       "      <th>0</th>\n",
       "      <td>alfa-romero</td>\n",
       "      <td>gas</td>\n",
       "      <td>std</td>\n",
       "      <td>two</td>\n",
       "      <td>convertible</td>\n",
       "      <td>rwd</td>\n",
       "      <td>front</td>\n",
       "      <td>dohc</td>\n",
       "      <td>four</td>\n",
       "      <td>mpfi</td>\n",
       "    </tr>\n",
       "    <tr>\n",
       "      <th>1</th>\n",
       "      <td>alfa-romero</td>\n",
       "      <td>gas</td>\n",
       "      <td>std</td>\n",
       "      <td>two</td>\n",
       "      <td>convertible</td>\n",
       "      <td>rwd</td>\n",
       "      <td>front</td>\n",
       "      <td>dohc</td>\n",
       "      <td>four</td>\n",
       "      <td>mpfi</td>\n",
       "    </tr>\n",
       "    <tr>\n",
       "      <th>2</th>\n",
       "      <td>alfa-romero</td>\n",
       "      <td>gas</td>\n",
       "      <td>std</td>\n",
       "      <td>two</td>\n",
       "      <td>hatchback</td>\n",
       "      <td>rwd</td>\n",
       "      <td>front</td>\n",
       "      <td>ohcv</td>\n",
       "      <td>six</td>\n",
       "      <td>mpfi</td>\n",
       "    </tr>\n",
       "    <tr>\n",
       "      <th>3</th>\n",
       "      <td>audi</td>\n",
       "      <td>gas</td>\n",
       "      <td>std</td>\n",
       "      <td>four</td>\n",
       "      <td>sedan</td>\n",
       "      <td>fwd</td>\n",
       "      <td>front</td>\n",
       "      <td>ohc</td>\n",
       "      <td>four</td>\n",
       "      <td>mpfi</td>\n",
       "    </tr>\n",
       "    <tr>\n",
       "      <th>4</th>\n",
       "      <td>audi</td>\n",
       "      <td>gas</td>\n",
       "      <td>std</td>\n",
       "      <td>four</td>\n",
       "      <td>sedan</td>\n",
       "      <td>4wd</td>\n",
       "      <td>front</td>\n",
       "      <td>ohc</td>\n",
       "      <td>five</td>\n",
       "      <td>mpfi</td>\n",
       "    </tr>\n",
       "  </tbody>\n",
       "</table>\n",
       "</div>"
      ],
      "text/plain": [
       "          make fuel-type aspiration num-of-doors   body-style drive-wheels  \\\n",
       "0  alfa-romero       gas        std          two  convertible          rwd   \n",
       "1  alfa-romero       gas        std          two  convertible          rwd   \n",
       "2  alfa-romero       gas        std          two    hatchback          rwd   \n",
       "3         audi       gas        std         four        sedan          fwd   \n",
       "4         audi       gas        std         four        sedan          4wd   \n",
       "\n",
       "  engine-location engine-type num-of-cylinders fuel-system  \n",
       "0           front        dohc             four        mpfi  \n",
       "1           front        dohc             four        mpfi  \n",
       "2           front        ohcv              six        mpfi  \n",
       "3           front         ohc             four        mpfi  \n",
       "4           front         ohc             five        mpfi  "
      ]
     },
     "execution_count": 20,
     "metadata": {},
     "output_type": "execute_result"
    }
   ],
   "source": [
    "df_obj = df.select_dtypes(include=['object']).copy()\n",
    "df_obj.head()"
   ]
  },
  {
   "cell_type": "code",
   "execution_count": 21,
   "id": "99cb9236",
   "metadata": {
    "ExecuteTime": {
     "end_time": "2021-12-30T15:37:07.977252Z",
     "start_time": "2021-12-30T15:37:07.192074Z"
    }
   },
   "outputs": [
    {
     "data": {
      "image/png": "[encoded data removed]",
      "text/plain": [
       "<Figure size 1008x1296 with 10 Axes>"
      ]
     },
     "metadata": {
      "needs_background": "light"
     },
     "output_type": "display_data"
    }
   ],
   "source": [
    "category = [\"make\",\"fuel-type\",\"aspiration\",\"num-of-doors\",\"body-style\",\n",
    "         \"drive-wheels\",\"engine-location\",\"engine-type\",\"num-of-cylinders\",\"fuel-system\"]\n",
    "fig, axes = plt.subplots(nrows=5, ncols=2, figsize=(14, 18))\n",
    "axe = axes.ravel()\n",
    "for i, category in enumerate(df_obj[category]):\n",
    "    df_obj[category].value_counts().plot(kind=\"bar\", ax=axe[i]).set_title(category)\n",
    "fig.show()\n",
    "fig.tight_layout()"
   ]
  },
  {
   "cell_type": "markdown",
   "id": "da59a80a",
   "metadata": {},
   "source": [
    "# Preprocessing"
   ]
  },
  {
   "cell_type": "markdown",
   "id": "61b63efa",
   "metadata": {},
   "source": [
    "## Feature Scaling"
   ]
  },
  {
   "cell_type": "markdown",
   "id": "bf548c33",
   "metadata": {},
   "source": [
    "### Normalization"
   ]
  },
  {
   "cell_type": "markdown",
   "id": "1d81d1a2",
   "metadata": {},
   "source": [
    "Why normalization?\n",
    "Normalization is the process of transforming values of several variables into a similar range. Typical normalizations include scaling the variable so the variable average is 0, scaling the variable so the variance is 1, or scaling variable so the variable values range from 0 to 1\n",
    "\n",
    "Example\n",
    "\n",
    "To demonstrate normalization, let's say we want to scale the columns \"length\", \"width\" and \"height\"\n",
    "\n",
    "<b>Target:</b> would like to Normalize those variables so their value ranges from 0 to 1.\n",
    "\n",
    "<b>Approach: </b>replace original value by (original value)/(maximum value)"
   ]
  },
  {
   "cell_type": "code",
   "execution_count": 22,
   "id": "6aa482ee",
   "metadata": {
    "ExecuteTime": {
     "end_time": "2021-12-30T15:37:10.615456Z",
     "start_time": "2021-12-30T15:37:09.184825Z"
    }
   },
   "outputs": [
    {
     "data": {
      "text/plain": [
       "<AxesSubplot:ylabel='Density'>"
      ]
     },
     "execution_count": 22,
     "metadata": {},
     "output_type": "execute_result"
    },
    {
     "data": {
      "image/png": "[encoded data removed]",
      "text/plain": [
       "<Figure size 432x288 with 1 Axes>"
      ]
     },
     "metadata": {
      "needs_background": "light"
     },
     "output_type": "display_data"
    }
   ],
   "source": [
    "df[\"length\"].plot.kde()\n",
    "df[\"width\"].plot.kde()\n",
    "df[\"height\"].plot.kde()"
   ]
  },
  {
   "cell_type": "code",
   "execution_count": 23,
   "id": "c18ee3f1",
   "metadata": {
    "ExecuteTime": {
     "end_time": "2021-12-30T15:37:10.623668Z",
     "start_time": "2021-12-30T15:37:10.617134Z"
    }
   },
   "outputs": [
    {
     "data": {
      "text/html": [
       "<div>\n",
       "<style scoped>\n",
       "    .dataframe tbody tr th:only-of-type {\n",
       "        vertical-align: middle;\n",
       "    }\n",
       "\n",
       "    .dataframe tbody tr th {\n",
       "        vertical-align: top;\n",
       "    }\n",
       "\n",
       "    .dataframe thead th {\n",
       "        text-align: right;\n",
       "    }\n",
       "</style>\n",
       "<table border=\"1\" class=\"dataframe\">\n",
       "  <thead>\n",
       "    <tr style=\"text-align: right;\">\n",
       "      <th></th>\n",
       "      <th>length</th>\n",
       "      <th>width</th>\n",
       "      <th>height</th>\n",
       "    </tr>\n",
       "  </thead>\n",
       "  <tbody>\n",
       "    <tr>\n",
       "      <th>0</th>\n",
       "      <td>168.8</td>\n",
       "      <td>64.1</td>\n",
       "      <td>48.8</td>\n",
       "    </tr>\n",
       "    <tr>\n",
       "      <th>1</th>\n",
       "      <td>168.8</td>\n",
       "      <td>64.1</td>\n",
       "      <td>48.8</td>\n",
       "    </tr>\n",
       "    <tr>\n",
       "      <th>2</th>\n",
       "      <td>171.2</td>\n",
       "      <td>65.5</td>\n",
       "      <td>52.4</td>\n",
       "    </tr>\n",
       "    <tr>\n",
       "      <th>3</th>\n",
       "      <td>176.6</td>\n",
       "      <td>66.2</td>\n",
       "      <td>54.3</td>\n",
       "    </tr>\n",
       "    <tr>\n",
       "      <th>4</th>\n",
       "      <td>176.6</td>\n",
       "      <td>66.4</td>\n",
       "      <td>54.3</td>\n",
       "    </tr>\n",
       "  </tbody>\n",
       "</table>\n",
       "</div>"
      ],
      "text/plain": [
       "   length  width  height\n",
       "0   168.8   64.1    48.8\n",
       "1   168.8   64.1    48.8\n",
       "2   171.2   65.5    52.4\n",
       "3   176.6   66.2    54.3\n",
       "4   176.6   66.4    54.3"
      ]
     },
     "execution_count": 23,
     "metadata": {},
     "output_type": "execute_result"
    }
   ],
   "source": [
    "df[[\"length\",\"width\",\"height\"]].head() # these values vary highly w.r.t rest column values"
   ]
  },
  {
   "cell_type": "code",
   "execution_count": 24,
   "id": "49e94947",
   "metadata": {
    "ExecuteTime": {
     "end_time": "2021-12-30T15:37:10.631661Z",
     "start_time": "2021-12-30T15:37:10.624827Z"
    }
   },
   "outputs": [
    {
     "data": {
      "text/html": [
       "<div>\n",
       "<style scoped>\n",
       "    .dataframe tbody tr th:only-of-type {\n",
       "        vertical-align: middle;\n",
       "    }\n",
       "\n",
       "    .dataframe tbody tr th {\n",
       "        vertical-align: top;\n",
       "    }\n",
       "\n",
       "    .dataframe thead th {\n",
       "        text-align: right;\n",
       "    }\n",
       "</style>\n",
       "<table border=\"1\" class=\"dataframe\">\n",
       "  <thead>\n",
       "    <tr style=\"text-align: right;\">\n",
       "      <th></th>\n",
       "      <th>length</th>\n",
       "      <th>width</th>\n",
       "      <th>height</th>\n",
       "    </tr>\n",
       "  </thead>\n",
       "  <tbody>\n",
       "    <tr>\n",
       "      <th>0</th>\n",
       "      <td>0.811148</td>\n",
       "      <td>0.890278</td>\n",
       "      <td>0.816054</td>\n",
       "    </tr>\n",
       "    <tr>\n",
       "      <th>1</th>\n",
       "      <td>0.811148</td>\n",
       "      <td>0.890278</td>\n",
       "      <td>0.816054</td>\n",
       "    </tr>\n",
       "    <tr>\n",
       "      <th>2</th>\n",
       "      <td>0.822681</td>\n",
       "      <td>0.909722</td>\n",
       "      <td>0.876254</td>\n",
       "    </tr>\n",
       "    <tr>\n",
       "      <th>3</th>\n",
       "      <td>0.848630</td>\n",
       "      <td>0.919444</td>\n",
       "      <td>0.908027</td>\n",
       "    </tr>\n",
       "    <tr>\n",
       "      <th>4</th>\n",
       "      <td>0.848630</td>\n",
       "      <td>0.922222</td>\n",
       "      <td>0.908027</td>\n",
       "    </tr>\n",
       "  </tbody>\n",
       "</table>\n",
       "</div>"
      ],
      "text/plain": [
       "     length     width    height\n",
       "0  0.811148  0.890278  0.816054\n",
       "1  0.811148  0.890278  0.816054\n",
       "2  0.822681  0.909722  0.876254\n",
       "3  0.848630  0.919444  0.908027\n",
       "4  0.848630  0.922222  0.908027"
      ]
     },
     "execution_count": 24,
     "metadata": {},
     "output_type": "execute_result"
    }
   ],
   "source": [
    "# replace (original value) by (original value)/(maximum value) -> Simple Feature Scaling\n",
    "df['length'] = df['length']/df['length'].max()\n",
    "df['width'] = df['width']/df['width'].max()\n",
    "df['height'] = df['height']/df['height'].max()\n",
    "\n",
    "# show the scaled columns\n",
    "df[[\"length\",\"width\",\"height\"]].head()"
   ]
  },
  {
   "cell_type": "markdown",
   "id": "2c15960c",
   "metadata": {},
   "source": [
    "## Binning or Discretization\n",
    "<b>Why binning?</b>\n",
    "<p>\n",
    "    Binning is a process of transforming continuous numerical variables into discrete categorical 'bins', for grouped analysis.\n",
    "</p>\n",
    "\n",
    "<b>Example: </b>\n",
    "\n",
    "<p>In our dataset, \"horsepower\" is a real valued variable ranging from 48 to 288, it has 57 unique values. What if we only care about the price difference between cars with high horsepower, medium horsepower, and little horsepower (3 types)? Can we rearrange them into three ‘bins' to simplify analysis? </p>\n",
    "\n",
    "<p>We will use the Pandas method 'cut' to segment the 'horsepower' column into 3 bins </p>"
   ]
  },
  {
   "cell_type": "code",
   "execution_count": 25,
   "id": "56175ab7",
   "metadata": {
    "ExecuteTime": {
     "end_time": "2021-12-30T15:37:10.897308Z",
     "start_time": "2021-12-30T15:37:10.893192Z"
    }
   },
   "outputs": [
    {
     "data": {
      "text/plain": [
       "68     19\n",
       "69     10\n",
       "70      9\n",
       "116     9\n",
       "110     8\n",
       "95      7\n",
       "88      6\n",
       "62      6\n",
       "101     6\n",
       "114     6\n",
       "160     5\n",
       "102     5\n",
       "145     5\n",
       "76      5\n",
       "82      5\n",
       "84      5\n",
       "97      5\n",
       "92      4\n",
       "123     4\n",
       "111     4\n",
       "86      4\n",
       "90      3\n",
       "152     3\n",
       "73      3\n",
       "207     3\n",
       "85      3\n",
       "182     3\n",
       "121     3\n",
       "112     2\n",
       "56      2\n",
       "94      2\n",
       "156     2\n",
       "52      2\n",
       "104     2\n",
       "162     2\n",
       "161     2\n",
       "155     2\n",
       "176     2\n",
       "184     2\n",
       "100     2\n",
       "55      1\n",
       "134     1\n",
       "115     1\n",
       "140     1\n",
       "48      1\n",
       "58      1\n",
       "60      1\n",
       "78      1\n",
       "262     1\n",
       "200     1\n",
       "135     1\n",
       "64      1\n",
       "120     1\n",
       "72      1\n",
       "154     1\n",
       "143     1\n",
       "142     1\n",
       "175     1\n",
       "106     1\n",
       "Name: horsepower, dtype: int64"
      ]
     },
     "execution_count": 25,
     "metadata": {},
     "output_type": "execute_result"
    }
   ],
   "source": [
    "df[\"horsepower\"].value_counts()"
   ]
  },
  {
   "cell_type": "code",
   "execution_count": 26,
   "id": "801b144a",
   "metadata": {
    "ExecuteTime": {
     "end_time": "2021-12-30T15:37:11.434193Z",
     "start_time": "2021-12-30T15:37:11.340467Z"
    }
   },
   "outputs": [
    {
     "data": {
      "text/plain": [
       "Text(0.5, 1.0, 'horsepower bins')"
      ]
     },
     "execution_count": 26,
     "metadata": {},
     "output_type": "execute_result"
    },
    {
     "data": {
      "image/png": "[encoded data removed]",
      "text/plain": [
       "<Figure size 432x288 with 1 Axes>"
      ]
     },
     "metadata": {
      "needs_background": "light"
     },
     "output_type": "display_data"
    }
   ],
   "source": [
    "df[\"horsepower\"]=df[\"horsepower\"].astype(int, copy=True)\n",
    "plt.hist(df[\"horsepower\"])\n",
    "\n",
    "# set x/y labels and plot title\n",
    "plt.xlabel(\"horsepower\")\n",
    "plt.ylabel(\"count\")\n",
    "plt.title(\"horsepower bins\")"
   ]
  },
  {
   "cell_type": "markdown",
   "id": "a2088bc4",
   "metadata": {},
   "source": [
    "<p>We would like 3 bins of equal size bandwidth so we use numpy's <code>linspace(start_value, end_value, numbers_generated)</code> function.</p>\n",
    "<p>Since we want to include the minimum value of horsepower we want to set start_value=min(df[\"horsepower\"]).</p>\n",
    "<p>Since we want to include the maximum value of horsepower we want to set end_value=max(df[\"horsepower\"]).</p>\n",
    "<p>Since we are building 3 bins of equal length, there should be 4 dividers, so numbers_generated=4.</p>"
   ]
  },
  {
   "cell_type": "markdown",
   "id": "afe37f18",
   "metadata": {},
   "source": [
    "<b>We build a bin array, with a minimum value to a maximum value, with bandwidth calculated above. The bins will be values used to determine when one bin ends and another begins.</b>"
   ]
  },
  {
   "cell_type": "code",
   "execution_count": 27,
   "id": "cc1c3e96",
   "metadata": {
    "ExecuteTime": {
     "end_time": "2021-12-30T15:37:12.550397Z",
     "start_time": "2021-12-30T15:37:12.542528Z"
    }
   },
   "outputs": [
    {
     "data": {
      "text/plain": [
       "array([ 48.        , 119.33333333, 190.66666667, 262.        ])"
      ]
     },
     "execution_count": 27,
     "metadata": {},
     "output_type": "execute_result"
    }
   ],
   "source": [
    "bins = np.linspace(min(df[\"horsepower\"]), max(df[\"horsepower\"]), 4)\n",
    "bins"
   ]
  },
  {
   "cell_type": "code",
   "execution_count": 28,
   "id": "8df5e622",
   "metadata": {
    "ExecuteTime": {
     "end_time": "2021-12-30T15:37:12.842393Z",
     "start_time": "2021-12-30T15:37:12.824434Z"
    }
   },
   "outputs": [
    {
     "data": {
      "text/plain": [
       "Low       153\n",
       "Medium     43\n",
       "High        5\n",
       "Name: horsepower-binned, dtype: int64"
      ]
     },
     "execution_count": 28,
     "metadata": {},
     "output_type": "execute_result"
    }
   ],
   "source": [
    "# We set group names:\n",
    "group_names = ['Low', 'Medium', 'High']\n",
    "\n",
    "# We apply the function cut that determine what each value of df['horsepower'] belongs to.\n",
    "df['horsepower-binned'] = pd.cut(df['horsepower'], bins, labels=group_names, include_lowest=True )\n",
    "\n",
    "# Lets see the number of vehicles in each bin\n",
    "df[\"horsepower-binned\"].value_counts()"
   ]
  },
  {
   "cell_type": "code",
   "execution_count": 29,
   "id": "3490b5c2",
   "metadata": {
    "ExecuteTime": {
     "end_time": "2021-12-30T15:37:13.123170Z",
     "start_time": "2021-12-30T15:37:13.037493Z"
    }
   },
   "outputs": [
    {
     "data": {
      "text/plain": [
       "Text(0.5, 1.0, 'horsepower bins')"
      ]
     },
     "execution_count": 29,
     "metadata": {},
     "output_type": "execute_result"
    },
    {
     "data": {
      "image/png": "[encoded data removed]",
      "text/plain": [
       "<Figure size 432x288 with 1 Axes>"
      ]
     },
     "metadata": {
      "needs_background": "light"
     },
     "output_type": "display_data"
    }
   ],
   "source": [
    "# Lets plot the distribution of each bin.\n",
    "pyplot.bar(group_names, df[\"horsepower-binned\"].value_counts())\n",
    "\n",
    "# set x/y labels and plot title\n",
    "plt.xlabel(\"horsepower\")\n",
    "plt.ylabel(\"count\")\n",
    "plt.title(\"horsepower bins\")"
   ]
  },
  {
   "cell_type": "markdown",
   "id": "2b70abb1",
   "metadata": {},
   "source": [
    "Check the dataframe above carefully, you will find the last column provides the bins for \"horsepower\" with 3 categories (\"Low\",\"Medium\" and \"High\")\n",
    "\n"
   ]
  },
  {
   "cell_type": "code",
   "execution_count": 30,
   "id": "5e7cba5a",
   "metadata": {
    "ExecuteTime": {
     "end_time": "2021-12-30T15:37:13.460819Z",
     "start_time": "2021-12-30T15:37:13.383990Z"
    }
   },
   "outputs": [
    {
     "data": {
      "text/plain": [
       "Text(0.5, 1.0, 'horsepower bins')"
      ]
     },
     "execution_count": 30,
     "metadata": {},
     "output_type": "execute_result"
    },
    {
     "data": {
      "image/png": "[encoded data removed]",
      "text/plain": [
       "<Figure size 432x288 with 1 Axes>"
      ]
     },
     "metadata": {
      "needs_background": "light"
     },
     "output_type": "display_data"
    }
   ],
   "source": [
    "# Bins visualization, Normally, a histogram is used to visualize the distribution of bins we created above.\n",
    "# draw historgram of attribute \"horsepower\" with bins = 3\n",
    "plt.hist(df[\"horsepower\"], bins = 3)\n",
    "\n",
    "# set x/y labels and plot title\n",
    "plt.xlabel(\"horsepower\")\n",
    "plt.ylabel(\"count\")\n",
    "plt.title(\"horsepower bins\")"
   ]
  },
  {
   "cell_type": "markdown",
   "id": "f7439bfe",
   "metadata": {},
   "source": [
    "## Categorical Encoding"
   ]
  },
  {
   "cell_type": "markdown",
   "id": "b229666a",
   "metadata": {},
   "source": [
    "### One-hot Encoding"
   ]
  },
  {
   "cell_type": "markdown",
   "id": "d844f1c3",
   "metadata": {},
   "source": [
    "<b>What is an Dummy variable?</b>\n",
    "<p>\n",
    "    Dummy variable is a numerical variable used to label categories. They are called 'dummies' because the numbers themselves don't have inherent meaning. \n",
    "</p>\n",
    "\n",
    "<b>Why we use Dummy variables?</b>\n",
    "\n",
    "<p>\n",
    "    So we can use categorical variables for regression analysis in the later modules.\n",
    "</p><br>\n",
    "<b>Example</b>\n",
    "<p>\n",
    "    We see the column \"fuel-type\" has two unique values, \"gas\" or \"diesel\". Regression doesn't understand words, only numbers. To use this attribute in regression analysis, we convert \"fuel-type\" into indicator variables.\n",
    "</p>\n",
    "\n",
    "<p>\n",
    "    We will use the panda's method 'get_dummies' to assign numerical values to different categories of fuel type. \n",
    "</p>\n",
    "\n",
    "</div>"
   ]
  },
  {
   "cell_type": "code",
   "execution_count": 31,
   "id": "d08959dd",
   "metadata": {
    "ExecuteTime": {
     "end_time": "2021-12-30T15:37:14.349487Z",
     "start_time": "2021-12-30T15:37:14.334639Z"
    }
   },
   "outputs": [
    {
     "data": {
      "text/html": [
       "<div>\n",
       "<style scoped>\n",
       "    .dataframe tbody tr th:only-of-type {\n",
       "        vertical-align: middle;\n",
       "    }\n",
       "\n",
       "    .dataframe tbody tr th {\n",
       "        vertical-align: top;\n",
       "    }\n",
       "\n",
       "    .dataframe thead th {\n",
       "        text-align: right;\n",
       "    }\n",
       "</style>\n",
       "<table border=\"1\" class=\"dataframe\">\n",
       "  <thead>\n",
       "    <tr style=\"text-align: right;\">\n",
       "      <th></th>\n",
       "      <th>diesel</th>\n",
       "      <th>gas</th>\n",
       "    </tr>\n",
       "  </thead>\n",
       "  <tbody>\n",
       "    <tr>\n",
       "      <th>91</th>\n",
       "      <td>0</td>\n",
       "      <td>1</td>\n",
       "    </tr>\n",
       "    <tr>\n",
       "      <th>135</th>\n",
       "      <td>0</td>\n",
       "      <td>1</td>\n",
       "    </tr>\n",
       "    <tr>\n",
       "      <th>170</th>\n",
       "      <td>1</td>\n",
       "      <td>0</td>\n",
       "    </tr>\n",
       "    <tr>\n",
       "      <th>105</th>\n",
       "      <td>1</td>\n",
       "      <td>0</td>\n",
       "    </tr>\n",
       "    <tr>\n",
       "      <th>90</th>\n",
       "      <td>0</td>\n",
       "      <td>1</td>\n",
       "    </tr>\n",
       "  </tbody>\n",
       "</table>\n",
       "</div>"
      ],
      "text/plain": [
       "     diesel  gas\n",
       "91        0    1\n",
       "135       0    1\n",
       "170       1    0\n",
       "105       1    0\n",
       "90        0    1"
      ]
     },
     "execution_count": 31,
     "metadata": {},
     "output_type": "execute_result"
    }
   ],
   "source": [
    "dummy_variable_1 = pd.get_dummies(df[\"fuel-type\"])\n",
    "dummy_variable_1.sample(5)"
   ]
  },
  {
   "cell_type": "code",
   "execution_count": 32,
   "id": "51e73628",
   "metadata": {
    "ExecuteTime": {
     "end_time": "2021-12-30T15:37:14.689194Z",
     "start_time": "2021-12-30T15:37:14.671328Z"
    }
   },
   "outputs": [
    {
     "data": {
      "text/html": [
       "<div>\n",
       "<style scoped>\n",
       "    .dataframe tbody tr th:only-of-type {\n",
       "        vertical-align: middle;\n",
       "    }\n",
       "\n",
       "    .dataframe tbody tr th {\n",
       "        vertical-align: top;\n",
       "    }\n",
       "\n",
       "    .dataframe thead th {\n",
       "        text-align: right;\n",
       "    }\n",
       "</style>\n",
       "<table border=\"1\" class=\"dataframe\">\n",
       "  <thead>\n",
       "    <tr style=\"text-align: right;\">\n",
       "      <th></th>\n",
       "      <th>0</th>\n",
       "      <th>1</th>\n",
       "    </tr>\n",
       "  </thead>\n",
       "  <tbody>\n",
       "    <tr>\n",
       "      <th>0</th>\n",
       "      <td>1.0</td>\n",
       "      <td>-1.0</td>\n",
       "    </tr>\n",
       "    <tr>\n",
       "      <th>1</th>\n",
       "      <td>-1.0</td>\n",
       "      <td>1.0</td>\n",
       "    </tr>\n",
       "  </tbody>\n",
       "</table>\n",
       "</div>"
      ],
      "text/plain": [
       "     0    1\n",
       "0  1.0 -1.0\n",
       "1 -1.0  1.0"
      ]
     },
     "execution_count": 32,
     "metadata": {},
     "output_type": "execute_result"
    }
   ],
   "source": [
    "## one-hot-encoder\n",
    "pd.DataFrame(OneHotEncoder().fit_transform(df[[\"fuel-type\"]]).toarray()).corr()\n",
    "# this creates a problem of multicollinearity and dummy variable trap"
   ]
  },
  {
   "cell_type": "markdown",
   "id": "97195023",
   "metadata": {},
   "source": [
    "Change column names for clarity, fuel-type-gas value 1 for gas, and 0 for diesel <br>\n",
    "(When creating dummy variables, a problem that can arise is known as the dummy variable trap. This occurs when we create k dummy variables instead of k-1 dummy variables.\n",
    "The number of dummy variables we must create is equal to k-1 where k is the number of different values that the categorical variable can take on.)"
   ]
  },
  {
   "cell_type": "code",
   "execution_count": 33,
   "id": "031aca7f",
   "metadata": {
    "ExecuteTime": {
     "end_time": "2021-12-30T15:37:15.853634Z",
     "start_time": "2021-12-30T15:37:15.841388Z"
    }
   },
   "outputs": [
    {
     "name": "stdout",
     "output_type": "stream",
     "text": [
      "   fuel-type-gas\n",
      "0              1\n",
      "1              1\n",
      "2              1\n",
      "3              1\n",
      "4              1\n"
     ]
    }
   ],
   "source": [
    "dummy_variable_1.drop(\"diesel\", axis = 1, inplace=True)\n",
    "dummy_variable_1.rename(columns={'gas':'fuel-type-gas'}, inplace=True)\n",
    "print(dummy_variable_1.head(5))"
   ]
  },
  {
   "cell_type": "markdown",
   "id": "1143e6c9",
   "metadata": {},
   "source": [
    "In the dataframe, column fuel-type has a value for 'gas' and 'diesel'as 1s and 0s respectively now"
   ]
  },
  {
   "cell_type": "code",
   "execution_count": 34,
   "id": "65ffb39d",
   "metadata": {
    "ExecuteTime": {
     "end_time": "2021-12-30T15:37:16.663344Z",
     "start_time": "2021-12-30T15:37:16.633809Z"
    }
   },
   "outputs": [
    {
     "data": {
      "text/html": [
       "<div>\n",
       "<style scoped>\n",
       "    .dataframe tbody tr th:only-of-type {\n",
       "        vertical-align: middle;\n",
       "    }\n",
       "\n",
       "    .dataframe tbody tr th {\n",
       "        vertical-align: top;\n",
       "    }\n",
       "\n",
       "    .dataframe thead th {\n",
       "        text-align: right;\n",
       "    }\n",
       "</style>\n",
       "<table border=\"1\" class=\"dataframe\">\n",
       "  <thead>\n",
       "    <tr style=\"text-align: right;\">\n",
       "      <th></th>\n",
       "      <th>symboling</th>\n",
       "      <th>normalized-losses</th>\n",
       "      <th>make</th>\n",
       "      <th>aspiration</th>\n",
       "      <th>num-of-doors</th>\n",
       "      <th>body-style</th>\n",
       "      <th>drive-wheels</th>\n",
       "      <th>engine-location</th>\n",
       "      <th>wheel-base</th>\n",
       "      <th>length</th>\n",
       "      <th>...</th>\n",
       "      <th>bore</th>\n",
       "      <th>stroke</th>\n",
       "      <th>compression-ratio</th>\n",
       "      <th>horsepower</th>\n",
       "      <th>peak-rpm</th>\n",
       "      <th>city-mpg</th>\n",
       "      <th>highway-mpg</th>\n",
       "      <th>price</th>\n",
       "      <th>horsepower-binned</th>\n",
       "      <th>fuel-type-gas</th>\n",
       "    </tr>\n",
       "  </thead>\n",
       "  <tbody>\n",
       "    <tr>\n",
       "      <th>0</th>\n",
       "      <td>3</td>\n",
       "      <td>122</td>\n",
       "      <td>alfa-romero</td>\n",
       "      <td>std</td>\n",
       "      <td>two</td>\n",
       "      <td>convertible</td>\n",
       "      <td>rwd</td>\n",
       "      <td>front</td>\n",
       "      <td>88.6</td>\n",
       "      <td>0.811148</td>\n",
       "      <td>...</td>\n",
       "      <td>3.47</td>\n",
       "      <td>2.68</td>\n",
       "      <td>9.0</td>\n",
       "      <td>111</td>\n",
       "      <td>5000.0</td>\n",
       "      <td>21</td>\n",
       "      <td>27</td>\n",
       "      <td>13495.0</td>\n",
       "      <td>Low</td>\n",
       "      <td>1</td>\n",
       "    </tr>\n",
       "    <tr>\n",
       "      <th>1</th>\n",
       "      <td>3</td>\n",
       "      <td>122</td>\n",
       "      <td>alfa-romero</td>\n",
       "      <td>std</td>\n",
       "      <td>two</td>\n",
       "      <td>convertible</td>\n",
       "      <td>rwd</td>\n",
       "      <td>front</td>\n",
       "      <td>88.6</td>\n",
       "      <td>0.811148</td>\n",
       "      <td>...</td>\n",
       "      <td>3.47</td>\n",
       "      <td>2.68</td>\n",
       "      <td>9.0</td>\n",
       "      <td>111</td>\n",
       "      <td>5000.0</td>\n",
       "      <td>21</td>\n",
       "      <td>27</td>\n",
       "      <td>16500.0</td>\n",
       "      <td>Low</td>\n",
       "      <td>1</td>\n",
       "    </tr>\n",
       "    <tr>\n",
       "      <th>2</th>\n",
       "      <td>1</td>\n",
       "      <td>122</td>\n",
       "      <td>alfa-romero</td>\n",
       "      <td>std</td>\n",
       "      <td>two</td>\n",
       "      <td>hatchback</td>\n",
       "      <td>rwd</td>\n",
       "      <td>front</td>\n",
       "      <td>94.5</td>\n",
       "      <td>0.822681</td>\n",
       "      <td>...</td>\n",
       "      <td>2.68</td>\n",
       "      <td>3.47</td>\n",
       "      <td>9.0</td>\n",
       "      <td>154</td>\n",
       "      <td>5000.0</td>\n",
       "      <td>19</td>\n",
       "      <td>26</td>\n",
       "      <td>16500.0</td>\n",
       "      <td>Medium</td>\n",
       "      <td>1</td>\n",
       "    </tr>\n",
       "    <tr>\n",
       "      <th>3</th>\n",
       "      <td>2</td>\n",
       "      <td>164</td>\n",
       "      <td>audi</td>\n",
       "      <td>std</td>\n",
       "      <td>four</td>\n",
       "      <td>sedan</td>\n",
       "      <td>fwd</td>\n",
       "      <td>front</td>\n",
       "      <td>99.8</td>\n",
       "      <td>0.848630</td>\n",
       "      <td>...</td>\n",
       "      <td>3.19</td>\n",
       "      <td>3.40</td>\n",
       "      <td>10.0</td>\n",
       "      <td>102</td>\n",
       "      <td>5500.0</td>\n",
       "      <td>24</td>\n",
       "      <td>30</td>\n",
       "      <td>13950.0</td>\n",
       "      <td>Low</td>\n",
       "      <td>1</td>\n",
       "    </tr>\n",
       "    <tr>\n",
       "      <th>4</th>\n",
       "      <td>2</td>\n",
       "      <td>164</td>\n",
       "      <td>audi</td>\n",
       "      <td>std</td>\n",
       "      <td>four</td>\n",
       "      <td>sedan</td>\n",
       "      <td>4wd</td>\n",
       "      <td>front</td>\n",
       "      <td>99.4</td>\n",
       "      <td>0.848630</td>\n",
       "      <td>...</td>\n",
       "      <td>3.19</td>\n",
       "      <td>3.40</td>\n",
       "      <td>8.0</td>\n",
       "      <td>115</td>\n",
       "      <td>5500.0</td>\n",
       "      <td>18</td>\n",
       "      <td>22</td>\n",
       "      <td>17450.0</td>\n",
       "      <td>Low</td>\n",
       "      <td>1</td>\n",
       "    </tr>\n",
       "  </tbody>\n",
       "</table>\n",
       "<p>5 rows × 27 columns</p>\n",
       "</div>"
      ],
      "text/plain": [
       "   symboling  normalized-losses         make aspiration num-of-doors  \\\n",
       "0          3                122  alfa-romero        std          two   \n",
       "1          3                122  alfa-romero        std          two   \n",
       "2          1                122  alfa-romero        std          two   \n",
       "3          2                164         audi        std         four   \n",
       "4          2                164         audi        std         four   \n",
       "\n",
       "    body-style drive-wheels engine-location  wheel-base    length  ...  bore  \\\n",
       "0  convertible          rwd           front        88.6  0.811148  ...  3.47   \n",
       "1  convertible          rwd           front        88.6  0.811148  ...  3.47   \n",
       "2    hatchback          rwd           front        94.5  0.822681  ...  2.68   \n",
       "3        sedan          fwd           front        99.8  0.848630  ...  3.19   \n",
       "4        sedan          4wd           front        99.4  0.848630  ...  3.19   \n",
       "\n",
       "   stroke  compression-ratio horsepower peak-rpm  city-mpg highway-mpg  \\\n",
       "0    2.68                9.0        111   5000.0        21          27   \n",
       "1    2.68                9.0        111   5000.0        21          27   \n",
       "2    3.47                9.0        154   5000.0        19          26   \n",
       "3    3.40               10.0        102   5500.0        24          30   \n",
       "4    3.40                8.0        115   5500.0        18          22   \n",
       "\n",
       "     price  horsepower-binned  fuel-type-gas  \n",
       "0  13495.0                Low              1  \n",
       "1  16500.0                Low              1  \n",
       "2  16500.0             Medium              1  \n",
       "3  13950.0                Low              1  \n",
       "4  17450.0                Low              1  \n",
       "\n",
       "[5 rows x 27 columns]"
      ]
     },
     "execution_count": 34,
     "metadata": {},
     "output_type": "execute_result"
    }
   ],
   "source": [
    "# merge data frame \"df\" and \"dummy_variable_1\" \n",
    "df = pd.concat([df, dummy_variable_1], axis=1)\n",
    "\n",
    "# drop original column \"fuel-type\" from \"df\"\n",
    "df.drop(\"fuel-type\", axis = 1, inplace=True)\n",
    "df.head()"
   ]
  },
  {
   "cell_type": "markdown",
   "id": "44d210d7",
   "metadata": {},
   "source": [
    "**Repeat for `aspiration` column**"
   ]
  },
  {
   "cell_type": "code",
   "execution_count": 35,
   "id": "70ea9b3f",
   "metadata": {
    "ExecuteTime": {
     "end_time": "2021-12-30T15:37:17.362233Z",
     "start_time": "2021-12-30T15:37:17.354971Z"
    }
   },
   "outputs": [],
   "source": [
    "# get indicator variables of aspiration and assign it to data frame \"dummy_variable_2\"\n",
    "dummy_variable_2 = pd.get_dummies(df['aspiration'])"
   ]
  },
  {
   "cell_type": "markdown",
   "id": "cb997798",
   "metadata": {
    "ExecuteTime": {
     "end_time": "2021-12-29T10:23:56.916036Z",
     "start_time": "2021-12-29T10:23:56.909164Z"
    }
   },
   "source": [
    "Change column names for aspiration, aspiration-turbo value 1 for turbo, and 0 for std"
   ]
  },
  {
   "cell_type": "code",
   "execution_count": 36,
   "id": "6dc8b2d3",
   "metadata": {
    "ExecuteTime": {
     "end_time": "2021-12-30T15:37:18.203207Z",
     "start_time": "2021-12-30T15:37:18.184354Z"
    }
   },
   "outputs": [
    {
     "data": {
      "text/html": [
       "<div>\n",
       "<style scoped>\n",
       "    .dataframe tbody tr th:only-of-type {\n",
       "        vertical-align: middle;\n",
       "    }\n",
       "\n",
       "    .dataframe tbody tr th {\n",
       "        vertical-align: top;\n",
       "    }\n",
       "\n",
       "    .dataframe thead th {\n",
       "        text-align: right;\n",
       "    }\n",
       "</style>\n",
       "<table border=\"1\" class=\"dataframe\">\n",
       "  <thead>\n",
       "    <tr style=\"text-align: right;\">\n",
       "      <th></th>\n",
       "      <th>aspiration-turbo</th>\n",
       "    </tr>\n",
       "  </thead>\n",
       "  <tbody>\n",
       "    <tr>\n",
       "      <th>0</th>\n",
       "      <td>0</td>\n",
       "    </tr>\n",
       "    <tr>\n",
       "      <th>1</th>\n",
       "      <td>0</td>\n",
       "    </tr>\n",
       "    <tr>\n",
       "      <th>2</th>\n",
       "      <td>0</td>\n",
       "    </tr>\n",
       "    <tr>\n",
       "      <th>3</th>\n",
       "      <td>0</td>\n",
       "    </tr>\n",
       "    <tr>\n",
       "      <th>4</th>\n",
       "      <td>0</td>\n",
       "    </tr>\n",
       "    <tr>\n",
       "      <th>...</th>\n",
       "      <td>...</td>\n",
       "    </tr>\n",
       "    <tr>\n",
       "      <th>196</th>\n",
       "      <td>0</td>\n",
       "    </tr>\n",
       "    <tr>\n",
       "      <th>197</th>\n",
       "      <td>1</td>\n",
       "    </tr>\n",
       "    <tr>\n",
       "      <th>198</th>\n",
       "      <td>0</td>\n",
       "    </tr>\n",
       "    <tr>\n",
       "      <th>199</th>\n",
       "      <td>1</td>\n",
       "    </tr>\n",
       "    <tr>\n",
       "      <th>200</th>\n",
       "      <td>1</td>\n",
       "    </tr>\n",
       "  </tbody>\n",
       "</table>\n",
       "<p>201 rows × 1 columns</p>\n",
       "</div>"
      ],
      "text/plain": [
       "     aspiration-turbo\n",
       "0                   0\n",
       "1                   0\n",
       "2                   0\n",
       "3                   0\n",
       "4                   0\n",
       "..                ...\n",
       "196                 0\n",
       "197                 1\n",
       "198                 0\n",
       "199                 1\n",
       "200                 1\n",
       "\n",
       "[201 rows x 1 columns]"
      ]
     },
     "execution_count": 36,
     "metadata": {},
     "output_type": "execute_result"
    }
   ],
   "source": [
    "dummy_variable_2.drop(\"std\", axis = 1, inplace=True)\n",
    "dummy_variable_2.rename(columns={'turbo': 'aspiration-turbo'}, inplace=True)\n",
    "dummy_variable_2"
   ]
  },
  {
   "cell_type": "code",
   "execution_count": 37,
   "id": "02c5bab4",
   "metadata": {
    "ExecuteTime": {
     "end_time": "2021-12-30T15:37:18.770450Z",
     "start_time": "2021-12-30T15:37:18.699564Z"
    }
   },
   "outputs": [
    {
     "data": {
      "text/html": [
       "<div>\n",
       "<style scoped>\n",
       "    .dataframe tbody tr th:only-of-type {\n",
       "        vertical-align: middle;\n",
       "    }\n",
       "\n",
       "    .dataframe tbody tr th {\n",
       "        vertical-align: top;\n",
       "    }\n",
       "\n",
       "    .dataframe thead th {\n",
       "        text-align: right;\n",
       "    }\n",
       "</style>\n",
       "<table border=\"1\" class=\"dataframe\">\n",
       "  <thead>\n",
       "    <tr style=\"text-align: right;\">\n",
       "      <th></th>\n",
       "      <th>symboling</th>\n",
       "      <th>normalized-losses</th>\n",
       "      <th>make</th>\n",
       "      <th>num-of-doors</th>\n",
       "      <th>body-style</th>\n",
       "      <th>drive-wheels</th>\n",
       "      <th>engine-location</th>\n",
       "      <th>wheel-base</th>\n",
       "      <th>length</th>\n",
       "      <th>width</th>\n",
       "      <th>...</th>\n",
       "      <th>stroke</th>\n",
       "      <th>compression-ratio</th>\n",
       "      <th>horsepower</th>\n",
       "      <th>peak-rpm</th>\n",
       "      <th>city-mpg</th>\n",
       "      <th>highway-mpg</th>\n",
       "      <th>price</th>\n",
       "      <th>horsepower-binned</th>\n",
       "      <th>fuel-type-gas</th>\n",
       "      <th>aspiration-turbo</th>\n",
       "    </tr>\n",
       "  </thead>\n",
       "  <tbody>\n",
       "    <tr>\n",
       "      <th>0</th>\n",
       "      <td>3</td>\n",
       "      <td>122</td>\n",
       "      <td>alfa-romero</td>\n",
       "      <td>two</td>\n",
       "      <td>convertible</td>\n",
       "      <td>rwd</td>\n",
       "      <td>front</td>\n",
       "      <td>88.6</td>\n",
       "      <td>0.811148</td>\n",
       "      <td>0.890278</td>\n",
       "      <td>...</td>\n",
       "      <td>2.68</td>\n",
       "      <td>9.0</td>\n",
       "      <td>111</td>\n",
       "      <td>5000.0</td>\n",
       "      <td>21</td>\n",
       "      <td>27</td>\n",
       "      <td>13495.0</td>\n",
       "      <td>Low</td>\n",
       "      <td>1</td>\n",
       "      <td>0</td>\n",
       "    </tr>\n",
       "    <tr>\n",
       "      <th>1</th>\n",
       "      <td>3</td>\n",
       "      <td>122</td>\n",
       "      <td>alfa-romero</td>\n",
       "      <td>two</td>\n",
       "      <td>convertible</td>\n",
       "      <td>rwd</td>\n",
       "      <td>front</td>\n",
       "      <td>88.6</td>\n",
       "      <td>0.811148</td>\n",
       "      <td>0.890278</td>\n",
       "      <td>...</td>\n",
       "      <td>2.68</td>\n",
       "      <td>9.0</td>\n",
       "      <td>111</td>\n",
       "      <td>5000.0</td>\n",
       "      <td>21</td>\n",
       "      <td>27</td>\n",
       "      <td>16500.0</td>\n",
       "      <td>Low</td>\n",
       "      <td>1</td>\n",
       "      <td>0</td>\n",
       "    </tr>\n",
       "    <tr>\n",
       "      <th>2</th>\n",
       "      <td>1</td>\n",
       "      <td>122</td>\n",
       "      <td>alfa-romero</td>\n",
       "      <td>two</td>\n",
       "      <td>hatchback</td>\n",
       "      <td>rwd</td>\n",
       "      <td>front</td>\n",
       "      <td>94.5</td>\n",
       "      <td>0.822681</td>\n",
       "      <td>0.909722</td>\n",
       "      <td>...</td>\n",
       "      <td>3.47</td>\n",
       "      <td>9.0</td>\n",
       "      <td>154</td>\n",
       "      <td>5000.0</td>\n",
       "      <td>19</td>\n",
       "      <td>26</td>\n",
       "      <td>16500.0</td>\n",
       "      <td>Medium</td>\n",
       "      <td>1</td>\n",
       "      <td>0</td>\n",
       "    </tr>\n",
       "    <tr>\n",
       "      <th>3</th>\n",
       "      <td>2</td>\n",
       "      <td>164</td>\n",
       "      <td>audi</td>\n",
       "      <td>four</td>\n",
       "      <td>sedan</td>\n",
       "      <td>fwd</td>\n",
       "      <td>front</td>\n",
       "      <td>99.8</td>\n",
       "      <td>0.848630</td>\n",
       "      <td>0.919444</td>\n",
       "      <td>...</td>\n",
       "      <td>3.40</td>\n",
       "      <td>10.0</td>\n",
       "      <td>102</td>\n",
       "      <td>5500.0</td>\n",
       "      <td>24</td>\n",
       "      <td>30</td>\n",
       "      <td>13950.0</td>\n",
       "      <td>Low</td>\n",
       "      <td>1</td>\n",
       "      <td>0</td>\n",
       "    </tr>\n",
       "    <tr>\n",
       "      <th>4</th>\n",
       "      <td>2</td>\n",
       "      <td>164</td>\n",
       "      <td>audi</td>\n",
       "      <td>four</td>\n",
       "      <td>sedan</td>\n",
       "      <td>4wd</td>\n",
       "      <td>front</td>\n",
       "      <td>99.4</td>\n",
       "      <td>0.848630</td>\n",
       "      <td>0.922222</td>\n",
       "      <td>...</td>\n",
       "      <td>3.40</td>\n",
       "      <td>8.0</td>\n",
       "      <td>115</td>\n",
       "      <td>5500.0</td>\n",
       "      <td>18</td>\n",
       "      <td>22</td>\n",
       "      <td>17450.0</td>\n",
       "      <td>Low</td>\n",
       "      <td>1</td>\n",
       "      <td>0</td>\n",
       "    </tr>\n",
       "  </tbody>\n",
       "</table>\n",
       "<p>5 rows × 27 columns</p>\n",
       "</div>"
      ],
      "text/plain": [
       "   symboling  normalized-losses         make num-of-doors   body-style  \\\n",
       "0          3                122  alfa-romero          two  convertible   \n",
       "1          3                122  alfa-romero          two  convertible   \n",
       "2          1                122  alfa-romero          two    hatchback   \n",
       "3          2                164         audi         four        sedan   \n",
       "4          2                164         audi         four        sedan   \n",
       "\n",
       "  drive-wheels engine-location  wheel-base    length     width  ...  stroke  \\\n",
       "0          rwd           front        88.6  0.811148  0.890278  ...    2.68   \n",
       "1          rwd           front        88.6  0.811148  0.890278  ...    2.68   \n",
       "2          rwd           front        94.5  0.822681  0.909722  ...    3.47   \n",
       "3          fwd           front        99.8  0.848630  0.919444  ...    3.40   \n",
       "4          4wd           front        99.4  0.848630  0.922222  ...    3.40   \n",
       "\n",
       "   compression-ratio horsepower peak-rpm  city-mpg highway-mpg    price  \\\n",
       "0                9.0        111   5000.0        21          27  13495.0   \n",
       "1                9.0        111   5000.0        21          27  16500.0   \n",
       "2                9.0        154   5000.0        19          26  16500.0   \n",
       "3               10.0        102   5500.0        24          30  13950.0   \n",
       "4                8.0        115   5500.0        18          22  17450.0   \n",
       "\n",
       "   horsepower-binned  fuel-type-gas  aspiration-turbo  \n",
       "0                Low              1                 0  \n",
       "1                Low              1                 0  \n",
       "2             Medium              1                 0  \n",
       "3                Low              1                 0  \n",
       "4                Low              1                 0  \n",
       "\n",
       "[5 rows x 27 columns]"
      ]
     },
     "execution_count": 37,
     "metadata": {},
     "output_type": "execute_result"
    }
   ],
   "source": [
    "# merge data frame \"df\" and \"dummy_variable_1\" \n",
    "df = pd.concat([df, dummy_variable_2], axis=1)\n",
    "\n",
    "# drop original column \"fuel-type\" from \"df\"\n",
    "df.drop(\"aspiration\", axis = 1, inplace=True)\n",
    "df.head()"
   ]
  },
  {
   "cell_type": "markdown",
   "id": "172f4b78",
   "metadata": {
    "ExecuteTime": {
     "end_time": "2021-12-30T15:21:22.957872Z",
     "start_time": "2021-12-30T15:21:22.951417Z"
    }
   },
   "source": [
    "**Repeat for `drive-wheels` column**"
   ]
  },
  {
   "cell_type": "code",
   "execution_count": 38,
   "id": "f7d0d0f8",
   "metadata": {
    "ExecuteTime": {
     "end_time": "2021-12-30T15:37:19.710412Z",
     "start_time": "2021-12-30T15:37:19.691848Z"
    }
   },
   "outputs": [
    {
     "data": {
      "text/html": [
       "<div>\n",
       "<style scoped>\n",
       "    .dataframe tbody tr th:only-of-type {\n",
       "        vertical-align: middle;\n",
       "    }\n",
       "\n",
       "    .dataframe tbody tr th {\n",
       "        vertical-align: top;\n",
       "    }\n",
       "\n",
       "    .dataframe thead th {\n",
       "        text-align: right;\n",
       "    }\n",
       "</style>\n",
       "<table border=\"1\" class=\"dataframe\">\n",
       "  <thead>\n",
       "    <tr style=\"text-align: right;\">\n",
       "      <th></th>\n",
       "      <th>drive_4wd</th>\n",
       "      <th>drive_fwd</th>\n",
       "      <th>drive_rwd</th>\n",
       "    </tr>\n",
       "  </thead>\n",
       "  <tbody>\n",
       "    <tr>\n",
       "      <th>0</th>\n",
       "      <td>0</td>\n",
       "      <td>0</td>\n",
       "      <td>1</td>\n",
       "    </tr>\n",
       "    <tr>\n",
       "      <th>1</th>\n",
       "      <td>0</td>\n",
       "      <td>0</td>\n",
       "      <td>1</td>\n",
       "    </tr>\n",
       "    <tr>\n",
       "      <th>2</th>\n",
       "      <td>0</td>\n",
       "      <td>0</td>\n",
       "      <td>1</td>\n",
       "    </tr>\n",
       "    <tr>\n",
       "      <th>3</th>\n",
       "      <td>0</td>\n",
       "      <td>1</td>\n",
       "      <td>0</td>\n",
       "    </tr>\n",
       "    <tr>\n",
       "      <th>4</th>\n",
       "      <td>1</td>\n",
       "      <td>0</td>\n",
       "      <td>0</td>\n",
       "    </tr>\n",
       "    <tr>\n",
       "      <th>...</th>\n",
       "      <td>...</td>\n",
       "      <td>...</td>\n",
       "      <td>...</td>\n",
       "    </tr>\n",
       "    <tr>\n",
       "      <th>196</th>\n",
       "      <td>0</td>\n",
       "      <td>0</td>\n",
       "      <td>1</td>\n",
       "    </tr>\n",
       "    <tr>\n",
       "      <th>197</th>\n",
       "      <td>0</td>\n",
       "      <td>0</td>\n",
       "      <td>1</td>\n",
       "    </tr>\n",
       "    <tr>\n",
       "      <th>198</th>\n",
       "      <td>0</td>\n",
       "      <td>0</td>\n",
       "      <td>1</td>\n",
       "    </tr>\n",
       "    <tr>\n",
       "      <th>199</th>\n",
       "      <td>0</td>\n",
       "      <td>0</td>\n",
       "      <td>1</td>\n",
       "    </tr>\n",
       "    <tr>\n",
       "      <th>200</th>\n",
       "      <td>0</td>\n",
       "      <td>0</td>\n",
       "      <td>1</td>\n",
       "    </tr>\n",
       "  </tbody>\n",
       "</table>\n",
       "<p>201 rows × 3 columns</p>\n",
       "</div>"
      ],
      "text/plain": [
       "     drive_4wd  drive_fwd  drive_rwd\n",
       "0            0          0          1\n",
       "1            0          0          1\n",
       "2            0          0          1\n",
       "3            0          1          0\n",
       "4            1          0          0\n",
       "..         ...        ...        ...\n",
       "196          0          0          1\n",
       "197          0          0          1\n",
       "198          0          0          1\n",
       "199          0          0          1\n",
       "200          0          0          1\n",
       "\n",
       "[201 rows x 3 columns]"
      ]
     },
     "execution_count": 38,
     "metadata": {},
     "output_type": "execute_result"
    }
   ],
   "source": [
    "# get indicator variables of aspiration and assign it to data frame \"dummy_variable_2\"\n",
    "dummy_variable_3 = pd.get_dummies(df['drive-wheels'], prefix='drive')\n",
    "dummy_variable_3"
   ]
  },
  {
   "cell_type": "code",
   "execution_count": 39,
   "id": "feccd700",
   "metadata": {
    "ExecuteTime": {
     "end_time": "2021-12-30T15:37:20.072693Z",
     "start_time": "2021-12-30T15:37:20.053372Z"
    }
   },
   "outputs": [
    {
     "data": {
      "text/html": [
       "<div>\n",
       "<style scoped>\n",
       "    .dataframe tbody tr th:only-of-type {\n",
       "        vertical-align: middle;\n",
       "    }\n",
       "\n",
       "    .dataframe tbody tr th {\n",
       "        vertical-align: top;\n",
       "    }\n",
       "\n",
       "    .dataframe thead th {\n",
       "        text-align: right;\n",
       "    }\n",
       "</style>\n",
       "<table border=\"1\" class=\"dataframe\">\n",
       "  <thead>\n",
       "    <tr style=\"text-align: right;\">\n",
       "      <th></th>\n",
       "      <th>0</th>\n",
       "      <th>1</th>\n",
       "      <th>2</th>\n",
       "    </tr>\n",
       "  </thead>\n",
       "  <tbody>\n",
       "    <tr>\n",
       "      <th>0</th>\n",
       "      <td>1.000000</td>\n",
       "      <td>-0.242755</td>\n",
       "      <td>-0.157077</td>\n",
       "    </tr>\n",
       "    <tr>\n",
       "      <th>1</th>\n",
       "      <td>-0.242755</td>\n",
       "      <td>1.000000</td>\n",
       "      <td>-0.919914</td>\n",
       "    </tr>\n",
       "    <tr>\n",
       "      <th>2</th>\n",
       "      <td>-0.157077</td>\n",
       "      <td>-0.919914</td>\n",
       "      <td>1.000000</td>\n",
       "    </tr>\n",
       "  </tbody>\n",
       "</table>\n",
       "</div>"
      ],
      "text/plain": [
       "          0         1         2\n",
       "0  1.000000 -0.242755 -0.157077\n",
       "1 -0.242755  1.000000 -0.919914\n",
       "2 -0.157077 -0.919914  1.000000"
      ]
     },
     "execution_count": 39,
     "metadata": {},
     "output_type": "execute_result"
    }
   ],
   "source": [
    "## check for dummy variable trap\n",
    "pd.DataFrame(OneHotEncoder().fit_transform(df[[\"drive-wheels\"]]).toarray()).corr() "
   ]
  },
  {
   "cell_type": "code",
   "execution_count": 40,
   "id": "06d05842",
   "metadata": {
    "ExecuteTime": {
     "end_time": "2021-12-30T15:37:20.684134Z",
     "start_time": "2021-12-30T15:37:20.654559Z"
    }
   },
   "outputs": [
    {
     "data": {
      "text/html": [
       "<div>\n",
       "<style scoped>\n",
       "    .dataframe tbody tr th:only-of-type {\n",
       "        vertical-align: middle;\n",
       "    }\n",
       "\n",
       "    .dataframe tbody tr th {\n",
       "        vertical-align: top;\n",
       "    }\n",
       "\n",
       "    .dataframe thead th {\n",
       "        text-align: right;\n",
       "    }\n",
       "</style>\n",
       "<table border=\"1\" class=\"dataframe\">\n",
       "  <thead>\n",
       "    <tr style=\"text-align: right;\">\n",
       "      <th></th>\n",
       "      <th>symboling</th>\n",
       "      <th>normalized-losses</th>\n",
       "      <th>make</th>\n",
       "      <th>num-of-doors</th>\n",
       "      <th>body-style</th>\n",
       "      <th>engine-location</th>\n",
       "      <th>wheel-base</th>\n",
       "      <th>length</th>\n",
       "      <th>width</th>\n",
       "      <th>height</th>\n",
       "      <th>...</th>\n",
       "      <th>peak-rpm</th>\n",
       "      <th>city-mpg</th>\n",
       "      <th>highway-mpg</th>\n",
       "      <th>price</th>\n",
       "      <th>horsepower-binned</th>\n",
       "      <th>fuel-type-gas</th>\n",
       "      <th>aspiration-turbo</th>\n",
       "      <th>drive_4wd</th>\n",
       "      <th>drive_fwd</th>\n",
       "      <th>drive_rwd</th>\n",
       "    </tr>\n",
       "  </thead>\n",
       "  <tbody>\n",
       "    <tr>\n",
       "      <th>0</th>\n",
       "      <td>3</td>\n",
       "      <td>122</td>\n",
       "      <td>alfa-romero</td>\n",
       "      <td>two</td>\n",
       "      <td>convertible</td>\n",
       "      <td>front</td>\n",
       "      <td>88.6</td>\n",
       "      <td>0.811148</td>\n",
       "      <td>0.890278</td>\n",
       "      <td>0.816054</td>\n",
       "      <td>...</td>\n",
       "      <td>5000.0</td>\n",
       "      <td>21</td>\n",
       "      <td>27</td>\n",
       "      <td>13495.0</td>\n",
       "      <td>Low</td>\n",
       "      <td>1</td>\n",
       "      <td>0</td>\n",
       "      <td>0</td>\n",
       "      <td>0</td>\n",
       "      <td>1</td>\n",
       "    </tr>\n",
       "    <tr>\n",
       "      <th>1</th>\n",
       "      <td>3</td>\n",
       "      <td>122</td>\n",
       "      <td>alfa-romero</td>\n",
       "      <td>two</td>\n",
       "      <td>convertible</td>\n",
       "      <td>front</td>\n",
       "      <td>88.6</td>\n",
       "      <td>0.811148</td>\n",
       "      <td>0.890278</td>\n",
       "      <td>0.816054</td>\n",
       "      <td>...</td>\n",
       "      <td>5000.0</td>\n",
       "      <td>21</td>\n",
       "      <td>27</td>\n",
       "      <td>16500.0</td>\n",
       "      <td>Low</td>\n",
       "      <td>1</td>\n",
       "      <td>0</td>\n",
       "      <td>0</td>\n",
       "      <td>0</td>\n",
       "      <td>1</td>\n",
       "    </tr>\n",
       "    <tr>\n",
       "      <th>2</th>\n",
       "      <td>1</td>\n",
       "      <td>122</td>\n",
       "      <td>alfa-romero</td>\n",
       "      <td>two</td>\n",
       "      <td>hatchback</td>\n",
       "      <td>front</td>\n",
       "      <td>94.5</td>\n",
       "      <td>0.822681</td>\n",
       "      <td>0.909722</td>\n",
       "      <td>0.876254</td>\n",
       "      <td>...</td>\n",
       "      <td>5000.0</td>\n",
       "      <td>19</td>\n",
       "      <td>26</td>\n",
       "      <td>16500.0</td>\n",
       "      <td>Medium</td>\n",
       "      <td>1</td>\n",
       "      <td>0</td>\n",
       "      <td>0</td>\n",
       "      <td>0</td>\n",
       "      <td>1</td>\n",
       "    </tr>\n",
       "    <tr>\n",
       "      <th>3</th>\n",
       "      <td>2</td>\n",
       "      <td>164</td>\n",
       "      <td>audi</td>\n",
       "      <td>four</td>\n",
       "      <td>sedan</td>\n",
       "      <td>front</td>\n",
       "      <td>99.8</td>\n",
       "      <td>0.848630</td>\n",
       "      <td>0.919444</td>\n",
       "      <td>0.908027</td>\n",
       "      <td>...</td>\n",
       "      <td>5500.0</td>\n",
       "      <td>24</td>\n",
       "      <td>30</td>\n",
       "      <td>13950.0</td>\n",
       "      <td>Low</td>\n",
       "      <td>1</td>\n",
       "      <td>0</td>\n",
       "      <td>0</td>\n",
       "      <td>1</td>\n",
       "      <td>0</td>\n",
       "    </tr>\n",
       "    <tr>\n",
       "      <th>4</th>\n",
       "      <td>2</td>\n",
       "      <td>164</td>\n",
       "      <td>audi</td>\n",
       "      <td>four</td>\n",
       "      <td>sedan</td>\n",
       "      <td>front</td>\n",
       "      <td>99.4</td>\n",
       "      <td>0.848630</td>\n",
       "      <td>0.922222</td>\n",
       "      <td>0.908027</td>\n",
       "      <td>...</td>\n",
       "      <td>5500.0</td>\n",
       "      <td>18</td>\n",
       "      <td>22</td>\n",
       "      <td>17450.0</td>\n",
       "      <td>Low</td>\n",
       "      <td>1</td>\n",
       "      <td>0</td>\n",
       "      <td>1</td>\n",
       "      <td>0</td>\n",
       "      <td>0</td>\n",
       "    </tr>\n",
       "  </tbody>\n",
       "</table>\n",
       "<p>5 rows × 29 columns</p>\n",
       "</div>"
      ],
      "text/plain": [
       "   symboling  normalized-losses         make num-of-doors   body-style  \\\n",
       "0          3                122  alfa-romero          two  convertible   \n",
       "1          3                122  alfa-romero          two  convertible   \n",
       "2          1                122  alfa-romero          two    hatchback   \n",
       "3          2                164         audi         four        sedan   \n",
       "4          2                164         audi         four        sedan   \n",
       "\n",
       "  engine-location  wheel-base    length     width    height  ...  peak-rpm  \\\n",
       "0           front        88.6  0.811148  0.890278  0.816054  ...    5000.0   \n",
       "1           front        88.6  0.811148  0.890278  0.816054  ...    5000.0   \n",
       "2           front        94.5  0.822681  0.909722  0.876254  ...    5000.0   \n",
       "3           front        99.8  0.848630  0.919444  0.908027  ...    5500.0   \n",
       "4           front        99.4  0.848630  0.922222  0.908027  ...    5500.0   \n",
       "\n",
       "  city-mpg highway-mpg    price horsepower-binned  fuel-type-gas  \\\n",
       "0       21          27  13495.0               Low              1   \n",
       "1       21          27  16500.0               Low              1   \n",
       "2       19          26  16500.0            Medium              1   \n",
       "3       24          30  13950.0               Low              1   \n",
       "4       18          22  17450.0               Low              1   \n",
       "\n",
       "   aspiration-turbo  drive_4wd  drive_fwd  drive_rwd  \n",
       "0                 0          0          0          1  \n",
       "1                 0          0          0          1  \n",
       "2                 0          0          0          1  \n",
       "3                 0          0          1          0  \n",
       "4                 0          1          0          0  \n",
       "\n",
       "[5 rows x 29 columns]"
      ]
     },
     "execution_count": 40,
     "metadata": {},
     "output_type": "execute_result"
    }
   ],
   "source": [
    "# merge data frame \"df\" and \"dummy_variable_1\" \n",
    "df = pd.concat([df, dummy_variable_3], axis=1)\n",
    "\n",
    "# drop original column \"fuel-type\" from \"df\"\n",
    "df.drop(\"drive-wheels\", axis = 1, inplace=True)\n",
    "df.head()"
   ]
  },
  {
   "cell_type": "markdown",
   "id": "0a3f1930",
   "metadata": {},
   "source": [
    "### Convert from word to number"
   ]
  },
  {
   "cell_type": "markdown",
   "id": "5e4da64f",
   "metadata": {},
   "source": [
    "**We can convert `num-of-doors` column also to numerical as the values are numerical type just mentioned as words.**"
   ]
  },
  {
   "cell_type": "code",
   "execution_count": 41,
   "id": "ca9d6687",
   "metadata": {
    "ExecuteTime": {
     "end_time": "2021-12-30T15:37:22.979035Z",
     "start_time": "2021-12-30T15:37:22.969665Z"
    }
   },
   "outputs": [
    {
     "data": {
      "text/plain": [
       "four    115\n",
       "two      86\n",
       "Name: num-of-doors, dtype: int64"
      ]
     },
     "execution_count": 41,
     "metadata": {},
     "output_type": "execute_result"
    }
   ],
   "source": [
    "df[\"num-of-doors\"].value_counts()"
   ]
  },
  {
   "cell_type": "code",
   "execution_count": 42,
   "id": "96f9cda8",
   "metadata": {
    "ExecuteTime": {
     "end_time": "2021-12-30T15:37:23.436343Z",
     "start_time": "2021-12-30T15:37:23.423239Z"
    }
   },
   "outputs": [
    {
     "data": {
      "text/plain": [
       "4    115\n",
       "2     86\n",
       "Name: num-of-doors, dtype: int64"
      ]
     },
     "execution_count": 42,
     "metadata": {},
     "output_type": "execute_result"
    }
   ],
   "source": [
    "df[\"num-of-doors\"] = df[\"num-of-doors\"].map({\"four\":4,\"two\":2})\n",
    "df[\"num-of-doors\"].value_counts()"
   ]
  },
  {
   "cell_type": "markdown",
   "id": "08f74d36",
   "metadata": {},
   "source": [
    "**Repeat for `num-of-cylinders` column**"
   ]
  },
  {
   "cell_type": "code",
   "execution_count": 43,
   "id": "d0f1ce05",
   "metadata": {
    "ExecuteTime": {
     "end_time": "2021-12-30T15:37:24.082707Z",
     "start_time": "2021-12-30T15:37:24.072885Z"
    }
   },
   "outputs": [
    {
     "data": {
      "text/plain": [
       "four      157\n",
       "six        24\n",
       "five       10\n",
       "two         4\n",
       "eight       4\n",
       "three       1\n",
       "twelve      1\n",
       "Name: num-of-cylinders, dtype: int64"
      ]
     },
     "execution_count": 43,
     "metadata": {},
     "output_type": "execute_result"
    }
   ],
   "source": [
    "df[\"num-of-cylinders\"].value_counts()"
   ]
  },
  {
   "cell_type": "code",
   "execution_count": 44,
   "id": "292f7868",
   "metadata": {
    "ExecuteTime": {
     "end_time": "2021-12-30T15:37:24.352739Z",
     "start_time": "2021-12-30T15:37:24.339705Z"
    }
   },
   "outputs": [
    {
     "data": {
      "text/plain": [
       "4     157\n",
       "6      24\n",
       "5      10\n",
       "2       4\n",
       "8       4\n",
       "3       1\n",
       "12      1\n",
       "Name: num-of-cylinders, dtype: int64"
      ]
     },
     "execution_count": 44,
     "metadata": {},
     "output_type": "execute_result"
    }
   ],
   "source": [
    "df[\"num-of-cylinders\"] = df[\"num-of-cylinders\"].map({\"four\": 4, \"six\": 6, \"five\": 5, \n",
    "                                               \"eight\": 8, \"two\": 2, \"twelve\": 12, \n",
    "                                               \"three\":3})\n",
    "df[\"num-of-cylinders\"].value_counts()"
   ]
  },
  {
   "cell_type": "code",
   "execution_count": 45,
   "id": "968ceaca",
   "metadata": {
    "ExecuteTime": {
     "end_time": "2021-12-30T15:37:24.602745Z",
     "start_time": "2021-12-30T15:37:24.575503Z"
    }
   },
   "outputs": [
    {
     "data": {
      "text/html": [
       "<div>\n",
       "<style scoped>\n",
       "    .dataframe tbody tr th:only-of-type {\n",
       "        vertical-align: middle;\n",
       "    }\n",
       "\n",
       "    .dataframe tbody tr th {\n",
       "        vertical-align: top;\n",
       "    }\n",
       "\n",
       "    .dataframe thead th {\n",
       "        text-align: right;\n",
       "    }\n",
       "</style>\n",
       "<table border=\"1\" class=\"dataframe\">\n",
       "  <thead>\n",
       "    <tr style=\"text-align: right;\">\n",
       "      <th></th>\n",
       "      <th>symboling</th>\n",
       "      <th>normalized-losses</th>\n",
       "      <th>make</th>\n",
       "      <th>num-of-doors</th>\n",
       "      <th>body-style</th>\n",
       "      <th>engine-location</th>\n",
       "      <th>wheel-base</th>\n",
       "      <th>length</th>\n",
       "      <th>width</th>\n",
       "      <th>height</th>\n",
       "      <th>...</th>\n",
       "      <th>peak-rpm</th>\n",
       "      <th>city-mpg</th>\n",
       "      <th>highway-mpg</th>\n",
       "      <th>price</th>\n",
       "      <th>horsepower-binned</th>\n",
       "      <th>fuel-type-gas</th>\n",
       "      <th>aspiration-turbo</th>\n",
       "      <th>drive_4wd</th>\n",
       "      <th>drive_fwd</th>\n",
       "      <th>drive_rwd</th>\n",
       "    </tr>\n",
       "  </thead>\n",
       "  <tbody>\n",
       "    <tr>\n",
       "      <th>0</th>\n",
       "      <td>3</td>\n",
       "      <td>122</td>\n",
       "      <td>alfa-romero</td>\n",
       "      <td>2</td>\n",
       "      <td>convertible</td>\n",
       "      <td>front</td>\n",
       "      <td>88.6</td>\n",
       "      <td>0.811148</td>\n",
       "      <td>0.890278</td>\n",
       "      <td>0.816054</td>\n",
       "      <td>...</td>\n",
       "      <td>5000.0</td>\n",
       "      <td>21</td>\n",
       "      <td>27</td>\n",
       "      <td>13495.0</td>\n",
       "      <td>Low</td>\n",
       "      <td>1</td>\n",
       "      <td>0</td>\n",
       "      <td>0</td>\n",
       "      <td>0</td>\n",
       "      <td>1</td>\n",
       "    </tr>\n",
       "    <tr>\n",
       "      <th>1</th>\n",
       "      <td>3</td>\n",
       "      <td>122</td>\n",
       "      <td>alfa-romero</td>\n",
       "      <td>2</td>\n",
       "      <td>convertible</td>\n",
       "      <td>front</td>\n",
       "      <td>88.6</td>\n",
       "      <td>0.811148</td>\n",
       "      <td>0.890278</td>\n",
       "      <td>0.816054</td>\n",
       "      <td>...</td>\n",
       "      <td>5000.0</td>\n",
       "      <td>21</td>\n",
       "      <td>27</td>\n",
       "      <td>16500.0</td>\n",
       "      <td>Low</td>\n",
       "      <td>1</td>\n",
       "      <td>0</td>\n",
       "      <td>0</td>\n",
       "      <td>0</td>\n",
       "      <td>1</td>\n",
       "    </tr>\n",
       "    <tr>\n",
       "      <th>2</th>\n",
       "      <td>1</td>\n",
       "      <td>122</td>\n",
       "      <td>alfa-romero</td>\n",
       "      <td>2</td>\n",
       "      <td>hatchback</td>\n",
       "      <td>front</td>\n",
       "      <td>94.5</td>\n",
       "      <td>0.822681</td>\n",
       "      <td>0.909722</td>\n",
       "      <td>0.876254</td>\n",
       "      <td>...</td>\n",
       "      <td>5000.0</td>\n",
       "      <td>19</td>\n",
       "      <td>26</td>\n",
       "      <td>16500.0</td>\n",
       "      <td>Medium</td>\n",
       "      <td>1</td>\n",
       "      <td>0</td>\n",
       "      <td>0</td>\n",
       "      <td>0</td>\n",
       "      <td>1</td>\n",
       "    </tr>\n",
       "    <tr>\n",
       "      <th>3</th>\n",
       "      <td>2</td>\n",
       "      <td>164</td>\n",
       "      <td>audi</td>\n",
       "      <td>4</td>\n",
       "      <td>sedan</td>\n",
       "      <td>front</td>\n",
       "      <td>99.8</td>\n",
       "      <td>0.848630</td>\n",
       "      <td>0.919444</td>\n",
       "      <td>0.908027</td>\n",
       "      <td>...</td>\n",
       "      <td>5500.0</td>\n",
       "      <td>24</td>\n",
       "      <td>30</td>\n",
       "      <td>13950.0</td>\n",
       "      <td>Low</td>\n",
       "      <td>1</td>\n",
       "      <td>0</td>\n",
       "      <td>0</td>\n",
       "      <td>1</td>\n",
       "      <td>0</td>\n",
       "    </tr>\n",
       "    <tr>\n",
       "      <th>4</th>\n",
       "      <td>2</td>\n",
       "      <td>164</td>\n",
       "      <td>audi</td>\n",
       "      <td>4</td>\n",
       "      <td>sedan</td>\n",
       "      <td>front</td>\n",
       "      <td>99.4</td>\n",
       "      <td>0.848630</td>\n",
       "      <td>0.922222</td>\n",
       "      <td>0.908027</td>\n",
       "      <td>...</td>\n",
       "      <td>5500.0</td>\n",
       "      <td>18</td>\n",
       "      <td>22</td>\n",
       "      <td>17450.0</td>\n",
       "      <td>Low</td>\n",
       "      <td>1</td>\n",
       "      <td>0</td>\n",
       "      <td>1</td>\n",
       "      <td>0</td>\n",
       "      <td>0</td>\n",
       "    </tr>\n",
       "  </tbody>\n",
       "</table>\n",
       "<p>5 rows × 29 columns</p>\n",
       "</div>"
      ],
      "text/plain": [
       "   symboling  normalized-losses         make  num-of-doors   body-style  \\\n",
       "0          3                122  alfa-romero             2  convertible   \n",
       "1          3                122  alfa-romero             2  convertible   \n",
       "2          1                122  alfa-romero             2    hatchback   \n",
       "3          2                164         audi             4        sedan   \n",
       "4          2                164         audi             4        sedan   \n",
       "\n",
       "  engine-location  wheel-base    length     width    height  ...  peak-rpm  \\\n",
       "0           front        88.6  0.811148  0.890278  0.816054  ...    5000.0   \n",
       "1           front        88.6  0.811148  0.890278  0.816054  ...    5000.0   \n",
       "2           front        94.5  0.822681  0.909722  0.876254  ...    5000.0   \n",
       "3           front        99.8  0.848630  0.919444  0.908027  ...    5500.0   \n",
       "4           front        99.4  0.848630  0.922222  0.908027  ...    5500.0   \n",
       "\n",
       "  city-mpg  highway-mpg    price horsepower-binned  fuel-type-gas  \\\n",
       "0       21           27  13495.0               Low              1   \n",
       "1       21           27  16500.0               Low              1   \n",
       "2       19           26  16500.0            Medium              1   \n",
       "3       24           30  13950.0               Low              1   \n",
       "4       18           22  17450.0               Low              1   \n",
       "\n",
       "   aspiration-turbo  drive_4wd  drive_fwd  drive_rwd  \n",
       "0                 0          0          0          1  \n",
       "1                 0          0          0          1  \n",
       "2                 0          0          0          1  \n",
       "3                 0          0          1          0  \n",
       "4                 0          1          0          0  \n",
       "\n",
       "[5 rows x 29 columns]"
      ]
     },
     "execution_count": 45,
     "metadata": {},
     "output_type": "execute_result"
    }
   ],
   "source": [
    "df.head()"
   ]
  },
  {
   "cell_type": "markdown",
   "id": "c5ea272c",
   "metadata": {},
   "source": [
    "### Label Encoding"
   ]
  },
  {
   "cell_type": "markdown",
   "id": "79723b97",
   "metadata": {},
   "source": [
    "**For `body-style` column** <br><br>\n",
    "Label encoding is simply converting each value in a column to a number. For example, the body_style column contains 5 different values. We could choose to encode it like this: <br>\n",
    "\n",
    "convertible -> 0 <br>\n",
    "hardtop -> 1 <br>\n",
    "hatchback -> 2 <br>\n",
    "sedan -> 3 <br>\n",
    "wagon -> 4"
   ]
  },
  {
   "cell_type": "code",
   "execution_count": 46,
   "id": "bad82fbb",
   "metadata": {
    "ExecuteTime": {
     "end_time": "2021-12-30T15:37:25.484664Z",
     "start_time": "2021-12-30T15:37:25.473988Z"
    }
   },
   "outputs": [
    {
     "data": {
      "text/plain": [
       "sedan          94\n",
       "hatchback      68\n",
       "wagon          25\n",
       "hardtop         8\n",
       "convertible     6\n",
       "Name: body-style, dtype: int64"
      ]
     },
     "execution_count": 46,
     "metadata": {},
     "output_type": "execute_result"
    }
   ],
   "source": [
    "df[\"body-style\"].value_counts()"
   ]
  },
  {
   "cell_type": "code",
   "execution_count": 47,
   "id": "8c849d0a",
   "metadata": {
    "ExecuteTime": {
     "end_time": "2021-12-30T15:37:25.888999Z",
     "start_time": "2021-12-30T15:37:25.860681Z"
    }
   },
   "outputs": [
    {
     "data": {
      "text/html": [
       "<div>\n",
       "<style scoped>\n",
       "    .dataframe tbody tr th:only-of-type {\n",
       "        vertical-align: middle;\n",
       "    }\n",
       "\n",
       "    .dataframe tbody tr th {\n",
       "        vertical-align: top;\n",
       "    }\n",
       "\n",
       "    .dataframe thead th {\n",
       "        text-align: right;\n",
       "    }\n",
       "</style>\n",
       "<table border=\"1\" class=\"dataframe\">\n",
       "  <thead>\n",
       "    <tr style=\"text-align: right;\">\n",
       "      <th></th>\n",
       "      <th>symboling</th>\n",
       "      <th>normalized-losses</th>\n",
       "      <th>make</th>\n",
       "      <th>num-of-doors</th>\n",
       "      <th>engine-location</th>\n",
       "      <th>wheel-base</th>\n",
       "      <th>length</th>\n",
       "      <th>width</th>\n",
       "      <th>height</th>\n",
       "      <th>curb-weight</th>\n",
       "      <th>...</th>\n",
       "      <th>city-mpg</th>\n",
       "      <th>highway-mpg</th>\n",
       "      <th>price</th>\n",
       "      <th>horsepower-binned</th>\n",
       "      <th>fuel-type-gas</th>\n",
       "      <th>aspiration-turbo</th>\n",
       "      <th>drive_4wd</th>\n",
       "      <th>drive_fwd</th>\n",
       "      <th>drive_rwd</th>\n",
       "      <th>body-style-cat</th>\n",
       "    </tr>\n",
       "  </thead>\n",
       "  <tbody>\n",
       "    <tr>\n",
       "      <th>0</th>\n",
       "      <td>3</td>\n",
       "      <td>122</td>\n",
       "      <td>alfa-romero</td>\n",
       "      <td>2</td>\n",
       "      <td>front</td>\n",
       "      <td>88.6</td>\n",
       "      <td>0.811148</td>\n",
       "      <td>0.890278</td>\n",
       "      <td>0.816054</td>\n",
       "      <td>2548</td>\n",
       "      <td>...</td>\n",
       "      <td>21</td>\n",
       "      <td>27</td>\n",
       "      <td>13495.0</td>\n",
       "      <td>Low</td>\n",
       "      <td>1</td>\n",
       "      <td>0</td>\n",
       "      <td>0</td>\n",
       "      <td>0</td>\n",
       "      <td>1</td>\n",
       "      <td>0</td>\n",
       "    </tr>\n",
       "    <tr>\n",
       "      <th>1</th>\n",
       "      <td>3</td>\n",
       "      <td>122</td>\n",
       "      <td>alfa-romero</td>\n",
       "      <td>2</td>\n",
       "      <td>front</td>\n",
       "      <td>88.6</td>\n",
       "      <td>0.811148</td>\n",
       "      <td>0.890278</td>\n",
       "      <td>0.816054</td>\n",
       "      <td>2548</td>\n",
       "      <td>...</td>\n",
       "      <td>21</td>\n",
       "      <td>27</td>\n",
       "      <td>16500.0</td>\n",
       "      <td>Low</td>\n",
       "      <td>1</td>\n",
       "      <td>0</td>\n",
       "      <td>0</td>\n",
       "      <td>0</td>\n",
       "      <td>1</td>\n",
       "      <td>0</td>\n",
       "    </tr>\n",
       "    <tr>\n",
       "      <th>2</th>\n",
       "      <td>1</td>\n",
       "      <td>122</td>\n",
       "      <td>alfa-romero</td>\n",
       "      <td>2</td>\n",
       "      <td>front</td>\n",
       "      <td>94.5</td>\n",
       "      <td>0.822681</td>\n",
       "      <td>0.909722</td>\n",
       "      <td>0.876254</td>\n",
       "      <td>2823</td>\n",
       "      <td>...</td>\n",
       "      <td>19</td>\n",
       "      <td>26</td>\n",
       "      <td>16500.0</td>\n",
       "      <td>Medium</td>\n",
       "      <td>1</td>\n",
       "      <td>0</td>\n",
       "      <td>0</td>\n",
       "      <td>0</td>\n",
       "      <td>1</td>\n",
       "      <td>2</td>\n",
       "    </tr>\n",
       "    <tr>\n",
       "      <th>3</th>\n",
       "      <td>2</td>\n",
       "      <td>164</td>\n",
       "      <td>audi</td>\n",
       "      <td>4</td>\n",
       "      <td>front</td>\n",
       "      <td>99.8</td>\n",
       "      <td>0.848630</td>\n",
       "      <td>0.919444</td>\n",
       "      <td>0.908027</td>\n",
       "      <td>2337</td>\n",
       "      <td>...</td>\n",
       "      <td>24</td>\n",
       "      <td>30</td>\n",
       "      <td>13950.0</td>\n",
       "      <td>Low</td>\n",
       "      <td>1</td>\n",
       "      <td>0</td>\n",
       "      <td>0</td>\n",
       "      <td>1</td>\n",
       "      <td>0</td>\n",
       "      <td>3</td>\n",
       "    </tr>\n",
       "    <tr>\n",
       "      <th>4</th>\n",
       "      <td>2</td>\n",
       "      <td>164</td>\n",
       "      <td>audi</td>\n",
       "      <td>4</td>\n",
       "      <td>front</td>\n",
       "      <td>99.4</td>\n",
       "      <td>0.848630</td>\n",
       "      <td>0.922222</td>\n",
       "      <td>0.908027</td>\n",
       "      <td>2824</td>\n",
       "      <td>...</td>\n",
       "      <td>18</td>\n",
       "      <td>22</td>\n",
       "      <td>17450.0</td>\n",
       "      <td>Low</td>\n",
       "      <td>1</td>\n",
       "      <td>0</td>\n",
       "      <td>1</td>\n",
       "      <td>0</td>\n",
       "      <td>0</td>\n",
       "      <td>3</td>\n",
       "    </tr>\n",
       "  </tbody>\n",
       "</table>\n",
       "<p>5 rows × 29 columns</p>\n",
       "</div>"
      ],
      "text/plain": [
       "   symboling  normalized-losses         make  num-of-doors engine-location  \\\n",
       "0          3                122  alfa-romero             2           front   \n",
       "1          3                122  alfa-romero             2           front   \n",
       "2          1                122  alfa-romero             2           front   \n",
       "3          2                164         audi             4           front   \n",
       "4          2                164         audi             4           front   \n",
       "\n",
       "   wheel-base    length     width    height  curb-weight  ... city-mpg  \\\n",
       "0        88.6  0.811148  0.890278  0.816054         2548  ...       21   \n",
       "1        88.6  0.811148  0.890278  0.816054         2548  ...       21   \n",
       "2        94.5  0.822681  0.909722  0.876254         2823  ...       19   \n",
       "3        99.8  0.848630  0.919444  0.908027         2337  ...       24   \n",
       "4        99.4  0.848630  0.922222  0.908027         2824  ...       18   \n",
       "\n",
       "   highway-mpg    price horsepower-binned  fuel-type-gas  aspiration-turbo  \\\n",
       "0           27  13495.0               Low              1                 0   \n",
       "1           27  16500.0               Low              1                 0   \n",
       "2           26  16500.0            Medium              1                 0   \n",
       "3           30  13950.0               Low              1                 0   \n",
       "4           22  17450.0               Low              1                 0   \n",
       "\n",
       "   drive_4wd  drive_fwd  drive_rwd  body-style-cat  \n",
       "0          0          0          1               0  \n",
       "1          0          0          1               0  \n",
       "2          0          0          1               2  \n",
       "3          0          1          0               3  \n",
       "4          1          0          0               3  \n",
       "\n",
       "[5 rows x 29 columns]"
      ]
     },
     "execution_count": 47,
     "metadata": {},
     "output_type": "execute_result"
    }
   ],
   "source": [
    "df[\"body-style\"] = df[\"body-style\"].astype('category')\n",
    "df[\"body-style-cat\"] = df[\"body-style\"].cat.codes\n",
    "df.drop(\"body-style\", axis = 1, inplace=True)\n",
    "df.head()"
   ]
  },
  {
   "cell_type": "markdown",
   "id": "fb65498e",
   "metadata": {},
   "source": [
    "**Repeat for `engine-location` column**"
   ]
  },
  {
   "cell_type": "markdown",
   "id": "a61b9a74",
   "metadata": {},
   "source": [
    "front -> 0 <br>\n",
    "rear -> 1"
   ]
  },
  {
   "cell_type": "code",
   "execution_count": 48,
   "id": "f903e176",
   "metadata": {
    "ExecuteTime": {
     "end_time": "2021-12-30T15:37:26.665550Z",
     "start_time": "2021-12-30T15:37:26.656172Z"
    }
   },
   "outputs": [
    {
     "data": {
      "text/plain": [
       "front    198\n",
       "rear       3\n",
       "Name: engine-location, dtype: int64"
      ]
     },
     "execution_count": 48,
     "metadata": {},
     "output_type": "execute_result"
    }
   ],
   "source": [
    "df[\"engine-location\"].value_counts()"
   ]
  },
  {
   "cell_type": "code",
   "execution_count": 49,
   "id": "bd71af80",
   "metadata": {
    "ExecuteTime": {
     "end_time": "2021-12-30T15:37:27.069472Z",
     "start_time": "2021-12-30T15:37:27.040143Z"
    }
   },
   "outputs": [
    {
     "data": {
      "text/html": [
       "<div>\n",
       "<style scoped>\n",
       "    .dataframe tbody tr th:only-of-type {\n",
       "        vertical-align: middle;\n",
       "    }\n",
       "\n",
       "    .dataframe tbody tr th {\n",
       "        vertical-align: top;\n",
       "    }\n",
       "\n",
       "    .dataframe thead th {\n",
       "        text-align: right;\n",
       "    }\n",
       "</style>\n",
       "<table border=\"1\" class=\"dataframe\">\n",
       "  <thead>\n",
       "    <tr style=\"text-align: right;\">\n",
       "      <th></th>\n",
       "      <th>symboling</th>\n",
       "      <th>normalized-losses</th>\n",
       "      <th>make</th>\n",
       "      <th>num-of-doors</th>\n",
       "      <th>wheel-base</th>\n",
       "      <th>length</th>\n",
       "      <th>width</th>\n",
       "      <th>height</th>\n",
       "      <th>curb-weight</th>\n",
       "      <th>engine-type</th>\n",
       "      <th>...</th>\n",
       "      <th>highway-mpg</th>\n",
       "      <th>price</th>\n",
       "      <th>horsepower-binned</th>\n",
       "      <th>fuel-type-gas</th>\n",
       "      <th>aspiration-turbo</th>\n",
       "      <th>drive_4wd</th>\n",
       "      <th>drive_fwd</th>\n",
       "      <th>drive_rwd</th>\n",
       "      <th>body-style-cat</th>\n",
       "      <th>engine-location-cat</th>\n",
       "    </tr>\n",
       "  </thead>\n",
       "  <tbody>\n",
       "    <tr>\n",
       "      <th>0</th>\n",
       "      <td>3</td>\n",
       "      <td>122</td>\n",
       "      <td>alfa-romero</td>\n",
       "      <td>2</td>\n",
       "      <td>88.6</td>\n",
       "      <td>0.811148</td>\n",
       "      <td>0.890278</td>\n",
       "      <td>0.816054</td>\n",
       "      <td>2548</td>\n",
       "      <td>dohc</td>\n",
       "      <td>...</td>\n",
       "      <td>27</td>\n",
       "      <td>13495.0</td>\n",
       "      <td>Low</td>\n",
       "      <td>1</td>\n",
       "      <td>0</td>\n",
       "      <td>0</td>\n",
       "      <td>0</td>\n",
       "      <td>1</td>\n",
       "      <td>0</td>\n",
       "      <td>0</td>\n",
       "    </tr>\n",
       "    <tr>\n",
       "      <th>1</th>\n",
       "      <td>3</td>\n",
       "      <td>122</td>\n",
       "      <td>alfa-romero</td>\n",
       "      <td>2</td>\n",
       "      <td>88.6</td>\n",
       "      <td>0.811148</td>\n",
       "      <td>0.890278</td>\n",
       "      <td>0.816054</td>\n",
       "      <td>2548</td>\n",
       "      <td>dohc</td>\n",
       "      <td>...</td>\n",
       "      <td>27</td>\n",
       "      <td>16500.0</td>\n",
       "      <td>Low</td>\n",
       "      <td>1</td>\n",
       "      <td>0</td>\n",
       "      <td>0</td>\n",
       "      <td>0</td>\n",
       "      <td>1</td>\n",
       "      <td>0</td>\n",
       "      <td>0</td>\n",
       "    </tr>\n",
       "    <tr>\n",
       "      <th>2</th>\n",
       "      <td>1</td>\n",
       "      <td>122</td>\n",
       "      <td>alfa-romero</td>\n",
       "      <td>2</td>\n",
       "      <td>94.5</td>\n",
       "      <td>0.822681</td>\n",
       "      <td>0.909722</td>\n",
       "      <td>0.876254</td>\n",
       "      <td>2823</td>\n",
       "      <td>ohcv</td>\n",
       "      <td>...</td>\n",
       "      <td>26</td>\n",
       "      <td>16500.0</td>\n",
       "      <td>Medium</td>\n",
       "      <td>1</td>\n",
       "      <td>0</td>\n",
       "      <td>0</td>\n",
       "      <td>0</td>\n",
       "      <td>1</td>\n",
       "      <td>2</td>\n",
       "      <td>0</td>\n",
       "    </tr>\n",
       "    <tr>\n",
       "      <th>3</th>\n",
       "      <td>2</td>\n",
       "      <td>164</td>\n",
       "      <td>audi</td>\n",
       "      <td>4</td>\n",
       "      <td>99.8</td>\n",
       "      <td>0.848630</td>\n",
       "      <td>0.919444</td>\n",
       "      <td>0.908027</td>\n",
       "      <td>2337</td>\n",
       "      <td>ohc</td>\n",
       "      <td>...</td>\n",
       "      <td>30</td>\n",
       "      <td>13950.0</td>\n",
       "      <td>Low</td>\n",
       "      <td>1</td>\n",
       "      <td>0</td>\n",
       "      <td>0</td>\n",
       "      <td>1</td>\n",
       "      <td>0</td>\n",
       "      <td>3</td>\n",
       "      <td>0</td>\n",
       "    </tr>\n",
       "    <tr>\n",
       "      <th>4</th>\n",
       "      <td>2</td>\n",
       "      <td>164</td>\n",
       "      <td>audi</td>\n",
       "      <td>4</td>\n",
       "      <td>99.4</td>\n",
       "      <td>0.848630</td>\n",
       "      <td>0.922222</td>\n",
       "      <td>0.908027</td>\n",
       "      <td>2824</td>\n",
       "      <td>ohc</td>\n",
       "      <td>...</td>\n",
       "      <td>22</td>\n",
       "      <td>17450.0</td>\n",
       "      <td>Low</td>\n",
       "      <td>1</td>\n",
       "      <td>0</td>\n",
       "      <td>1</td>\n",
       "      <td>0</td>\n",
       "      <td>0</td>\n",
       "      <td>3</td>\n",
       "      <td>0</td>\n",
       "    </tr>\n",
       "  </tbody>\n",
       "</table>\n",
       "<p>5 rows × 29 columns</p>\n",
       "</div>"
      ],
      "text/plain": [
       "   symboling  normalized-losses         make  num-of-doors  wheel-base  \\\n",
       "0          3                122  alfa-romero             2        88.6   \n",
       "1          3                122  alfa-romero             2        88.6   \n",
       "2          1                122  alfa-romero             2        94.5   \n",
       "3          2                164         audi             4        99.8   \n",
       "4          2                164         audi             4        99.4   \n",
       "\n",
       "     length     width    height  curb-weight engine-type  ...  highway-mpg  \\\n",
       "0  0.811148  0.890278  0.816054         2548        dohc  ...           27   \n",
       "1  0.811148  0.890278  0.816054         2548        dohc  ...           27   \n",
       "2  0.822681  0.909722  0.876254         2823        ohcv  ...           26   \n",
       "3  0.848630  0.919444  0.908027         2337         ohc  ...           30   \n",
       "4  0.848630  0.922222  0.908027         2824         ohc  ...           22   \n",
       "\n",
       "     price horsepower-binned  fuel-type-gas  aspiration-turbo  drive_4wd  \\\n",
       "0  13495.0               Low              1                 0          0   \n",
       "1  16500.0               Low              1                 0          0   \n",
       "2  16500.0            Medium              1                 0          0   \n",
       "3  13950.0               Low              1                 0          0   \n",
       "4  17450.0               Low              1                 0          1   \n",
       "\n",
       "   drive_fwd  drive_rwd  body-style-cat  engine-location-cat  \n",
       "0          0          1               0                    0  \n",
       "1          0          1               0                    0  \n",
       "2          0          1               2                    0  \n",
       "3          1          0               3                    0  \n",
       "4          0          0               3                    0  \n",
       "\n",
       "[5 rows x 29 columns]"
      ]
     },
     "execution_count": 49,
     "metadata": {},
     "output_type": "execute_result"
    }
   ],
   "source": [
    "df[\"engine-location\"] = df[\"engine-location\"].astype('category')\n",
    "df[\"engine-location-cat\"] = df[\"engine-location\"].cat.codes\n",
    "df.drop(\"engine-location\", axis = 1, inplace=True)\n",
    "df.head()"
   ]
  },
  {
   "cell_type": "markdown",
   "id": "e7a7b199",
   "metadata": {},
   "source": [
    "**Repeat for `make` column**"
   ]
  },
  {
   "cell_type": "code",
   "execution_count": 50,
   "id": "4e5fcc21",
   "metadata": {
    "ExecuteTime": {
     "end_time": "2021-12-30T15:37:27.796733Z",
     "start_time": "2021-12-30T15:37:27.785552Z"
    }
   },
   "outputs": [
    {
     "data": {
      "text/plain": [
       "toyota           32\n",
       "nissan           18\n",
       "mazda            17\n",
       "mitsubishi       13\n",
       "honda            13\n",
       "volkswagen       12\n",
       "subaru           12\n",
       "peugot           11\n",
       "volvo            11\n",
       "dodge             9\n",
       "mercedes-benz     8\n",
       "bmw               8\n",
       "plymouth          7\n",
       "audi              6\n",
       "saab              6\n",
       "porsche           4\n",
       "jaguar            3\n",
       "chevrolet         3\n",
       "alfa-romero       3\n",
       "isuzu             2\n",
       "renault           2\n",
       "mercury           1\n",
       "Name: make, dtype: int64"
      ]
     },
     "execution_count": 50,
     "metadata": {},
     "output_type": "execute_result"
    }
   ],
   "source": [
    "df[\"make\"].value_counts()"
   ]
  },
  {
   "cell_type": "code",
   "execution_count": 51,
   "id": "9d5fea55",
   "metadata": {
    "ExecuteTime": {
     "end_time": "2021-12-30T15:37:28.235355Z",
     "start_time": "2021-12-30T15:37:28.207016Z"
    }
   },
   "outputs": [
    {
     "data": {
      "text/html": [
       "<div>\n",
       "<style scoped>\n",
       "    .dataframe tbody tr th:only-of-type {\n",
       "        vertical-align: middle;\n",
       "    }\n",
       "\n",
       "    .dataframe tbody tr th {\n",
       "        vertical-align: top;\n",
       "    }\n",
       "\n",
       "    .dataframe thead th {\n",
       "        text-align: right;\n",
       "    }\n",
       "</style>\n",
       "<table border=\"1\" class=\"dataframe\">\n",
       "  <thead>\n",
       "    <tr style=\"text-align: right;\">\n",
       "      <th></th>\n",
       "      <th>symboling</th>\n",
       "      <th>normalized-losses</th>\n",
       "      <th>num-of-doors</th>\n",
       "      <th>wheel-base</th>\n",
       "      <th>length</th>\n",
       "      <th>width</th>\n",
       "      <th>height</th>\n",
       "      <th>curb-weight</th>\n",
       "      <th>engine-type</th>\n",
       "      <th>num-of-cylinders</th>\n",
       "      <th>...</th>\n",
       "      <th>price</th>\n",
       "      <th>horsepower-binned</th>\n",
       "      <th>fuel-type-gas</th>\n",
       "      <th>aspiration-turbo</th>\n",
       "      <th>drive_4wd</th>\n",
       "      <th>drive_fwd</th>\n",
       "      <th>drive_rwd</th>\n",
       "      <th>body-style-cat</th>\n",
       "      <th>engine-location-cat</th>\n",
       "      <th>make-cat</th>\n",
       "    </tr>\n",
       "  </thead>\n",
       "  <tbody>\n",
       "    <tr>\n",
       "      <th>0</th>\n",
       "      <td>3</td>\n",
       "      <td>122</td>\n",
       "      <td>2</td>\n",
       "      <td>88.6</td>\n",
       "      <td>0.811148</td>\n",
       "      <td>0.890278</td>\n",
       "      <td>0.816054</td>\n",
       "      <td>2548</td>\n",
       "      <td>dohc</td>\n",
       "      <td>4</td>\n",
       "      <td>...</td>\n",
       "      <td>13495.0</td>\n",
       "      <td>Low</td>\n",
       "      <td>1</td>\n",
       "      <td>0</td>\n",
       "      <td>0</td>\n",
       "      <td>0</td>\n",
       "      <td>1</td>\n",
       "      <td>0</td>\n",
       "      <td>0</td>\n",
       "      <td>0</td>\n",
       "    </tr>\n",
       "    <tr>\n",
       "      <th>1</th>\n",
       "      <td>3</td>\n",
       "      <td>122</td>\n",
       "      <td>2</td>\n",
       "      <td>88.6</td>\n",
       "      <td>0.811148</td>\n",
       "      <td>0.890278</td>\n",
       "      <td>0.816054</td>\n",
       "      <td>2548</td>\n",
       "      <td>dohc</td>\n",
       "      <td>4</td>\n",
       "      <td>...</td>\n",
       "      <td>16500.0</td>\n",
       "      <td>Low</td>\n",
       "      <td>1</td>\n",
       "      <td>0</td>\n",
       "      <td>0</td>\n",
       "      <td>0</td>\n",
       "      <td>1</td>\n",
       "      <td>0</td>\n",
       "      <td>0</td>\n",
       "      <td>0</td>\n",
       "    </tr>\n",
       "    <tr>\n",
       "      <th>2</th>\n",
       "      <td>1</td>\n",
       "      <td>122</td>\n",
       "      <td>2</td>\n",
       "      <td>94.5</td>\n",
       "      <td>0.822681</td>\n",
       "      <td>0.909722</td>\n",
       "      <td>0.876254</td>\n",
       "      <td>2823</td>\n",
       "      <td>ohcv</td>\n",
       "      <td>6</td>\n",
       "      <td>...</td>\n",
       "      <td>16500.0</td>\n",
       "      <td>Medium</td>\n",
       "      <td>1</td>\n",
       "      <td>0</td>\n",
       "      <td>0</td>\n",
       "      <td>0</td>\n",
       "      <td>1</td>\n",
       "      <td>2</td>\n",
       "      <td>0</td>\n",
       "      <td>0</td>\n",
       "    </tr>\n",
       "    <tr>\n",
       "      <th>3</th>\n",
       "      <td>2</td>\n",
       "      <td>164</td>\n",
       "      <td>4</td>\n",
       "      <td>99.8</td>\n",
       "      <td>0.848630</td>\n",
       "      <td>0.919444</td>\n",
       "      <td>0.908027</td>\n",
       "      <td>2337</td>\n",
       "      <td>ohc</td>\n",
       "      <td>4</td>\n",
       "      <td>...</td>\n",
       "      <td>13950.0</td>\n",
       "      <td>Low</td>\n",
       "      <td>1</td>\n",
       "      <td>0</td>\n",
       "      <td>0</td>\n",
       "      <td>1</td>\n",
       "      <td>0</td>\n",
       "      <td>3</td>\n",
       "      <td>0</td>\n",
       "      <td>1</td>\n",
       "    </tr>\n",
       "    <tr>\n",
       "      <th>4</th>\n",
       "      <td>2</td>\n",
       "      <td>164</td>\n",
       "      <td>4</td>\n",
       "      <td>99.4</td>\n",
       "      <td>0.848630</td>\n",
       "      <td>0.922222</td>\n",
       "      <td>0.908027</td>\n",
       "      <td>2824</td>\n",
       "      <td>ohc</td>\n",
       "      <td>5</td>\n",
       "      <td>...</td>\n",
       "      <td>17450.0</td>\n",
       "      <td>Low</td>\n",
       "      <td>1</td>\n",
       "      <td>0</td>\n",
       "      <td>1</td>\n",
       "      <td>0</td>\n",
       "      <td>0</td>\n",
       "      <td>3</td>\n",
       "      <td>0</td>\n",
       "      <td>1</td>\n",
       "    </tr>\n",
       "  </tbody>\n",
       "</table>\n",
       "<p>5 rows × 29 columns</p>\n",
       "</div>"
      ],
      "text/plain": [
       "   symboling  normalized-losses  num-of-doors  wheel-base    length     width  \\\n",
       "0          3                122             2        88.6  0.811148  0.890278   \n",
       "1          3                122             2        88.6  0.811148  0.890278   \n",
       "2          1                122             2        94.5  0.822681  0.909722   \n",
       "3          2                164             4        99.8  0.848630  0.919444   \n",
       "4          2                164             4        99.4  0.848630  0.922222   \n",
       "\n",
       "     height  curb-weight engine-type  num-of-cylinders  ...    price  \\\n",
       "0  0.816054         2548        dohc                 4  ...  13495.0   \n",
       "1  0.816054         2548        dohc                 4  ...  16500.0   \n",
       "2  0.876254         2823        ohcv                 6  ...  16500.0   \n",
       "3  0.908027         2337         ohc                 4  ...  13950.0   \n",
       "4  0.908027         2824         ohc                 5  ...  17450.0   \n",
       "\n",
       "  horsepower-binned  fuel-type-gas  aspiration-turbo  drive_4wd  drive_fwd  \\\n",
       "0               Low              1                 0          0          0   \n",
       "1               Low              1                 0          0          0   \n",
       "2            Medium              1                 0          0          0   \n",
       "3               Low              1                 0          0          1   \n",
       "4               Low              1                 0          1          0   \n",
       "\n",
       "   drive_rwd  body-style-cat  engine-location-cat  make-cat  \n",
       "0          1               0                    0         0  \n",
       "1          1               0                    0         0  \n",
       "2          1               2                    0         0  \n",
       "3          0               3                    0         1  \n",
       "4          0               3                    0         1  \n",
       "\n",
       "[5 rows x 29 columns]"
      ]
     },
     "execution_count": 51,
     "metadata": {},
     "output_type": "execute_result"
    }
   ],
   "source": [
    "df[\"make\"] = df[\"make\"].astype('category')\n",
    "df[\"make-cat\"] = df[\"make\"].cat.codes\n",
    "df.drop(\"make\", axis = 1, inplace=True)\n",
    "df.head()"
   ]
  },
  {
   "cell_type": "markdown",
   "id": "e75ba3b1",
   "metadata": {},
   "source": [
    "**Repeat for `fuel-system` column**"
   ]
  },
  {
   "cell_type": "code",
   "execution_count": 52,
   "id": "bb9e7118",
   "metadata": {
    "ExecuteTime": {
     "end_time": "2021-12-30T15:37:28.967775Z",
     "start_time": "2021-12-30T15:37:28.957015Z"
    }
   },
   "outputs": [
    {
     "data": {
      "text/plain": [
       "mpfi    92\n",
       "2bbl    64\n",
       "idi     20\n",
       "1bbl    11\n",
       "spdi     9\n",
       "4bbl     3\n",
       "mfi      1\n",
       "spfi     1\n",
       "Name: fuel-system, dtype: int64"
      ]
     },
     "execution_count": 52,
     "metadata": {},
     "output_type": "execute_result"
    }
   ],
   "source": [
    "df[\"fuel-system\"].value_counts()"
   ]
  },
  {
   "cell_type": "code",
   "execution_count": 53,
   "id": "94f77f35",
   "metadata": {
    "ExecuteTime": {
     "end_time": "2021-12-30T15:37:29.370759Z",
     "start_time": "2021-12-30T15:37:29.343692Z"
    }
   },
   "outputs": [
    {
     "data": {
      "text/html": [
       "<div>\n",
       "<style scoped>\n",
       "    .dataframe tbody tr th:only-of-type {\n",
       "        vertical-align: middle;\n",
       "    }\n",
       "\n",
       "    .dataframe tbody tr th {\n",
       "        vertical-align: top;\n",
       "    }\n",
       "\n",
       "    .dataframe thead th {\n",
       "        text-align: right;\n",
       "    }\n",
       "</style>\n",
       "<table border=\"1\" class=\"dataframe\">\n",
       "  <thead>\n",
       "    <tr style=\"text-align: right;\">\n",
       "      <th></th>\n",
       "      <th>symboling</th>\n",
       "      <th>normalized-losses</th>\n",
       "      <th>num-of-doors</th>\n",
       "      <th>wheel-base</th>\n",
       "      <th>length</th>\n",
       "      <th>width</th>\n",
       "      <th>height</th>\n",
       "      <th>curb-weight</th>\n",
       "      <th>engine-type</th>\n",
       "      <th>num-of-cylinders</th>\n",
       "      <th>...</th>\n",
       "      <th>horsepower-binned</th>\n",
       "      <th>fuel-type-gas</th>\n",
       "      <th>aspiration-turbo</th>\n",
       "      <th>drive_4wd</th>\n",
       "      <th>drive_fwd</th>\n",
       "      <th>drive_rwd</th>\n",
       "      <th>body-style-cat</th>\n",
       "      <th>engine-location-cat</th>\n",
       "      <th>make-cat</th>\n",
       "      <th>fuel-system-cat</th>\n",
       "    </tr>\n",
       "  </thead>\n",
       "  <tbody>\n",
       "    <tr>\n",
       "      <th>0</th>\n",
       "      <td>3</td>\n",
       "      <td>122</td>\n",
       "      <td>2</td>\n",
       "      <td>88.6</td>\n",
       "      <td>0.811148</td>\n",
       "      <td>0.890278</td>\n",
       "      <td>0.816054</td>\n",
       "      <td>2548</td>\n",
       "      <td>dohc</td>\n",
       "      <td>4</td>\n",
       "      <td>...</td>\n",
       "      <td>Low</td>\n",
       "      <td>1</td>\n",
       "      <td>0</td>\n",
       "      <td>0</td>\n",
       "      <td>0</td>\n",
       "      <td>1</td>\n",
       "      <td>0</td>\n",
       "      <td>0</td>\n",
       "      <td>0</td>\n",
       "      <td>5</td>\n",
       "    </tr>\n",
       "    <tr>\n",
       "      <th>1</th>\n",
       "      <td>3</td>\n",
       "      <td>122</td>\n",
       "      <td>2</td>\n",
       "      <td>88.6</td>\n",
       "      <td>0.811148</td>\n",
       "      <td>0.890278</td>\n",
       "      <td>0.816054</td>\n",
       "      <td>2548</td>\n",
       "      <td>dohc</td>\n",
       "      <td>4</td>\n",
       "      <td>...</td>\n",
       "      <td>Low</td>\n",
       "      <td>1</td>\n",
       "      <td>0</td>\n",
       "      <td>0</td>\n",
       "      <td>0</td>\n",
       "      <td>1</td>\n",
       "      <td>0</td>\n",
       "      <td>0</td>\n",
       "      <td>0</td>\n",
       "      <td>5</td>\n",
       "    </tr>\n",
       "    <tr>\n",
       "      <th>2</th>\n",
       "      <td>1</td>\n",
       "      <td>122</td>\n",
       "      <td>2</td>\n",
       "      <td>94.5</td>\n",
       "      <td>0.822681</td>\n",
       "      <td>0.909722</td>\n",
       "      <td>0.876254</td>\n",
       "      <td>2823</td>\n",
       "      <td>ohcv</td>\n",
       "      <td>6</td>\n",
       "      <td>...</td>\n",
       "      <td>Medium</td>\n",
       "      <td>1</td>\n",
       "      <td>0</td>\n",
       "      <td>0</td>\n",
       "      <td>0</td>\n",
       "      <td>1</td>\n",
       "      <td>2</td>\n",
       "      <td>0</td>\n",
       "      <td>0</td>\n",
       "      <td>5</td>\n",
       "    </tr>\n",
       "    <tr>\n",
       "      <th>3</th>\n",
       "      <td>2</td>\n",
       "      <td>164</td>\n",
       "      <td>4</td>\n",
       "      <td>99.8</td>\n",
       "      <td>0.848630</td>\n",
       "      <td>0.919444</td>\n",
       "      <td>0.908027</td>\n",
       "      <td>2337</td>\n",
       "      <td>ohc</td>\n",
       "      <td>4</td>\n",
       "      <td>...</td>\n",
       "      <td>Low</td>\n",
       "      <td>1</td>\n",
       "      <td>0</td>\n",
       "      <td>0</td>\n",
       "      <td>1</td>\n",
       "      <td>0</td>\n",
       "      <td>3</td>\n",
       "      <td>0</td>\n",
       "      <td>1</td>\n",
       "      <td>5</td>\n",
       "    </tr>\n",
       "    <tr>\n",
       "      <th>4</th>\n",
       "      <td>2</td>\n",
       "      <td>164</td>\n",
       "      <td>4</td>\n",
       "      <td>99.4</td>\n",
       "      <td>0.848630</td>\n",
       "      <td>0.922222</td>\n",
       "      <td>0.908027</td>\n",
       "      <td>2824</td>\n",
       "      <td>ohc</td>\n",
       "      <td>5</td>\n",
       "      <td>...</td>\n",
       "      <td>Low</td>\n",
       "      <td>1</td>\n",
       "      <td>0</td>\n",
       "      <td>1</td>\n",
       "      <td>0</td>\n",
       "      <td>0</td>\n",
       "      <td>3</td>\n",
       "      <td>0</td>\n",
       "      <td>1</td>\n",
       "      <td>5</td>\n",
       "    </tr>\n",
       "  </tbody>\n",
       "</table>\n",
       "<p>5 rows × 29 columns</p>\n",
       "</div>"
      ],
      "text/plain": [
       "   symboling  normalized-losses  num-of-doors  wheel-base    length     width  \\\n",
       "0          3                122             2        88.6  0.811148  0.890278   \n",
       "1          3                122             2        88.6  0.811148  0.890278   \n",
       "2          1                122             2        94.5  0.822681  0.909722   \n",
       "3          2                164             4        99.8  0.848630  0.919444   \n",
       "4          2                164             4        99.4  0.848630  0.922222   \n",
       "\n",
       "     height  curb-weight engine-type  num-of-cylinders  ...  \\\n",
       "0  0.816054         2548        dohc                 4  ...   \n",
       "1  0.816054         2548        dohc                 4  ...   \n",
       "2  0.876254         2823        ohcv                 6  ...   \n",
       "3  0.908027         2337         ohc                 4  ...   \n",
       "4  0.908027         2824         ohc                 5  ...   \n",
       "\n",
       "   horsepower-binned  fuel-type-gas  aspiration-turbo  drive_4wd  drive_fwd  \\\n",
       "0                Low              1                 0          0          0   \n",
       "1                Low              1                 0          0          0   \n",
       "2             Medium              1                 0          0          0   \n",
       "3                Low              1                 0          0          1   \n",
       "4                Low              1                 0          1          0   \n",
       "\n",
       "   drive_rwd  body-style-cat  engine-location-cat  make-cat fuel-system-cat  \n",
       "0          1               0                    0         0               5  \n",
       "1          1               0                    0         0               5  \n",
       "2          1               2                    0         0               5  \n",
       "3          0               3                    0         1               5  \n",
       "4          0               3                    0         1               5  \n",
       "\n",
       "[5 rows x 29 columns]"
      ]
     },
     "execution_count": 53,
     "metadata": {},
     "output_type": "execute_result"
    }
   ],
   "source": [
    "df[\"fuel-system\"] = df[\"fuel-system\"].astype('category')\n",
    "df[\"fuel-system-cat\"] = df[\"fuel-system\"].cat.codes\n",
    "df.drop(\"fuel-system\", axis = 1, inplace=True)\n",
    "df.head()"
   ]
  },
  {
   "cell_type": "markdown",
   "id": "b3df2165",
   "metadata": {},
   "source": [
    "### Custom Binary Encoding"
   ]
  },
  {
   "cell_type": "markdown",
   "id": "f9e8d509",
   "metadata": {},
   "source": [
    "**For `engine-type` column** <br><br>\n",
    "We can assume that the various versions of OHC are all the same for this analysis. \n",
    "If this is the case, then we could use the str accessor plus `np.where` to create \n",
    "a new column the indicates whether or not the car has an OHC engine."
   ]
  },
  {
   "cell_type": "code",
   "execution_count": 54,
   "id": "5a4edf00",
   "metadata": {
    "ExecuteTime": {
     "end_time": "2021-12-30T15:37:30.797027Z",
     "start_time": "2021-12-30T15:37:30.786230Z"
    }
   },
   "outputs": [
    {
     "data": {
      "text/plain": [
       "ohc      145\n",
       "ohcf      15\n",
       "ohcv      13\n",
       "dohc      12\n",
       "l         12\n",
       "rotor      4\n",
       "Name: engine-type, dtype: int64"
      ]
     },
     "execution_count": 54,
     "metadata": {},
     "output_type": "execute_result"
    }
   ],
   "source": [
    "df[\"engine-type\"].value_counts()"
   ]
  },
  {
   "cell_type": "code",
   "execution_count": 55,
   "id": "cd4a8a70",
   "metadata": {
    "ExecuteTime": {
     "end_time": "2021-12-30T15:37:31.353299Z",
     "start_time": "2021-12-30T15:37:31.344676Z"
    }
   },
   "outputs": [],
   "source": [
    "df[\"engine-type(ohc)\"] = np.where(df[\"engine-type\"].str.contains(\"ohc\"), 1, 0)"
   ]
  },
  {
   "cell_type": "code",
   "execution_count": 56,
   "id": "0c7f68e6",
   "metadata": {
    "ExecuteTime": {
     "end_time": "2021-12-30T15:37:31.864918Z",
     "start_time": "2021-12-30T15:37:31.839784Z"
    }
   },
   "outputs": [
    {
     "data": {
      "text/html": [
       "<div>\n",
       "<style scoped>\n",
       "    .dataframe tbody tr th:only-of-type {\n",
       "        vertical-align: middle;\n",
       "    }\n",
       "\n",
       "    .dataframe tbody tr th {\n",
       "        vertical-align: top;\n",
       "    }\n",
       "\n",
       "    .dataframe thead th {\n",
       "        text-align: right;\n",
       "    }\n",
       "</style>\n",
       "<table border=\"1\" class=\"dataframe\">\n",
       "  <thead>\n",
       "    <tr style=\"text-align: right;\">\n",
       "      <th></th>\n",
       "      <th>symboling</th>\n",
       "      <th>normalized-losses</th>\n",
       "      <th>num-of-doors</th>\n",
       "      <th>wheel-base</th>\n",
       "      <th>length</th>\n",
       "      <th>width</th>\n",
       "      <th>height</th>\n",
       "      <th>curb-weight</th>\n",
       "      <th>num-of-cylinders</th>\n",
       "      <th>engine-size</th>\n",
       "      <th>...</th>\n",
       "      <th>fuel-type-gas</th>\n",
       "      <th>aspiration-turbo</th>\n",
       "      <th>drive_4wd</th>\n",
       "      <th>drive_fwd</th>\n",
       "      <th>drive_rwd</th>\n",
       "      <th>body-style-cat</th>\n",
       "      <th>engine-location-cat</th>\n",
       "      <th>make-cat</th>\n",
       "      <th>fuel-system-cat</th>\n",
       "      <th>engine-type(ohc)</th>\n",
       "    </tr>\n",
       "  </thead>\n",
       "  <tbody>\n",
       "    <tr>\n",
       "      <th>0</th>\n",
       "      <td>3</td>\n",
       "      <td>122</td>\n",
       "      <td>2</td>\n",
       "      <td>88.6</td>\n",
       "      <td>0.811148</td>\n",
       "      <td>0.890278</td>\n",
       "      <td>0.816054</td>\n",
       "      <td>2548</td>\n",
       "      <td>4</td>\n",
       "      <td>130</td>\n",
       "      <td>...</td>\n",
       "      <td>1</td>\n",
       "      <td>0</td>\n",
       "      <td>0</td>\n",
       "      <td>0</td>\n",
       "      <td>1</td>\n",
       "      <td>0</td>\n",
       "      <td>0</td>\n",
       "      <td>0</td>\n",
       "      <td>5</td>\n",
       "      <td>1</td>\n",
       "    </tr>\n",
       "    <tr>\n",
       "      <th>1</th>\n",
       "      <td>3</td>\n",
       "      <td>122</td>\n",
       "      <td>2</td>\n",
       "      <td>88.6</td>\n",
       "      <td>0.811148</td>\n",
       "      <td>0.890278</td>\n",
       "      <td>0.816054</td>\n",
       "      <td>2548</td>\n",
       "      <td>4</td>\n",
       "      <td>130</td>\n",
       "      <td>...</td>\n",
       "      <td>1</td>\n",
       "      <td>0</td>\n",
       "      <td>0</td>\n",
       "      <td>0</td>\n",
       "      <td>1</td>\n",
       "      <td>0</td>\n",
       "      <td>0</td>\n",
       "      <td>0</td>\n",
       "      <td>5</td>\n",
       "      <td>1</td>\n",
       "    </tr>\n",
       "    <tr>\n",
       "      <th>2</th>\n",
       "      <td>1</td>\n",
       "      <td>122</td>\n",
       "      <td>2</td>\n",
       "      <td>94.5</td>\n",
       "      <td>0.822681</td>\n",
       "      <td>0.909722</td>\n",
       "      <td>0.876254</td>\n",
       "      <td>2823</td>\n",
       "      <td>6</td>\n",
       "      <td>152</td>\n",
       "      <td>...</td>\n",
       "      <td>1</td>\n",
       "      <td>0</td>\n",
       "      <td>0</td>\n",
       "      <td>0</td>\n",
       "      <td>1</td>\n",
       "      <td>2</td>\n",
       "      <td>0</td>\n",
       "      <td>0</td>\n",
       "      <td>5</td>\n",
       "      <td>1</td>\n",
       "    </tr>\n",
       "    <tr>\n",
       "      <th>3</th>\n",
       "      <td>2</td>\n",
       "      <td>164</td>\n",
       "      <td>4</td>\n",
       "      <td>99.8</td>\n",
       "      <td>0.848630</td>\n",
       "      <td>0.919444</td>\n",
       "      <td>0.908027</td>\n",
       "      <td>2337</td>\n",
       "      <td>4</td>\n",
       "      <td>109</td>\n",
       "      <td>...</td>\n",
       "      <td>1</td>\n",
       "      <td>0</td>\n",
       "      <td>0</td>\n",
       "      <td>1</td>\n",
       "      <td>0</td>\n",
       "      <td>3</td>\n",
       "      <td>0</td>\n",
       "      <td>1</td>\n",
       "      <td>5</td>\n",
       "      <td>1</td>\n",
       "    </tr>\n",
       "    <tr>\n",
       "      <th>4</th>\n",
       "      <td>2</td>\n",
       "      <td>164</td>\n",
       "      <td>4</td>\n",
       "      <td>99.4</td>\n",
       "      <td>0.848630</td>\n",
       "      <td>0.922222</td>\n",
       "      <td>0.908027</td>\n",
       "      <td>2824</td>\n",
       "      <td>5</td>\n",
       "      <td>136</td>\n",
       "      <td>...</td>\n",
       "      <td>1</td>\n",
       "      <td>0</td>\n",
       "      <td>1</td>\n",
       "      <td>0</td>\n",
       "      <td>0</td>\n",
       "      <td>3</td>\n",
       "      <td>0</td>\n",
       "      <td>1</td>\n",
       "      <td>5</td>\n",
       "      <td>1</td>\n",
       "    </tr>\n",
       "  </tbody>\n",
       "</table>\n",
       "<p>5 rows × 29 columns</p>\n",
       "</div>"
      ],
      "text/plain": [
       "   symboling  normalized-losses  num-of-doors  wheel-base    length     width  \\\n",
       "0          3                122             2        88.6  0.811148  0.890278   \n",
       "1          3                122             2        88.6  0.811148  0.890278   \n",
       "2          1                122             2        94.5  0.822681  0.909722   \n",
       "3          2                164             4        99.8  0.848630  0.919444   \n",
       "4          2                164             4        99.4  0.848630  0.922222   \n",
       "\n",
       "     height  curb-weight  num-of-cylinders  engine-size  ...  fuel-type-gas  \\\n",
       "0  0.816054         2548                 4          130  ...              1   \n",
       "1  0.816054         2548                 4          130  ...              1   \n",
       "2  0.876254         2823                 6          152  ...              1   \n",
       "3  0.908027         2337                 4          109  ...              1   \n",
       "4  0.908027         2824                 5          136  ...              1   \n",
       "\n",
       "   aspiration-turbo  drive_4wd  drive_fwd  drive_rwd  body-style-cat  \\\n",
       "0                 0          0          0          1               0   \n",
       "1                 0          0          0          1               0   \n",
       "2                 0          0          0          1               2   \n",
       "3                 0          0          1          0               3   \n",
       "4                 0          1          0          0               3   \n",
       "\n",
       "   engine-location-cat  make-cat fuel-system-cat  engine-type(ohc)  \n",
       "0                    0         0               5                 1  \n",
       "1                    0         0               5                 1  \n",
       "2                    0         0               5                 1  \n",
       "3                    0         1               5                 1  \n",
       "4                    0         1               5                 1  \n",
       "\n",
       "[5 rows x 29 columns]"
      ]
     },
     "execution_count": 56,
     "metadata": {},
     "output_type": "execute_result"
    }
   ],
   "source": [
    "df.drop(\"engine-type\", axis = 1, inplace=True)\n",
    "df.head()"
   ]
  },
  {
   "cell_type": "code",
   "execution_count": 57,
   "id": "7eda8195",
   "metadata": {
    "ExecuteTime": {
     "end_time": "2021-12-30T15:37:32.854592Z",
     "start_time": "2021-12-30T15:37:32.842891Z"
    }
   },
   "outputs": [
    {
     "data": {
      "text/plain": [
       "symboling                 int64\n",
       "normalized-losses         int64\n",
       "num-of-doors              int64\n",
       "wheel-base              float64\n",
       "length                  float64\n",
       "width                   float64\n",
       "height                  float64\n",
       "curb-weight               int64\n",
       "num-of-cylinders          int64\n",
       "engine-size               int64\n",
       "bore                    float64\n",
       "stroke                  float64\n",
       "compression-ratio       float64\n",
       "horsepower                int64\n",
       "peak-rpm                float64\n",
       "city-mpg                  int64\n",
       "highway-mpg               int64\n",
       "price                   float64\n",
       "horsepower-binned      category\n",
       "fuel-type-gas             uint8\n",
       "aspiration-turbo          uint8\n",
       "drive_4wd                 uint8\n",
       "drive_fwd                 uint8\n",
       "drive_rwd                 uint8\n",
       "body-style-cat             int8\n",
       "engine-location-cat        int8\n",
       "make-cat                   int8\n",
       "fuel-system-cat            int8\n",
       "engine-type(ohc)          int64\n",
       "dtype: object"
      ]
     },
     "execution_count": 57,
     "metadata": {},
     "output_type": "execute_result"
    }
   ],
   "source": [
    "df.dtypes"
   ]
  },
  {
   "cell_type": "markdown",
   "id": "1b57e981",
   "metadata": {},
   "source": [
    "## Analyzing Individual Feature Patterns using Visualization"
   ]
  },
  {
   "cell_type": "markdown",
   "id": "b4e1966b",
   "metadata": {},
   "source": [
    "<code>How to choose the right visualization method?</code><br>\n",
    "When visualizing individual variables, it is important to first understand what type of variable you are dealing with. This will help us find the right visualization method for that variable.\n",
    "</div>"
   ]
  },
  {
   "cell_type": "code",
   "execution_count": 58,
   "id": "be960fd1",
   "metadata": {
    "ExecuteTime": {
     "end_time": "2021-12-30T15:37:34.050237Z",
     "start_time": "2021-12-30T15:37:34.040863Z"
    }
   },
   "outputs": [
    {
     "name": "stdout",
     "output_type": "stream",
     "text": [
      "symboling                 int64\n",
      "normalized-losses         int64\n",
      "num-of-doors              int64\n",
      "wheel-base              float64\n",
      "length                  float64\n",
      "width                   float64\n",
      "height                  float64\n",
      "curb-weight               int64\n",
      "num-of-cylinders          int64\n",
      "engine-size               int64\n",
      "bore                    float64\n",
      "stroke                  float64\n",
      "compression-ratio       float64\n",
      "horsepower                int64\n",
      "peak-rpm                float64\n",
      "city-mpg                  int64\n",
      "highway-mpg               int64\n",
      "price                   float64\n",
      "horsepower-binned      category\n",
      "fuel-type-gas             uint8\n",
      "aspiration-turbo          uint8\n",
      "drive_4wd                 uint8\n",
      "drive_fwd                 uint8\n",
      "drive_rwd                 uint8\n",
      "body-style-cat             int8\n",
      "engine-location-cat        int8\n",
      "make-cat                   int8\n",
      "fuel-system-cat            int8\n",
      "engine-type(ohc)          int64\n",
      "dtype: object\n"
     ]
    }
   ],
   "source": [
    "# list the data types for each column\n",
    "print(df.dtypes)"
   ]
  },
  {
   "cell_type": "markdown",
   "id": "185cf31a",
   "metadata": {},
   "source": [
    "<b>Numerical variables:</b>\n",
    "\n",
    "<p>Continuous numerical variables are variables that may contain any value within some range. Continuous numerical variables can have the type <code>int64</code> or <code>float64</code>. A great way to visualize these variables is by using scatterplots with fitted lines.</p>\n",
    "\n",
    "<p>In order to start understanding the (linear) relationship between an individual variable and the price. We can do this by using \"regplot\", which plots the scatterplot plus the fitted regression line for the data.</p>\n",
    "</div>"
   ]
  },
  {
   "cell_type": "markdown",
   "id": "715d6b82",
   "metadata": {},
   "source": [
    "#### engine-size vs price"
   ]
  },
  {
   "cell_type": "code",
   "execution_count": 59,
   "id": "49a49723",
   "metadata": {
    "ExecuteTime": {
     "end_time": "2021-12-30T15:37:35.735511Z",
     "start_time": "2021-12-30T15:37:35.541050Z"
    }
   },
   "outputs": [
    {
     "name": "stdout",
     "output_type": "stream",
     "text": [
      "correlation between engine-size and price:\n"
     ]
    },
    {
     "data": {
      "text/html": [
       "<div>\n",
       "<style scoped>\n",
       "    .dataframe tbody tr th:only-of-type {\n",
       "        vertical-align: middle;\n",
       "    }\n",
       "\n",
       "    .dataframe tbody tr th {\n",
       "        vertical-align: top;\n",
       "    }\n",
       "\n",
       "    .dataframe thead th {\n",
       "        text-align: right;\n",
       "    }\n",
       "</style>\n",
       "<table border=\"1\" class=\"dataframe\">\n",
       "  <thead>\n",
       "    <tr style=\"text-align: right;\">\n",
       "      <th></th>\n",
       "      <th>engine-size</th>\n",
       "      <th>price</th>\n",
       "    </tr>\n",
       "  </thead>\n",
       "  <tbody>\n",
       "    <tr>\n",
       "      <th>engine-size</th>\n",
       "      <td>1.000000</td>\n",
       "      <td>0.872335</td>\n",
       "    </tr>\n",
       "    <tr>\n",
       "      <th>price</th>\n",
       "      <td>0.872335</td>\n",
       "      <td>1.000000</td>\n",
       "    </tr>\n",
       "  </tbody>\n",
       "</table>\n",
       "</div>"
      ],
      "text/plain": [
       "             engine-size     price\n",
       "engine-size     1.000000  0.872335\n",
       "price           0.872335  1.000000"
      ]
     },
     "execution_count": 59,
     "metadata": {},
     "output_type": "execute_result"
    },
    {
     "data": {
      "image/png": "[encoded data removed]",
      "text/plain": [
       "<Figure size 432x288 with 1 Axes>"
      ]
     },
     "metadata": {
      "needs_background": "light"
     },
     "output_type": "display_data"
    }
   ],
   "source": [
    "sns.regplot(x = 'engine-size', y = 'price', data = df)\n",
    "plt.ylim(0,) # y axis starts from zero\n",
    "print(\"correlation between engine-size and price:\")\n",
    "df[[\"engine-size\", \"price\"]].corr()"
   ]
  },
  {
   "cell_type": "markdown",
   "id": "ac2c4d88",
   "metadata": {},
   "source": [
    "As the engine-size goes up, the price goes up: this indicates a positive direct correlation between these two variables. Engine size seems like a pretty good predictor of price since the regression line is almost a perfect diagonal line.We can examine the correlation between engine-size and price and see it's approximately 0.87\n",
    "\n",
    "we can calculate the correlation between variables of type int64 or float64 using the method corr: The diagonal elements are always one\n"
   ]
  },
  {
   "cell_type": "markdown",
   "id": "97be3b93",
   "metadata": {},
   "source": [
    "#### highway-mpg vs price "
   ]
  },
  {
   "cell_type": "markdown",
   "id": "c779aef1",
   "metadata": {},
   "source": [
    "Highway mpg is a potential predictor variable of price\n",
    "Highway MPG: the average a car will get while driving on an open stretch of road without stopping or starting, typically at a higher speed. City MPG: the score a car will get on average in city conditions, with stopping and starting at lower speeds.\n",
    "\n"
   ]
  },
  {
   "cell_type": "code",
   "execution_count": 60,
   "id": "1c0c601b",
   "metadata": {
    "ExecuteTime": {
     "end_time": "2021-12-30T15:37:43.970052Z",
     "start_time": "2021-12-30T15:37:43.770514Z"
    }
   },
   "outputs": [
    {
     "name": "stdout",
     "output_type": "stream",
     "text": [
      "correlation between highway-mpg and price:\n"
     ]
    },
    {
     "data": {
      "text/html": [
       "<div>\n",
       "<style scoped>\n",
       "    .dataframe tbody tr th:only-of-type {\n",
       "        vertical-align: middle;\n",
       "    }\n",
       "\n",
       "    .dataframe tbody tr th {\n",
       "        vertical-align: top;\n",
       "    }\n",
       "\n",
       "    .dataframe thead th {\n",
       "        text-align: right;\n",
       "    }\n",
       "</style>\n",
       "<table border=\"1\" class=\"dataframe\">\n",
       "  <thead>\n",
       "    <tr style=\"text-align: right;\">\n",
       "      <th></th>\n",
       "      <th>highway-mpg</th>\n",
       "      <th>price</th>\n",
       "    </tr>\n",
       "  </thead>\n",
       "  <tbody>\n",
       "    <tr>\n",
       "      <th>highway-mpg</th>\n",
       "      <td>1.000000</td>\n",
       "      <td>-0.704692</td>\n",
       "    </tr>\n",
       "    <tr>\n",
       "      <th>price</th>\n",
       "      <td>-0.704692</td>\n",
       "      <td>1.000000</td>\n",
       "    </tr>\n",
       "  </tbody>\n",
       "</table>\n",
       "</div>"
      ],
      "text/plain": [
       "             highway-mpg     price\n",
       "highway-mpg     1.000000 -0.704692\n",
       "price          -0.704692  1.000000"
      ]
     },
     "execution_count": 60,
     "metadata": {},
     "output_type": "execute_result"
    },
    {
     "data": {
      "image/png": "[encoded data removed]",
      "text/plain": [
       "<Figure size 432x288 with 1 Axes>"
      ]
     },
     "metadata": {
      "needs_background": "light"
     },
     "output_type": "display_data"
    }
   ],
   "source": [
    "sns.regplot(x = 'highway-mpg', y = 'price',data = df)\n",
    "print('correlation between highway-mpg and price:')\n",
    "df[['highway-mpg', 'price']].corr()"
   ]
  },
  {
   "cell_type": "markdown",
   "id": "c6c0559d",
   "metadata": {},
   "source": [
    "As the `highway-mpg goes up, the price goes down: this indicates an inverse/negative relationship` between these two variables. Highway mpg could potentially be a predictor of price.We can examine the correlation between highway-mpg and price and see it's approximately `-0.704`"
   ]
  },
  {
   "cell_type": "markdown",
   "id": "a94d7397",
   "metadata": {},
   "source": [
    "#### peak-rpm vs price"
   ]
  },
  {
   "cell_type": "code",
   "execution_count": 61,
   "id": "37448e8d",
   "metadata": {
    "ExecuteTime": {
     "end_time": "2021-12-30T15:37:45.417423Z",
     "start_time": "2021-12-30T15:37:45.220801Z"
    }
   },
   "outputs": [
    {
     "name": "stdout",
     "output_type": "stream",
     "text": [
      "correlation between peak-rpm and price:\n"
     ]
    },
    {
     "data": {
      "text/html": [
       "<div>\n",
       "<style scoped>\n",
       "    .dataframe tbody tr th:only-of-type {\n",
       "        vertical-align: middle;\n",
       "    }\n",
       "\n",
       "    .dataframe tbody tr th {\n",
       "        vertical-align: top;\n",
       "    }\n",
       "\n",
       "    .dataframe thead th {\n",
       "        text-align: right;\n",
       "    }\n",
       "</style>\n",
       "<table border=\"1\" class=\"dataframe\">\n",
       "  <thead>\n",
       "    <tr style=\"text-align: right;\">\n",
       "      <th></th>\n",
       "      <th>peak-rpm</th>\n",
       "      <th>price</th>\n",
       "    </tr>\n",
       "  </thead>\n",
       "  <tbody>\n",
       "    <tr>\n",
       "      <th>peak-rpm</th>\n",
       "      <td>1.000000</td>\n",
       "      <td>-0.101616</td>\n",
       "    </tr>\n",
       "    <tr>\n",
       "      <th>price</th>\n",
       "      <td>-0.101616</td>\n",
       "      <td>1.000000</td>\n",
       "    </tr>\n",
       "  </tbody>\n",
       "</table>\n",
       "</div>"
      ],
      "text/plain": [
       "          peak-rpm     price\n",
       "peak-rpm  1.000000 -0.101616\n",
       "price    -0.101616  1.000000"
      ]
     },
     "execution_count": 61,
     "metadata": {},
     "output_type": "execute_result"
    },
    {
     "data": {
      "image/png": "[encoded data removed]",
      "text/plain": [
       "<Figure size 432x288 with 1 Axes>"
      ]
     },
     "metadata": {
      "needs_background": "light"
     },
     "output_type": "display_data"
    }
   ],
   "source": [
    "sns.regplot(x = 'peak-rpm', y = 'price', data = df)\n",
    "print('correlation between peak-rpm and price:')\n",
    "df[['peak-rpm','price']].corr()"
   ]
  },
  {
   "cell_type": "markdown",
   "id": "3301dba1",
   "metadata": {},
   "source": [
    "`Peak rpm does not seem like a good predictor of the price at all` since the regression line is close to horizontal. Also, the data points are very scattered and far from the fitted line, showing lots of variability. Therefore it's it is not a reliable variable.We can examine the `correlation` between peak-rp and price and see it's approximately `-0.101616`"
   ]
  },
  {
   "cell_type": "markdown",
   "id": "f23eeaca",
   "metadata": {},
   "source": [
    "#### stroke vs price"
   ]
  },
  {
   "cell_type": "code",
   "execution_count": 62,
   "id": "20b1ba7f",
   "metadata": {
    "ExecuteTime": {
     "end_time": "2021-12-30T15:37:47.025130Z",
     "start_time": "2021-12-30T15:37:46.826271Z"
    }
   },
   "outputs": [
    {
     "name": "stdout",
     "output_type": "stream",
     "text": [
      "correlation between stroke and prce :\n"
     ]
    },
    {
     "data": {
      "text/html": [
       "<div>\n",
       "<style scoped>\n",
       "    .dataframe tbody tr th:only-of-type {\n",
       "        vertical-align: middle;\n",
       "    }\n",
       "\n",
       "    .dataframe tbody tr th {\n",
       "        vertical-align: top;\n",
       "    }\n",
       "\n",
       "    .dataframe thead th {\n",
       "        text-align: right;\n",
       "    }\n",
       "</style>\n",
       "<table border=\"1\" class=\"dataframe\">\n",
       "  <thead>\n",
       "    <tr style=\"text-align: right;\">\n",
       "      <th></th>\n",
       "      <th>stroke</th>\n",
       "      <th>price</th>\n",
       "    </tr>\n",
       "  </thead>\n",
       "  <tbody>\n",
       "    <tr>\n",
       "      <th>stroke</th>\n",
       "      <td>1.000000</td>\n",
       "      <td>0.082269</td>\n",
       "    </tr>\n",
       "    <tr>\n",
       "      <th>price</th>\n",
       "      <td>0.082269</td>\n",
       "      <td>1.000000</td>\n",
       "    </tr>\n",
       "  </tbody>\n",
       "</table>\n",
       "</div>"
      ],
      "text/plain": [
       "          stroke     price\n",
       "stroke  1.000000  0.082269\n",
       "price   0.082269  1.000000"
      ]
     },
     "execution_count": 62,
     "metadata": {},
     "output_type": "execute_result"
    },
    {
     "data": {
      "image/png": "[encoded data removed]",
      "text/plain": [
       "<Figure size 432x288 with 1 Axes>"
      ]
     },
     "metadata": {
      "needs_background": "light"
     },
     "output_type": "display_data"
    }
   ],
   "source": [
    "print('correlation between stroke and prce :')\n",
    "\n",
    "# correlation results between \"price\" and \"stroke\" do you expect a linear relationship?\n",
    "sns.regplot(x = 'stroke', y = 'price', data = df)\n",
    "\n",
    "# correlation between x=\"stroke\", y=\"price\".\n",
    "df[['stroke','price']].corr()"
   ]
  },
  {
   "cell_type": "markdown",
   "id": "bec67ac7",
   "metadata": {},
   "source": [
    "`Stroke does not seem like a good predictor of the price at all` since the regression line is close to horizontal. Also, the data points are very scattered and far from the fitted line, showing lots of variability. Therefore it's it is not a reliable variable.We can examine the `correlation` between stroke and price and see it's approximately `0.08`"
   ]
  },
  {
   "cell_type": "markdown",
   "id": "95459019",
   "metadata": {},
   "source": [
    "<b>Categorical variables</b>\n",
    "<p>These are variables that describe a <code>characteristic</code> of a data unit, and are selected from a small group of categories. The categorical variables can have the type <code>object</code> or <code>int64</code>. A good way to visualize categorical variables is by using boxplots.\n",
    "</div>"
   ]
  },
  {
   "cell_type": "markdown",
   "id": "6382101c",
   "metadata": {},
   "source": [
    "#### body-style vs price"
   ]
  },
  {
   "cell_type": "code",
   "execution_count": 63,
   "id": "0903864e",
   "metadata": {
    "ExecuteTime": {
     "end_time": "2021-12-30T15:38:13.905028Z",
     "start_time": "2021-12-30T15:38:13.789960Z"
    }
   },
   "outputs": [
    {
     "data": {
      "text/plain": [
       "<AxesSubplot:xlabel='body-style-cat', ylabel='price'>"
      ]
     },
     "execution_count": 63,
     "metadata": {},
     "output_type": "execute_result"
    },
    {
     "data": {
      "image/png": "[encoded data removed]",
      "text/plain": [
       "<Figure size 432x288 with 1 Axes>"
      ]
     },
     "metadata": {
      "needs_background": "light"
     },
     "output_type": "display_data"
    }
   ],
   "source": [
    "sns.boxplot(x=\"body-style-cat\", y=\"price\", data=df)"
   ]
  },
  {
   "cell_type": "markdown",
   "id": "8bcf34ec",
   "metadata": {},
   "source": [
    "We see that the distributions of price between the different body-style categories have a significant overlap, \n",
    "and so body-style would not be a good predictor of price.\n"
   ]
  },
  {
   "cell_type": "markdown",
   "id": "4960cd42",
   "metadata": {},
   "source": [
    "\n",
    "Let's examine if <code>engine-location</code> as a predictor variable of <code>price</code> :"
   ]
  },
  {
   "cell_type": "markdown",
   "id": "1e80f909",
   "metadata": {},
   "source": [
    "#### engine-location vs price"
   ]
  },
  {
   "cell_type": "code",
   "execution_count": 64,
   "id": "89a3a4ad",
   "metadata": {
    "ExecuteTime": {
     "end_time": "2021-12-30T15:38:29.362769Z",
     "start_time": "2021-12-30T15:38:29.271176Z"
    }
   },
   "outputs": [
    {
     "data": {
      "text/plain": [
       "<AxesSubplot:xlabel='engine-location-cat', ylabel='price'>"
      ]
     },
     "execution_count": 64,
     "metadata": {},
     "output_type": "execute_result"
    },
    {
     "data": {
      "image/png": "[encoded data removed]",
      "text/plain": [
       "<Figure size 432x288 with 1 Axes>"
      ]
     },
     "metadata": {
      "needs_background": "light"
     },
     "output_type": "display_data"
    }
   ],
   "source": [
    "sns.boxplot(x = 'engine-location-cat', y = 'price', data = df)"
   ]
  },
  {
   "cell_type": "markdown",
   "id": "3c71f2df",
   "metadata": {},
   "source": [
    "Here we see that the distribution of price between these two `engine-location` \n",
    "categories, front and rear, are distinct enough to take engine-location as a \n",
    "`potential good predictor of price`.\n"
   ]
  },
  {
   "cell_type": "markdown",
   "id": "463606a4",
   "metadata": {},
   "source": [
    "Let's examine if <code>drive-wheels</code> as a predictor variable of <code>price</code> :\n",
    "\n",
    "A `drive wheel` is a wheel of a motor vehicle that transmits force, transforming torque into tractive force from the tires to the road, causing the vehicle to move."
   ]
  },
  {
   "cell_type": "markdown",
   "id": "4f199796",
   "metadata": {},
   "source": [
    "Here we see that the distribution of price between the different drive-wheels categories differs; as such `drive-wheels could potentially be a predictor of price.`"
   ]
  },
  {
   "cell_type": "markdown",
   "id": "e4398c1b",
   "metadata": {},
   "source": [
    "#### horsepower (binned) vs price"
   ]
  },
  {
   "cell_type": "code",
   "execution_count": 67,
   "id": "9f5e9756",
   "metadata": {
    "ExecuteTime": {
     "end_time": "2021-12-30T15:39:57.836603Z",
     "start_time": "2021-12-30T15:39:57.734476Z"
    }
   },
   "outputs": [
    {
     "data": {
      "text/plain": [
       "<AxesSubplot:xlabel='horsepower-binned', ylabel='price'>"
      ]
     },
     "execution_count": 67,
     "metadata": {},
     "output_type": "execute_result"
    },
    {
     "data": {
      "image/png": "[encoded data removed]",
      "text/plain": [
       "<Figure size 432x288 with 1 Axes>"
      ]
     },
     "metadata": {
      "needs_background": "light"
     },
     "output_type": "display_data"
    }
   ],
   "source": [
    "sns.boxplot(x = 'horsepower-binned', y = 'price', data = df)"
   ]
  },
  {
   "cell_type": "markdown",
   "id": "ffb5bd05",
   "metadata": {},
   "source": [
    "## Outlier Treatment"
   ]
  },
  {
   "cell_type": "code",
   "execution_count": 47,
   "id": "ca6cc1b1",
   "metadata": {
    "ExecuteTime": {
     "end_time": "2021-12-29T22:24:00.658267Z",
     "start_time": "2021-12-29T22:24:00.655356Z"
    }
   },
   "outputs": [],
   "source": [
    "# To be done....may be for horse power as its used in modeling\n",
    "# may be for others also"
   ]
  },
  {
   "cell_type": "code",
   "execution_count": null,
   "id": "e918aee6",
   "metadata": {},
   "outputs": [],
   "source": []
  },
  {
   "cell_type": "code",
   "execution_count": 68,
   "id": "887827c7",
   "metadata": {
    "ExecuteTime": {
     "end_time": "2021-12-30T15:43:39.450953Z",
     "start_time": "2021-12-30T15:43:39.439003Z"
    }
   },
   "outputs": [
    {
     "data": {
      "text/plain": [
       "symboling                 int64\n",
       "normalized-losses         int64\n",
       "num-of-doors              int64\n",
       "wheel-base              float64\n",
       "length                  float64\n",
       "width                   float64\n",
       "height                  float64\n",
       "curb-weight               int64\n",
       "num-of-cylinders          int64\n",
       "engine-size               int64\n",
       "bore                    float64\n",
       "stroke                  float64\n",
       "compression-ratio       float64\n",
       "horsepower                int64\n",
       "peak-rpm                float64\n",
       "city-mpg                  int64\n",
       "highway-mpg               int64\n",
       "price                   float64\n",
       "horsepower-binned      category\n",
       "fuel-type-gas             uint8\n",
       "aspiration-turbo          uint8\n",
       "drive_4wd                 uint8\n",
       "drive_fwd                 uint8\n",
       "drive_rwd                 uint8\n",
       "body-style-cat             int8\n",
       "engine-location-cat        int8\n",
       "make-cat                   int8\n",
       "fuel-system-cat            int8\n",
       "engine-type(ohc)          int64\n",
       "dtype: object"
      ]
     },
     "execution_count": 68,
     "metadata": {},
     "output_type": "execute_result"
    }
   ],
   "source": [
    "df.dtypes"
   ]
  },
  {
   "cell_type": "markdown",
   "id": "e4742824",
   "metadata": {},
   "source": [
    "# Divide data into feature and target"
   ]
  },
  {
   "cell_type": "code",
   "execution_count": 70,
   "id": "f9e576b1",
   "metadata": {
    "ExecuteTime": {
     "end_time": "2021-12-30T15:46:37.932698Z",
     "start_time": "2021-12-30T15:46:37.922194Z"
    }
   },
   "outputs": [],
   "source": [
    "# price is not the last column in df\n",
    "X=df[['symboling', 'normalized-losses','num-of-doors',\n",
    "      'wheel-base', 'length', 'width','height', 'curb-weight','num-of-cylinders',\n",
    "      'engine-size','bore', 'stroke', 'compression-ratio','horsepower',\n",
    "      'peak-rpm', 'city-mpg', 'highway-mpg','fuel-type-gas', 'aspiration-turbo', \n",
    "      'drive_4wd', 'drive_fwd', 'drive_rwd', 'body-style-cat', 'engine-location-cat',\n",
    "      'make-cat', 'fuel-system-cat', 'engine-type(ohc)']]  # Feature matrix\n",
    "y=df['price']  # Target vector"
   ]
  },
  {
   "cell_type": "code",
   "execution_count": 71,
   "id": "3df8cb1b",
   "metadata": {
    "ExecuteTime": {
     "end_time": "2021-12-30T15:46:39.681056Z",
     "start_time": "2021-12-30T15:46:39.655808Z"
    }
   },
   "outputs": [
    {
     "data": {
      "text/html": [
       "<div>\n",
       "<style scoped>\n",
       "    .dataframe tbody tr th:only-of-type {\n",
       "        vertical-align: middle;\n",
       "    }\n",
       "\n",
       "    .dataframe tbody tr th {\n",
       "        vertical-align: top;\n",
       "    }\n",
       "\n",
       "    .dataframe thead th {\n",
       "        text-align: right;\n",
       "    }\n",
       "</style>\n",
       "<table border=\"1\" class=\"dataframe\">\n",
       "  <thead>\n",
       "    <tr style=\"text-align: right;\">\n",
       "      <th></th>\n",
       "      <th>symboling</th>\n",
       "      <th>normalized-losses</th>\n",
       "      <th>num-of-doors</th>\n",
       "      <th>wheel-base</th>\n",
       "      <th>length</th>\n",
       "      <th>width</th>\n",
       "      <th>height</th>\n",
       "      <th>curb-weight</th>\n",
       "      <th>num-of-cylinders</th>\n",
       "      <th>engine-size</th>\n",
       "      <th>...</th>\n",
       "      <th>fuel-type-gas</th>\n",
       "      <th>aspiration-turbo</th>\n",
       "      <th>drive_4wd</th>\n",
       "      <th>drive_fwd</th>\n",
       "      <th>drive_rwd</th>\n",
       "      <th>body-style-cat</th>\n",
       "      <th>engine-location-cat</th>\n",
       "      <th>make-cat</th>\n",
       "      <th>fuel-system-cat</th>\n",
       "      <th>engine-type(ohc)</th>\n",
       "    </tr>\n",
       "  </thead>\n",
       "  <tbody>\n",
       "    <tr>\n",
       "      <th>0</th>\n",
       "      <td>3</td>\n",
       "      <td>122</td>\n",
       "      <td>2</td>\n",
       "      <td>88.6</td>\n",
       "      <td>0.811148</td>\n",
       "      <td>0.890278</td>\n",
       "      <td>0.816054</td>\n",
       "      <td>2548</td>\n",
       "      <td>4</td>\n",
       "      <td>130</td>\n",
       "      <td>...</td>\n",
       "      <td>1</td>\n",
       "      <td>0</td>\n",
       "      <td>0</td>\n",
       "      <td>0</td>\n",
       "      <td>1</td>\n",
       "      <td>0</td>\n",
       "      <td>0</td>\n",
       "      <td>0</td>\n",
       "      <td>5</td>\n",
       "      <td>1</td>\n",
       "    </tr>\n",
       "    <tr>\n",
       "      <th>1</th>\n",
       "      <td>3</td>\n",
       "      <td>122</td>\n",
       "      <td>2</td>\n",
       "      <td>88.6</td>\n",
       "      <td>0.811148</td>\n",
       "      <td>0.890278</td>\n",
       "      <td>0.816054</td>\n",
       "      <td>2548</td>\n",
       "      <td>4</td>\n",
       "      <td>130</td>\n",
       "      <td>...</td>\n",
       "      <td>1</td>\n",
       "      <td>0</td>\n",
       "      <td>0</td>\n",
       "      <td>0</td>\n",
       "      <td>1</td>\n",
       "      <td>0</td>\n",
       "      <td>0</td>\n",
       "      <td>0</td>\n",
       "      <td>5</td>\n",
       "      <td>1</td>\n",
       "    </tr>\n",
       "    <tr>\n",
       "      <th>2</th>\n",
       "      <td>1</td>\n",
       "      <td>122</td>\n",
       "      <td>2</td>\n",
       "      <td>94.5</td>\n",
       "      <td>0.822681</td>\n",
       "      <td>0.909722</td>\n",
       "      <td>0.876254</td>\n",
       "      <td>2823</td>\n",
       "      <td>6</td>\n",
       "      <td>152</td>\n",
       "      <td>...</td>\n",
       "      <td>1</td>\n",
       "      <td>0</td>\n",
       "      <td>0</td>\n",
       "      <td>0</td>\n",
       "      <td>1</td>\n",
       "      <td>2</td>\n",
       "      <td>0</td>\n",
       "      <td>0</td>\n",
       "      <td>5</td>\n",
       "      <td>1</td>\n",
       "    </tr>\n",
       "    <tr>\n",
       "      <th>3</th>\n",
       "      <td>2</td>\n",
       "      <td>164</td>\n",
       "      <td>4</td>\n",
       "      <td>99.8</td>\n",
       "      <td>0.848630</td>\n",
       "      <td>0.919444</td>\n",
       "      <td>0.908027</td>\n",
       "      <td>2337</td>\n",
       "      <td>4</td>\n",
       "      <td>109</td>\n",
       "      <td>...</td>\n",
       "      <td>1</td>\n",
       "      <td>0</td>\n",
       "      <td>0</td>\n",
       "      <td>1</td>\n",
       "      <td>0</td>\n",
       "      <td>3</td>\n",
       "      <td>0</td>\n",
       "      <td>1</td>\n",
       "      <td>5</td>\n",
       "      <td>1</td>\n",
       "    </tr>\n",
       "    <tr>\n",
       "      <th>4</th>\n",
       "      <td>2</td>\n",
       "      <td>164</td>\n",
       "      <td>4</td>\n",
       "      <td>99.4</td>\n",
       "      <td>0.848630</td>\n",
       "      <td>0.922222</td>\n",
       "      <td>0.908027</td>\n",
       "      <td>2824</td>\n",
       "      <td>5</td>\n",
       "      <td>136</td>\n",
       "      <td>...</td>\n",
       "      <td>1</td>\n",
       "      <td>0</td>\n",
       "      <td>1</td>\n",
       "      <td>0</td>\n",
       "      <td>0</td>\n",
       "      <td>3</td>\n",
       "      <td>0</td>\n",
       "      <td>1</td>\n",
       "      <td>5</td>\n",
       "      <td>1</td>\n",
       "    </tr>\n",
       "  </tbody>\n",
       "</table>\n",
       "<p>5 rows × 27 columns</p>\n",
       "</div>"
      ],
      "text/plain": [
       "   symboling  normalized-losses  num-of-doors  wheel-base    length     width  \\\n",
       "0          3                122             2        88.6  0.811148  0.890278   \n",
       "1          3                122             2        88.6  0.811148  0.890278   \n",
       "2          1                122             2        94.5  0.822681  0.909722   \n",
       "3          2                164             4        99.8  0.848630  0.919444   \n",
       "4          2                164             4        99.4  0.848630  0.922222   \n",
       "\n",
       "     height  curb-weight  num-of-cylinders  engine-size  ...  fuel-type-gas  \\\n",
       "0  0.816054         2548                 4          130  ...              1   \n",
       "1  0.816054         2548                 4          130  ...              1   \n",
       "2  0.876254         2823                 6          152  ...              1   \n",
       "3  0.908027         2337                 4          109  ...              1   \n",
       "4  0.908027         2824                 5          136  ...              1   \n",
       "\n",
       "   aspiration-turbo  drive_4wd  drive_fwd  drive_rwd  body-style-cat  \\\n",
       "0                 0          0          0          1               0   \n",
       "1                 0          0          0          1               0   \n",
       "2                 0          0          0          1               2   \n",
       "3                 0          0          1          0               3   \n",
       "4                 0          1          0          0               3   \n",
       "\n",
       "   engine-location-cat  make-cat  fuel-system-cat  engine-type(ohc)  \n",
       "0                    0         0                5                 1  \n",
       "1                    0         0                5                 1  \n",
       "2                    0         0                5                 1  \n",
       "3                    0         1                5                 1  \n",
       "4                    0         1                5                 1  \n",
       "\n",
       "[5 rows x 27 columns]"
      ]
     },
     "execution_count": 71,
     "metadata": {},
     "output_type": "execute_result"
    }
   ],
   "source": [
    "X.head()"
   ]
  },
  {
   "cell_type": "code",
   "execution_count": 72,
   "id": "8428c7eb",
   "metadata": {
    "ExecuteTime": {
     "end_time": "2021-12-30T15:46:45.676979Z",
     "start_time": "2021-12-30T15:46:45.667336Z"
    }
   },
   "outputs": [
    {
     "data": {
      "text/plain": [
       "0    13495.0\n",
       "1    16500.0\n",
       "2    16500.0\n",
       "3    13950.0\n",
       "4    17450.0\n",
       "Name: price, dtype: float64"
      ]
     },
     "execution_count": 72,
     "metadata": {},
     "output_type": "execute_result"
    }
   ],
   "source": [
    "y.head()"
   ]
  },
  {
   "cell_type": "markdown",
   "id": "a9c47910",
   "metadata": {},
   "source": [
    "# Split the train and test dataset into X and y"
   ]
  },
  {
   "cell_type": "code",
   "execution_count": 73,
   "id": "0dd7e376",
   "metadata": {
    "ExecuteTime": {
     "end_time": "2021-12-30T15:46:49.998030Z",
     "start_time": "2021-12-30T15:46:49.986466Z"
    }
   },
   "outputs": [
    {
     "name": "stdout",
     "output_type": "stream",
     "text": [
      "(140, 27)\n",
      "(61, 27)\n",
      "(140,)\n",
      "(61,)\n"
     ]
    }
   ],
   "source": [
    "X_train,X_test,y_train,y_test=model_selection.train_test_split(X,y,test_size=0.3)\n",
    "print(X_train.shape)\n",
    "print(X_test.shape)\n",
    "print(y_train.shape)\n",
    "print(y_test.shape)"
   ]
  },
  {
   "cell_type": "markdown",
   "id": "f560667b",
   "metadata": {
    "ExecuteTime": {
     "end_time": "2021-12-29T20:00:41.267078Z",
     "start_time": "2021-12-29T20:00:41.262374Z"
    }
   },
   "source": [
    "# Feature Selection"
   ]
  },
  {
   "cell_type": "markdown",
   "id": "519d5a0d",
   "metadata": {},
   "source": [
    "Feature selection yields a subset of features from the original set of features, which are the best representatives of the data.\n",
    "\n",
    "1. reduces overfitting ‘ The Curse of Dimensionality’ — If your dataset has more features/columns than samples (X), the model will be prone to overfitting. By removing irrelevant data/noise, the model gets to focus on essential features, leading to more generalization.\n",
    "\n",
    "\n",
    "2. simplifies models — Dimensionality adds many layers to a model, making it needlessly complicated. Overengineering is fun but they may not be better than their simpler counterparts. Simpler models are easier to interpret and debug.\n",
    "\n",
    "\n",
    "3. reduces training time — Lesser features/dimensions reduces the computation speed, speeding up model training."
   ]
  },
  {
   "cell_type": "markdown",
   "id": "3386cf67",
   "metadata": {},
   "source": [
    "## select KBest\n",
    "\n",
    "It returns the K important features based on mutual information technique or Anova or regression"
   ]
  },
  {
   "cell_type": "code",
   "execution_count": 74,
   "id": "72ef2df6",
   "metadata": {
    "ExecuteTime": {
     "end_time": "2021-12-30T15:46:54.860293Z",
     "start_time": "2021-12-30T15:46:54.774325Z"
    }
   },
   "outputs": [
    {
     "name": "stdout",
     "output_type": "stream",
     "text": [
      "[2.31946050e-01 1.76697968e-01 4.41280787e-04 5.86930883e-01\n",
      " 5.75185866e-01 6.74391437e-01 3.41960447e-01 8.95345428e-01\n",
      " 3.32262439e-01 8.57841273e-01 4.52378325e-01 3.80621674e-01\n",
      " 1.94193100e-01 8.66126039e-01 1.74821760e-01 7.58597230e-01\n",
      " 8.68822393e-01 3.85132109e-02 9.17028678e-02 1.04066861e-02\n",
      " 3.16270251e-01 3.07586921e-01 5.44129123e-02 0.00000000e+00\n",
      " 2.30817132e-01 4.57047299e-01 7.46358240e-02]\n",
      "Index(['wheel-base', 'length', 'width', 'curb-weight', 'engine-size', 'bore',\n",
      "       'horsepower', 'city-mpg', 'highway-mpg', 'fuel-system-cat'],\n",
      "      dtype='object')\n",
      "(201, 10)\n"
     ]
    }
   ],
   "source": [
    "#select features with k best mutual information technique\n",
    "from sklearn.feature_selection import mutual_info_regression\n",
    "from sklearn.feature_selection import SelectKBest\n",
    "selector= SelectKBest(mutual_info_regression, k=10)\n",
    "X_kbest=selector.fit_transform(X,y)\n",
    "mask = selector.get_support()    \n",
    "\n",
    "print(selector.scores_)\n",
    "new_features = X.columns[mask]\n",
    "print(new_features)   \n",
    "print(X_kbest.shape)  # k best features"
   ]
  },
  {
   "cell_type": "code",
   "execution_count": 75,
   "id": "c40aa26a",
   "metadata": {
    "ExecuteTime": {
     "end_time": "2021-12-30T15:47:05.046643Z",
     "start_time": "2021-12-30T15:47:04.997751Z"
    }
   },
   "outputs": [
    {
     "name": "stdout",
     "output_type": "stream",
     "text": [
      "[2.97086274e-01 4.02221991e-02 3.79370677e-02 5.11866027e-01\n",
      " 6.23923419e-01 5.52212002e-01 2.22565570e-01 9.45205617e-01\n",
      " 2.85941835e-01 8.25448459e-01 4.03997770e-01 3.38409327e-01\n",
      " 9.12715376e-02 7.70535403e-01 1.84549898e-01 6.09325106e-01\n",
      " 8.12725423e-01 4.33374258e-02 3.82576461e-02 0.00000000e+00\n",
      " 3.48016871e-01 3.60568919e-01 7.58111883e-02 8.88178420e-16\n",
      " 1.80537861e-01 4.01435342e-01 5.40496627e-02]\n",
      "Index(['wheel-base', 'length', 'width', 'curb-weight', 'engine-size', 'bore',\n",
      "       'horsepower', 'city-mpg', 'highway-mpg', 'fuel-system-cat'],\n",
      "      dtype='object')\n",
      "(140, 10)\n"
     ]
    }
   ],
   "source": [
    "#Applying kbest to the training set\n",
    "selector = SelectKBest(mutual_info_regression, k=10)\n",
    "X_train_kbest = selector.fit_transform(X_train, y_train)  \n",
    "\n",
    "#to get names of the selected features\n",
    "mask = selector.get_support()    \n",
    "print(selector.scores_)    \n",
    "new_features = X_train.columns[mask]\n",
    "print(new_features) \n",
    "print(X_train_kbest.shape) "
   ]
  },
  {
   "cell_type": "markdown",
   "id": "41fdba24",
   "metadata": {},
   "source": [
    "**10 selected features are: `'wheel-base', 'length', 'width', 'curb-weight', 'engine-size', 'bore','stroke', 'horsepower', 'city-mpg', 'highway-mpg'`**"
   ]
  },
  {
   "cell_type": "code",
   "execution_count": 76,
   "id": "62b2b34f",
   "metadata": {
    "ExecuteTime": {
     "end_time": "2021-12-30T15:47:23.115815Z",
     "start_time": "2021-12-30T15:47:23.096622Z"
    }
   },
   "outputs": [
    {
     "name": "stdout",
     "output_type": "stream",
     "text": [
      "(140, 27) (140, 10)\n",
      "Index(['wheel-base', 'length', 'width', 'curb-weight', 'num-of-cylinders',\n",
      "       'engine-size', 'horsepower', 'city-mpg', 'highway-mpg', 'drive_rwd'],\n",
      "      dtype='object')\n"
     ]
    }
   ],
   "source": [
    "#select features with k best ANOVA F-Values\n",
    "from sklearn.feature_selection import f_regression\n",
    "\n",
    "fvalue_selector = SelectKBest(f_regression, k=10) \n",
    "X_train_k_anova = fvalue_selector.fit_transform(X_train, y_train)\n",
    "print(X_train.shape, X_train_k_anova.shape)\n",
    "#to get names of the selected features\n",
    "mask = fvalue_selector.get_support()\n",
    "new_features1 = X_train.columns[mask]\n",
    "print(new_features1) "
   ]
  },
  {
   "cell_type": "markdown",
   "id": "99f68995",
   "metadata": {},
   "source": [
    "# Checking the Linear Regression Assumptions"
   ]
  },
  {
   "cell_type": "code",
   "execution_count": null,
   "id": "0b056338",
   "metadata": {},
   "outputs": [],
   "source": []
  },
  {
   "cell_type": "code",
   "execution_count": null,
   "id": "b2196ff6",
   "metadata": {},
   "outputs": [],
   "source": []
  },
  {
   "cell_type": "code",
   "execution_count": null,
   "id": "a7b92646",
   "metadata": {},
   "outputs": [],
   "source": []
  },
  {
   "cell_type": "markdown",
   "id": "3278307f",
   "metadata": {},
   "source": [
    "# Model Fitting"
   ]
  },
  {
   "cell_type": "code",
   "execution_count": 77,
   "id": "2570431e",
   "metadata": {
    "ExecuteTime": {
     "end_time": "2021-12-30T15:47:27.303418Z",
     "start_time": "2021-12-30T15:47:27.258149Z"
    }
   },
   "outputs": [
    {
     "name": "stdout",
     "output_type": "stream",
     "text": [
      "R^2: 0.903087467320807\n"
     ]
    }
   ],
   "source": [
    "# Fitting the LR model\n",
    "lr_model = LinearRegression()\n",
    "lr_model.fit(X, y)\n",
    "\n",
    "# Returning the R^2 for the model\n",
    "r2 = lr_model.score(X, y)\n",
    "print('R^2: {0}'.format(r2))"
   ]
  },
  {
   "cell_type": "code",
   "execution_count": 78,
   "id": "01f4c4fd",
   "metadata": {
    "ExecuteTime": {
     "end_time": "2021-12-30T15:47:28.716511Z",
     "start_time": "2021-12-30T15:47:28.700990Z"
    }
   },
   "outputs": [
    {
     "name": "stdout",
     "output_type": "stream",
     "text": [
      "R^2: 0.8209587049622002\n"
     ]
    }
   ],
   "source": [
    "# Fitting the LR model with 10 selected features (k_best mutual information technique)\n",
    "lr_model = LinearRegression()\n",
    "lr_model.fit(X_kbest, y)\n",
    "\n",
    "# Returning the R^2 for the model\n",
    "r2 = lr_model.score(X_kbest, y)\n",
    "print('R^2: {0}'.format(r2))"
   ]
  },
  {
   "cell_type": "code",
   "execution_count": 79,
   "id": "2da9fc54",
   "metadata": {
    "ExecuteTime": {
     "end_time": "2021-12-30T15:48:06.569195Z",
     "start_time": "2021-12-30T15:48:06.555482Z"
    }
   },
   "outputs": [
    {
     "name": "stdout",
     "output_type": "stream",
     "text": [
      "R^2: 0.8767923965183139\n"
     ]
    }
   ],
   "source": [
    "# Fitting the LR model with 10 selected features (k_best anova)\n",
    "lr_model1 = LinearRegression()\n",
    "lr_model1.fit(X_train_k_anova, y_train)\n",
    "\n",
    "# Returning the R^2 for the model\n",
    "r2 = lr_model1.score(X_train_k_anova, y_train)\n",
    "print('R^2: {0}'.format(r2))"
   ]
  },
  {
   "cell_type": "markdown",
   "id": "c6d2cc4d",
   "metadata": {},
   "source": [
    "R-Squared Score: means how much of the variation in the target variable that can be explained by the set of features used in training the model. **Higher the Rsquare better is the model**\n",
    "\n",
    "Above we are seeing that the R-Squared score is reducing from 85 to 82% while using selected features. **So, we can go ahead with all the 18 numerical features for modeling.** Still we can fit model with all and selected features, then decide."
   ]
  },
  {
   "cell_type": "markdown",
   "id": "6e1bef86",
   "metadata": {},
   "source": [
    "## Model Fitting on splitted data"
   ]
  },
  {
   "cell_type": "code",
   "execution_count": 80,
   "id": "3a69bfca",
   "metadata": {
    "ExecuteTime": {
     "end_time": "2021-12-30T15:48:14.067857Z",
     "start_time": "2021-12-30T15:48:14.044374Z"
    }
   },
   "outputs": [
    {
     "name": "stdout",
     "output_type": "stream",
     "text": [
      "training score--->0.9232030016809903\n",
      "testing score--->0.7599532725272331\n"
     ]
    }
   ],
   "source": [
    "# model with ALL features\n",
    "lr=LinearRegression()\n",
    "lr_model=lr.fit(X_train,y_train)\n",
    "pred=lr.predict(X_test)\n",
    "print(f\"training score--->{lr_model.score(X_train,y_train)}\")\n",
    "print(f\"testing score--->{lr_model.score(X_test,y_test)}\")"
   ]
  },
  {
   "cell_type": "code",
   "execution_count": 81,
   "id": "c441d7fd",
   "metadata": {
    "ExecuteTime": {
     "end_time": "2021-12-30T15:48:18.697862Z",
     "start_time": "2021-12-30T15:48:18.675435Z"
    }
   },
   "outputs": [
    {
     "name": "stdout",
     "output_type": "stream",
     "text": [
      "training score--->0.8593683663795404\n",
      "testing score--->0.6928525218684567\n"
     ]
    }
   ],
   "source": [
    "# model with selected features\n",
    "lr=LinearRegression()\n",
    "lr_model=lr.fit(X_train_kbest,y_train)\n",
    "pred=lr.predict(X_test[new_features])\n",
    "print(f\"training score--->{lr_model.score(X_train_kbest,y_train)}\")\n",
    "print(f\"testing score--->{lr_model.score(X_test[new_features],y_test)}\")"
   ]
  },
  {
   "cell_type": "markdown",
   "id": "b03eb52d",
   "metadata": {},
   "source": [
    "**Looking at the above scores, we can go ahead with `selected` features. Model with `all` features seems to be overfitting**"
   ]
  },
  {
   "cell_type": "markdown",
   "id": "c3d431d2",
   "metadata": {},
   "source": [
    "# Regularization\n",
    "\n",
    "As the model above with all features seems to be overfitting, we can try to regularize as below:"
   ]
  },
  {
   "cell_type": "markdown",
   "id": "b4ee8e59",
   "metadata": {},
   "source": [
    "## Ridge"
   ]
  },
  {
   "cell_type": "code",
   "execution_count": 82,
   "id": "16f0b1b3",
   "metadata": {
    "ExecuteTime": {
     "end_time": "2021-12-30T15:48:28.152085Z",
     "start_time": "2021-12-30T15:48:28.142213Z"
    }
   },
   "outputs": [],
   "source": [
    "from sklearn.pipeline import Pipeline\n",
    "pipe = Pipeline([(\"scaler\", StandardScaler()), (\"ridge\", Ridge())])"
   ]
  },
  {
   "cell_type": "code",
   "execution_count": 83,
   "id": "034e591d",
   "metadata": {
    "ExecuteTime": {
     "end_time": "2021-12-30T15:48:29.563202Z",
     "start_time": "2021-12-30T15:48:29.502764Z"
    }
   },
   "outputs": [
    {
     "name": "stdout",
     "output_type": "stream",
     "text": [
      "training score --->0.923202996391134\n",
      "testing score --->0.7599676279711597\n",
      "----------------------\n",
      "training score --->0.9232024889165733\n",
      "testing score --->0.7600929556919228\n",
      "----------------------\n",
      "training score --->0.9231642563877933\n",
      "testing score --->0.7610352926983805\n",
      "----------------------\n",
      "training score --->0.9222766808420572\n",
      "testing score --->0.7616236127871673\n",
      "----------------------\n",
      "training score --->0.916106077989353\n",
      "testing score --->0.7514456745476841\n",
      "----------------------\n",
      "training score --->0.883217305628554\n",
      "testing score --->0.6934928175014119\n",
      "----------------------\n",
      "training score --->0.6635322808452382\n",
      "testing score --->0.42368948019149044\n",
      "----------------------\n"
     ]
    }
   ],
   "source": [
    "# Ridge with ALL features\n",
    "alpha=[0.001,0.01,0.1,1,10,100,1000]\n",
    "for i in alpha:\n",
    "    pipe = Pipeline([(\"scaler\", StandardScaler()), \n",
    "                     (\"ridge\", Ridge(alpha=i))])\n",
    "    pipe.fit(X_train,y_train)\n",
    "    print(f\"training score --->{pipe.score(X_train,y_train)}\")\n",
    "    print(f\"testing score --->{pipe.score(X_test,y_test)}\")\n",
    "    print(\"----------------------\")"
   ]
  },
  {
   "cell_type": "code",
   "execution_count": 84,
   "id": "5c12e5ff",
   "metadata": {
    "ExecuteTime": {
     "end_time": "2021-12-30T15:48:31.967953Z",
     "start_time": "2021-12-30T15:48:31.927364Z"
    }
   },
   "outputs": [
    {
     "name": "stdout",
     "output_type": "stream",
     "text": [
      "training score --->0.8593683661587106\n",
      "testing score --->0.6928533723319772\n",
      "----------------------\n",
      "training score --->0.8593683443889626\n",
      "testing score --->0.692861025771597\n",
      "----------------------\n",
      "training score --->0.8593662556421076\n",
      "testing score --->0.6929374416033046\n",
      "----------------------\n",
      "training score --->0.8592175486475293\n",
      "testing score --->0.6936572106991572\n",
      "----------------------\n",
      "training score --->0.8552580016976497\n",
      "testing score --->0.6939423099913984\n",
      "----------------------\n",
      "training score --->0.814626045395734\n",
      "testing score --->0.6333059128241951\n",
      "----------------------\n",
      "training score --->0.5832400145273762\n",
      "testing score --->0.37081204729009454\n",
      "----------------------\n"
     ]
    }
   ],
   "source": [
    "# Ridge with selected features\n",
    "alpha=[0.001,0.01,0.1,1,10,100,1000]\n",
    "for i in alpha:\n",
    "    pipe = Pipeline([(\"scaler\", StandardScaler()), \n",
    "                     (\"ridge\", Ridge(alpha=i))])\n",
    "    pipe.fit(X_train_kbest,y_train)\n",
    "    print(f\"training score --->{pipe.score(X_train_kbest,y_train)}\")\n",
    "    print(f\"testing score --->{pipe.score(X_test[new_features],y_test)}\")\n",
    "    print(\"----------------------\")"
   ]
  },
  {
   "cell_type": "markdown",
   "id": "c7c85803",
   "metadata": {},
   "source": [
    "## Lasso"
   ]
  },
  {
   "cell_type": "code",
   "execution_count": 85,
   "id": "10594ca3",
   "metadata": {
    "ExecuteTime": {
     "end_time": "2021-12-30T15:48:37.158454Z",
     "start_time": "2021-12-30T15:48:37.051163Z"
    }
   },
   "outputs": [
    {
     "name": "stdout",
     "output_type": "stream",
     "text": [
      "training score --->0.9232030006960026\n",
      "testing score --->0.7599635495208501\n",
      "----------------------\n",
      "training score --->0.9232029968580869\n",
      "testing score --->0.7599717227862984\n",
      "----------------------\n",
      "training score --->0.9232027883478066\n",
      "testing score --->0.7600532978713838\n",
      "----------------------\n",
      "training score --->0.9231980490165554\n",
      "testing score --->0.7604182926312161\n",
      "----------------------\n",
      "training score --->0.923195875595486\n",
      "testing score --->0.7605097947259927\n",
      "----------------------\n",
      "training score --->0.9231933078912185\n",
      "testing score --->0.7606009305851721\n",
      "----------------------\n",
      "training score --->0.9231869964111872\n",
      "testing score --->0.7607817929317257\n",
      "----------------------\n",
      "training score --->0.9231832546773371\n",
      "testing score --->0.7608714990700923\n",
      "----------------------\n",
      "training score --->0.9221436420212014\n",
      "testing score --->0.7637187601868649\n",
      "----------------------\n",
      "training score --->0.9120448813172278\n",
      "testing score --->0.7359707955926388\n",
      "----------------------\n",
      "training score --->0.8402565733930983\n",
      "testing score --->0.6533870387918638\n",
      "----------------------\n"
     ]
    }
   ],
   "source": [
    "# Lasso with ALL features\n",
    "alpha=[0.001,0.01,0.1,0.5,0.6,0.7,0.9,1,10,100,1000]\n",
    "for i in alpha:\n",
    "    pipe = Pipeline([(\"scaler\", StandardScaler()), \n",
    "                     (\"lasso\", Lasso(alpha=i))])\n",
    "    pipe.fit(X_train,y_train)\n",
    "    print(f\"training score --->{pipe.score(X_train,y_train)}\")\n",
    "    print(f\"testing score --->{pipe.score(X_test,y_test)}\")\n",
    "    print(\"----------------------\")"
   ]
  },
  {
   "cell_type": "code",
   "execution_count": 86,
   "id": "f1685fc9",
   "metadata": {
    "ExecuteTime": {
     "end_time": "2021-12-30T15:48:41.322361Z",
     "start_time": "2021-12-30T15:48:41.271216Z"
    }
   },
   "outputs": [
    {
     "name": "stdout",
     "output_type": "stream",
     "text": [
      "training score --->0.8593683663758267\n",
      "testing score --->0.6928522860352588\n",
      "----------------------\n",
      "training score --->0.8593683660081842\n",
      "testing score --->0.692850163419219\n",
      "----------------------\n",
      "training score --->0.8593683292678636\n",
      "testing score --->0.6928289264678309\n",
      "----------------------\n",
      "training score --->0.8593674387307497\n",
      "testing score --->0.692734194833666\n",
      "----------------------\n",
      "training score --->0.859367030448486\n",
      "testing score --->0.6927103689899117\n",
      "----------------------\n",
      "training score --->0.8593665486806645\n",
      "testing score --->0.692686503245928\n",
      "----------------------\n",
      "training score --->0.8593653631816587\n",
      "testing score --->0.6926386344846743\n",
      "----------------------\n",
      "training score --->0.859364660059345\n",
      "testing score --->0.6926146663472517\n",
      "----------------------\n",
      "training score --->0.8590394148508963\n",
      "testing score --->0.6905713808589611\n",
      "----------------------\n",
      "training score --->0.8539070121060348\n",
      "testing score --->0.6937534881185305\n",
      "----------------------\n",
      "training score --->0.8195734610242609\n",
      "testing score --->0.6371777272015415\n",
      "----------------------\n"
     ]
    }
   ],
   "source": [
    "# Lasso with selected features\n",
    "alpha=[0.001,0.01,0.1,0.5,0.6,0.7,0.9,1,10,100,1000]\n",
    "for i in alpha:\n",
    "    pipe = Pipeline([(\"scaler\", StandardScaler()), \n",
    "                     (\"lasso\", Lasso(alpha=i))])\n",
    "    pipe.fit(X_train_kbest,y_train)\n",
    "    print(f\"training score --->{pipe.score(X_train_kbest,y_train)}\")\n",
    "    print(f\"testing score --->{pipe.score(X_test[new_features],y_test)}\")\n",
    "    print(\"----------------------\")"
   ]
  },
  {
   "cell_type": "code",
   "execution_count": 87,
   "id": "01fd292b",
   "metadata": {
    "ExecuteTime": {
     "end_time": "2021-12-30T15:48:46.879820Z",
     "start_time": "2021-12-30T15:48:46.594895Z"
    }
   },
   "outputs": [
    {
     "name": "stdout",
     "output_type": "stream",
     "text": [
      "{'alpha': 10}\n",
      "0.8622097222850413\n"
     ]
    }
   ],
   "source": [
    "# Lasso with ALL features- GridSearch Cross validation\n",
    "from sklearn.linear_model import Lasso\n",
    "from sklearn.model_selection import GridSearchCV\n",
    "\n",
    "lasso_all= Lasso()\n",
    "parameters = {'alpha':[0.001,0.01,0.1,0.5,0.6,0.7,0.9,1,10,100,1000]}\n",
    "lasso_model_all = GridSearchCV(lasso_all, parameters, scoring = 'r2',cv=5) \n",
    "lasso_model_all.fit(X_train,y_train)  \n",
    "pred = lasso_model_all.predict(X_test)\n",
    "print(lasso_model_all.best_params_)\n",
    "print(lasso_model_all.best_score_)"
   ]
  },
  {
   "cell_type": "code",
   "execution_count": 88,
   "id": "6e987c31",
   "metadata": {
    "ExecuteTime": {
     "end_time": "2021-12-30T15:48:47.919081Z",
     "start_time": "2021-12-30T15:48:47.840925Z"
    }
   },
   "outputs": [
    {
     "name": "stdout",
     "output_type": "stream",
     "text": [
      "{'alpha': 1000}\n",
      "0.8159317788165698\n"
     ]
    }
   ],
   "source": [
    "# Lasso with selected features- GridSearch Cross validation\n",
    "lasso_selected= Lasso()\n",
    "parameters = {'alpha':[0.001,0.01,0.1,0.5,0.6,0.7,0.9,1,10,100,1000]}\n",
    "lasso_model_sel = GridSearchCV(lasso_selected, parameters, scoring = 'r2',cv=5) \n",
    "lasso_model_sel.fit(X_train_kbest,y_train)  \n",
    "pred = lasso_model_sel.predict(X_test[new_features])\n",
    "print(lasso_model_sel.best_params_)\n",
    "print(lasso_model_sel.best_score_)"
   ]
  },
  {
   "cell_type": "markdown",
   "id": "53d68d0e",
   "metadata": {},
   "source": [
    "# Prediction and accuracy check"
   ]
  },
  {
   "cell_type": "markdown",
   "id": "f6dfe945",
   "metadata": {},
   "source": [
    "We've extracted the best estimator model and now we can use as a predictive model. We'll fit again with train data and check the accuracy metrics."
   ]
  },
  {
   "cell_type": "code",
   "execution_count": 89,
   "id": "4f192216",
   "metadata": {
    "ExecuteTime": {
     "end_time": "2021-12-30T15:48:52.132953Z",
     "start_time": "2021-12-30T15:48:52.107633Z"
    }
   },
   "outputs": [
    {
     "name": "stdout",
     "output_type": "stream",
     "text": [
      "Lasso(alpha=10)\n",
      "MSE: 3740585.40\n",
      "R2: 0.91\n",
      "MSE: 22779685.89\n",
      "R2: 0.76\n"
     ]
    }
   ],
   "source": [
    "best_estim=lasso_model_all.best_estimator_\n",
    "print(best_estim)\n",
    "\n",
    "best_estim.fit(X_train,y_train)\n",
    "\n",
    "ytr_pred=best_estim.predict(X_train)\n",
    "mse = mean_squared_error(ytr_pred,y_train)\n",
    "r2 = r2_score(ytr_pred,y_train)\n",
    "print(\"MSE: %.2f\" % mse)\n",
    "print(\"R2: %.2f\" % r2)\n",
    "\n",
    "ypred=best_estim.predict(X_test)\n",
    "mse = mean_squared_error(y_test, ypred)\n",
    "r2 = r2_score(y_test, ypred)\n",
    "print(\"MSE: %.2f\" % mse)\n",
    "print(\"R2: %.2f\" % r2)"
   ]
  },
  {
   "cell_type": "code",
   "execution_count": null,
   "id": "f4fec6f0",
   "metadata": {},
   "outputs": [],
   "source": []
  },
  {
   "cell_type": "code",
   "execution_count": null,
   "id": "db65d1d7",
   "metadata": {},
   "outputs": [],
   "source": []
  },
  {
   "cell_type": "markdown",
   "id": "4d44078f",
   "metadata": {},
   "source": [
    "# Conclusion"
   ]
  },
  {
   "cell_type": "code",
   "execution_count": null,
   "id": "f51a8c49",
   "metadata": {},
   "outputs": [],
   "source": []
  }
 ],
 "metadata": {
  "kernelspec": {
   "display_name": "Python 3 (ipykernel)",
   "language": "python",
   "name": "python3"
  },
  "language_info": {
   "codemirror_mode": {
    "name": "ipython",
    "version": 3
   },
   "file_extension": ".py",
   "mimetype": "text/x-python",
   "name": "python",
   "nbconvert_exporter": "python",
   "pygments_lexer": "ipython3",
   "version": "3.8.8"
  },
  "toc": {
   "base_numbering": 1,
   "nav_menu": {},
   "number_sections": true,
   "sideBar": true,
   "skip_h1_title": false,
   "title_cell": "Table of Contents",
   "title_sidebar": "Contents",
   "toc_cell": false,
   "toc_position": {
    "height": "calc(100% - 180px)",
    "left": "10px",
    "top": "150px",
    "width": "410.594px"
   },
   "toc_section_display": true,
   "toc_window_display": true
  },
  "varInspector": {
   "cols": {
    "lenName": 16,
    "lenType": 16,
    "lenVar": 40
   },
   "kernels_config": {
    "python": {
     "delete_cmd_postfix": "",
     "delete_cmd_prefix": "del ",
     "library": "var_list.py",
     "varRefreshCmd": "print(var_dic_list())"
    },
    "r": {
     "delete_cmd_postfix": ") ",
     "delete_cmd_prefix": "rm(",
     "library": "var_list.r",
     "varRefreshCmd": "cat(var_dic_list()) "
    }
   },
   "types_to_exclude": [
    "module",
    "function",
    "builtin_function_or_method",
    "instance",
    "_Feature"
   ],
   "window_display": false
  }
 },
 "nbformat": 4,
 "nbformat_minor": 5
}
